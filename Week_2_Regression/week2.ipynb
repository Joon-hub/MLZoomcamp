{
  "cells": [
    {
      "cell_type": "code",
      "execution_count": 1,
      "metadata": {
        "id": "7Tl-2l_H6pKB"
      },
      "outputs": [],
      "source": [
        "import pandas as pd\n",
        "import numpy as np\n",
        "from numpy.linalg import inv\n",
        "import matplotlib.pyplot as plt"
      ]
    },
    {
      "cell_type": "code",
      "execution_count": 2,
      "metadata": {
        "colab": {
          "base_uri": "https://localhost:8080/",
          "height": 329
        },
        "id": "qBB6SSeZ6pKC",
        "outputId": "6cdff98e-e09f-4485-fe1e-31a357868b98"
      },
      "outputs": [
        {
          "data": {
            "text/html": [
              "<div>\n",
              "<style scoped>\n",
              "    .dataframe tbody tr th:only-of-type {\n",
              "        vertical-align: middle;\n",
              "    }\n",
              "\n",
              "    .dataframe tbody tr th {\n",
              "        vertical-align: top;\n",
              "    }\n",
              "\n",
              "    .dataframe thead th {\n",
              "        text-align: right;\n",
              "    }\n",
              "</style>\n",
              "<table border=\"1\" class=\"dataframe\">\n",
              "  <thead>\n",
              "    <tr style=\"text-align: right;\">\n",
              "      <th></th>\n",
              "      <th>Make</th>\n",
              "      <th>Model</th>\n",
              "      <th>Year</th>\n",
              "      <th>Engine Fuel Type</th>\n",
              "      <th>Engine HP</th>\n",
              "      <th>Engine Cylinders</th>\n",
              "      <th>Transmission Type</th>\n",
              "      <th>Driven_Wheels</th>\n",
              "      <th>Number of Doors</th>\n",
              "      <th>Market Category</th>\n",
              "      <th>Vehicle Size</th>\n",
              "      <th>Vehicle Style</th>\n",
              "      <th>highway MPG</th>\n",
              "      <th>city mpg</th>\n",
              "      <th>Popularity</th>\n",
              "      <th>MSRP</th>\n",
              "    </tr>\n",
              "  </thead>\n",
              "  <tbody>\n",
              "    <tr>\n",
              "      <th>0</th>\n",
              "      <td>BMW</td>\n",
              "      <td>1 Series M</td>\n",
              "      <td>2011</td>\n",
              "      <td>premium unleaded (required)</td>\n",
              "      <td>335.0</td>\n",
              "      <td>6.0</td>\n",
              "      <td>MANUAL</td>\n",
              "      <td>rear wheel drive</td>\n",
              "      <td>2.0</td>\n",
              "      <td>Factory Tuner,Luxury,High-Performance</td>\n",
              "      <td>Compact</td>\n",
              "      <td>Coupe</td>\n",
              "      <td>26</td>\n",
              "      <td>19</td>\n",
              "      <td>3916</td>\n",
              "      <td>46135</td>\n",
              "    </tr>\n",
              "    <tr>\n",
              "      <th>1</th>\n",
              "      <td>BMW</td>\n",
              "      <td>1 Series</td>\n",
              "      <td>2011</td>\n",
              "      <td>premium unleaded (required)</td>\n",
              "      <td>300.0</td>\n",
              "      <td>6.0</td>\n",
              "      <td>MANUAL</td>\n",
              "      <td>rear wheel drive</td>\n",
              "      <td>2.0</td>\n",
              "      <td>Luxury,Performance</td>\n",
              "      <td>Compact</td>\n",
              "      <td>Convertible</td>\n",
              "      <td>28</td>\n",
              "      <td>19</td>\n",
              "      <td>3916</td>\n",
              "      <td>40650</td>\n",
              "    </tr>\n",
              "    <tr>\n",
              "      <th>2</th>\n",
              "      <td>BMW</td>\n",
              "      <td>1 Series</td>\n",
              "      <td>2011</td>\n",
              "      <td>premium unleaded (required)</td>\n",
              "      <td>300.0</td>\n",
              "      <td>6.0</td>\n",
              "      <td>MANUAL</td>\n",
              "      <td>rear wheel drive</td>\n",
              "      <td>2.0</td>\n",
              "      <td>Luxury,High-Performance</td>\n",
              "      <td>Compact</td>\n",
              "      <td>Coupe</td>\n",
              "      <td>28</td>\n",
              "      <td>20</td>\n",
              "      <td>3916</td>\n",
              "      <td>36350</td>\n",
              "    </tr>\n",
              "    <tr>\n",
              "      <th>3</th>\n",
              "      <td>BMW</td>\n",
              "      <td>1 Series</td>\n",
              "      <td>2011</td>\n",
              "      <td>premium unleaded (required)</td>\n",
              "      <td>230.0</td>\n",
              "      <td>6.0</td>\n",
              "      <td>MANUAL</td>\n",
              "      <td>rear wheel drive</td>\n",
              "      <td>2.0</td>\n",
              "      <td>Luxury,Performance</td>\n",
              "      <td>Compact</td>\n",
              "      <td>Coupe</td>\n",
              "      <td>28</td>\n",
              "      <td>18</td>\n",
              "      <td>3916</td>\n",
              "      <td>29450</td>\n",
              "    </tr>\n",
              "    <tr>\n",
              "      <th>4</th>\n",
              "      <td>BMW</td>\n",
              "      <td>1 Series</td>\n",
              "      <td>2011</td>\n",
              "      <td>premium unleaded (required)</td>\n",
              "      <td>230.0</td>\n",
              "      <td>6.0</td>\n",
              "      <td>MANUAL</td>\n",
              "      <td>rear wheel drive</td>\n",
              "      <td>2.0</td>\n",
              "      <td>Luxury</td>\n",
              "      <td>Compact</td>\n",
              "      <td>Convertible</td>\n",
              "      <td>28</td>\n",
              "      <td>18</td>\n",
              "      <td>3916</td>\n",
              "      <td>34500</td>\n",
              "    </tr>\n",
              "  </tbody>\n",
              "</table>\n",
              "</div>"
            ],
            "text/plain": [
              "  Make       Model  Year             Engine Fuel Type  Engine HP  \\\n",
              "0  BMW  1 Series M  2011  premium unleaded (required)      335.0   \n",
              "1  BMW    1 Series  2011  premium unleaded (required)      300.0   \n",
              "2  BMW    1 Series  2011  premium unleaded (required)      300.0   \n",
              "3  BMW    1 Series  2011  premium unleaded (required)      230.0   \n",
              "4  BMW    1 Series  2011  premium unleaded (required)      230.0   \n",
              "\n",
              "   Engine Cylinders Transmission Type     Driven_Wheels  Number of Doors  \\\n",
              "0               6.0            MANUAL  rear wheel drive              2.0   \n",
              "1               6.0            MANUAL  rear wheel drive              2.0   \n",
              "2               6.0            MANUAL  rear wheel drive              2.0   \n",
              "3               6.0            MANUAL  rear wheel drive              2.0   \n",
              "4               6.0            MANUAL  rear wheel drive              2.0   \n",
              "\n",
              "                         Market Category Vehicle Size Vehicle Style  \\\n",
              "0  Factory Tuner,Luxury,High-Performance      Compact         Coupe   \n",
              "1                     Luxury,Performance      Compact   Convertible   \n",
              "2                Luxury,High-Performance      Compact         Coupe   \n",
              "3                     Luxury,Performance      Compact         Coupe   \n",
              "4                                 Luxury      Compact   Convertible   \n",
              "\n",
              "   highway MPG  city mpg  Popularity   MSRP  \n",
              "0           26        19        3916  46135  \n",
              "1           28        19        3916  40650  \n",
              "2           28        20        3916  36350  \n",
              "3           28        18        3916  29450  \n",
              "4           28        18        3916  34500  "
            ]
          },
          "execution_count": 2,
          "metadata": {},
          "output_type": "execute_result"
        }
      ],
      "source": [
        "df = pd.read_csv('data.csv')\n",
        "df.head()"
      ]
    },
    {
      "cell_type": "code",
      "execution_count": 3,
      "metadata": {
        "colab": {
          "base_uri": "https://localhost:8080/",
          "height": 434
        },
        "id": "ZIkrzTGw6pKD",
        "outputId": "f046cec9-6d32-4ed9-bf26-524af9283d2a"
      },
      "outputs": [
        {
          "data": {
            "text/html": [
              "<div>\n",
              "<style scoped>\n",
              "    .dataframe tbody tr th:only-of-type {\n",
              "        vertical-align: middle;\n",
              "    }\n",
              "\n",
              "    .dataframe tbody tr th {\n",
              "        vertical-align: top;\n",
              "    }\n",
              "\n",
              "    .dataframe thead th {\n",
              "        text-align: right;\n",
              "    }\n",
              "</style>\n",
              "<table border=\"1\" class=\"dataframe\">\n",
              "  <thead>\n",
              "    <tr style=\"text-align: right;\">\n",
              "      <th></th>\n",
              "      <th>Make</th>\n",
              "      <th>Model</th>\n",
              "      <th>Year</th>\n",
              "      <th>Engine Fuel Type</th>\n",
              "      <th>Engine HP</th>\n",
              "      <th>Engine Cylinders</th>\n",
              "      <th>Transmission Type</th>\n",
              "      <th>Driven_Wheels</th>\n",
              "      <th>Number of Doors</th>\n",
              "      <th>Market Category</th>\n",
              "      <th>Vehicle Size</th>\n",
              "      <th>Vehicle Style</th>\n",
              "      <th>highway MPG</th>\n",
              "      <th>city mpg</th>\n",
              "      <th>Popularity</th>\n",
              "      <th>MSRP</th>\n",
              "    </tr>\n",
              "  </thead>\n",
              "  <tbody>\n",
              "    <tr>\n",
              "      <th>0</th>\n",
              "      <td>BMW</td>\n",
              "      <td>1 Series M</td>\n",
              "      <td>2011</td>\n",
              "      <td>premium unleaded (required)</td>\n",
              "      <td>335.0</td>\n",
              "      <td>6.0</td>\n",
              "      <td>MANUAL</td>\n",
              "      <td>rear wheel drive</td>\n",
              "      <td>2.0</td>\n",
              "      <td>Factory Tuner,Luxury,High-Performance</td>\n",
              "      <td>Compact</td>\n",
              "      <td>Coupe</td>\n",
              "      <td>26</td>\n",
              "      <td>19</td>\n",
              "      <td>3916</td>\n",
              "      <td>46135</td>\n",
              "    </tr>\n",
              "    <tr>\n",
              "      <th>1</th>\n",
              "      <td>BMW</td>\n",
              "      <td>1 Series</td>\n",
              "      <td>2011</td>\n",
              "      <td>premium unleaded (required)</td>\n",
              "      <td>300.0</td>\n",
              "      <td>6.0</td>\n",
              "      <td>MANUAL</td>\n",
              "      <td>rear wheel drive</td>\n",
              "      <td>2.0</td>\n",
              "      <td>Luxury,Performance</td>\n",
              "      <td>Compact</td>\n",
              "      <td>Convertible</td>\n",
              "      <td>28</td>\n",
              "      <td>19</td>\n",
              "      <td>3916</td>\n",
              "      <td>40650</td>\n",
              "    </tr>\n",
              "    <tr>\n",
              "      <th>2</th>\n",
              "      <td>BMW</td>\n",
              "      <td>1 Series</td>\n",
              "      <td>2011</td>\n",
              "      <td>premium unleaded (required)</td>\n",
              "      <td>300.0</td>\n",
              "      <td>6.0</td>\n",
              "      <td>MANUAL</td>\n",
              "      <td>rear wheel drive</td>\n",
              "      <td>2.0</td>\n",
              "      <td>Luxury,High-Performance</td>\n",
              "      <td>Compact</td>\n",
              "      <td>Coupe</td>\n",
              "      <td>28</td>\n",
              "      <td>20</td>\n",
              "      <td>3916</td>\n",
              "      <td>36350</td>\n",
              "    </tr>\n",
              "    <tr>\n",
              "      <th>3</th>\n",
              "      <td>BMW</td>\n",
              "      <td>1 Series</td>\n",
              "      <td>2011</td>\n",
              "      <td>premium unleaded (required)</td>\n",
              "      <td>230.0</td>\n",
              "      <td>6.0</td>\n",
              "      <td>MANUAL</td>\n",
              "      <td>rear wheel drive</td>\n",
              "      <td>2.0</td>\n",
              "      <td>Luxury,Performance</td>\n",
              "      <td>Compact</td>\n",
              "      <td>Coupe</td>\n",
              "      <td>28</td>\n",
              "      <td>18</td>\n",
              "      <td>3916</td>\n",
              "      <td>29450</td>\n",
              "    </tr>\n",
              "    <tr>\n",
              "      <th>4</th>\n",
              "      <td>BMW</td>\n",
              "      <td>1 Series</td>\n",
              "      <td>2011</td>\n",
              "      <td>premium unleaded (required)</td>\n",
              "      <td>230.0</td>\n",
              "      <td>6.0</td>\n",
              "      <td>MANUAL</td>\n",
              "      <td>rear wheel drive</td>\n",
              "      <td>2.0</td>\n",
              "      <td>Luxury</td>\n",
              "      <td>Compact</td>\n",
              "      <td>Convertible</td>\n",
              "      <td>28</td>\n",
              "      <td>18</td>\n",
              "      <td>3916</td>\n",
              "      <td>34500</td>\n",
              "    </tr>\n",
              "  </tbody>\n",
              "</table>\n",
              "</div>"
            ],
            "text/plain": [
              "  Make       Model  Year             Engine Fuel Type  Engine HP  \\\n",
              "0  BMW  1 Series M  2011  premium unleaded (required)      335.0   \n",
              "1  BMW    1 Series  2011  premium unleaded (required)      300.0   \n",
              "2  BMW    1 Series  2011  premium unleaded (required)      300.0   \n",
              "3  BMW    1 Series  2011  premium unleaded (required)      230.0   \n",
              "4  BMW    1 Series  2011  premium unleaded (required)      230.0   \n",
              "\n",
              "   Engine Cylinders Transmission Type     Driven_Wheels  Number of Doors  \\\n",
              "0               6.0            MANUAL  rear wheel drive              2.0   \n",
              "1               6.0            MANUAL  rear wheel drive              2.0   \n",
              "2               6.0            MANUAL  rear wheel drive              2.0   \n",
              "3               6.0            MANUAL  rear wheel drive              2.0   \n",
              "4               6.0            MANUAL  rear wheel drive              2.0   \n",
              "\n",
              "                         Market Category Vehicle Size Vehicle Style  \\\n",
              "0  Factory Tuner,Luxury,High-Performance      Compact         Coupe   \n",
              "1                     Luxury,Performance      Compact   Convertible   \n",
              "2                Luxury,High-Performance      Compact         Coupe   \n",
              "3                     Luxury,Performance      Compact         Coupe   \n",
              "4                                 Luxury      Compact   Convertible   \n",
              "\n",
              "   highway MPG  city mpg  Popularity   MSRP  \n",
              "0           26        19        3916  46135  \n",
              "1           28        19        3916  40650  \n",
              "2           28        20        3916  36350  \n",
              "3           28        18        3916  29450  \n",
              "4           28        18        3916  34500  "
            ]
          },
          "execution_count": 3,
          "metadata": {},
          "output_type": "execute_result"
        }
      ],
      "source": [
        "df = df[df['MSRP'] <= 100000]\n",
        "df.head()"
      ]
    },
    {
      "cell_type": "code",
      "execution_count": 4,
      "metadata": {
        "colab": {
          "base_uri": "https://localhost:8080/"
        },
        "id": "dGcH9tpN6pKD",
        "outputId": "a551d92c-9fde-4cdd-a755-cfcbd02bf2c5"
      },
      "outputs": [
        {
          "data": {
            "text/plain": [
              "(11276, 16)"
            ]
          },
          "execution_count": 4,
          "metadata": {},
          "output_type": "execute_result"
        }
      ],
      "source": [
        "df.shape"
      ]
    },
    {
      "cell_type": "code",
      "execution_count": 5,
      "metadata": {
        "colab": {
          "base_uri": "https://localhost:8080/"
        },
        "id": "YpeVKzO16pKD",
        "outputId": "eb201cab-51d4-47d8-dcfb-0abff1453e05"
      },
      "outputs": [
        {
          "data": {
            "text/plain": [
              "Index(['make', 'model', 'year', 'engine_fuel_type', 'engine_hp',\n",
              "       'engine_cylinders', 'transmission_type', 'driven_wheels',\n",
              "       'number_of_doors', 'market_category', 'vehicle_size', 'vehicle_style',\n",
              "       'highway_mpg', 'city_mpg', 'popularity', 'msrp'],\n",
              "      dtype='object')"
            ]
          },
          "execution_count": 5,
          "metadata": {},
          "output_type": "execute_result"
        }
      ],
      "source": [
        "# lower case column names and remove spaces between them\n",
        "df.columns = df.columns.str.lower().str.replace(' ','_')\n",
        "df.columns"
      ]
    },
    {
      "cell_type": "code",
      "execution_count": 6,
      "metadata": {
        "colab": {
          "base_uri": "https://localhost:8080/",
          "height": 330
        },
        "id": "JXT2ljXw6pKD",
        "outputId": "66321a5f-acf0-4b46-b7b0-68f57091b962"
      },
      "outputs": [
        {
          "data": {
            "text/html": [
              "<div>\n",
              "<style scoped>\n",
              "    .dataframe tbody tr th:only-of-type {\n",
              "        vertical-align: middle;\n",
              "    }\n",
              "\n",
              "    .dataframe tbody tr th {\n",
              "        vertical-align: top;\n",
              "    }\n",
              "\n",
              "    .dataframe thead th {\n",
              "        text-align: right;\n",
              "    }\n",
              "</style>\n",
              "<table border=\"1\" class=\"dataframe\">\n",
              "  <thead>\n",
              "    <tr style=\"text-align: right;\">\n",
              "      <th></th>\n",
              "      <th>make</th>\n",
              "      <th>model</th>\n",
              "      <th>year</th>\n",
              "      <th>engine_fuel_type</th>\n",
              "      <th>engine_hp</th>\n",
              "      <th>engine_cylinders</th>\n",
              "      <th>transmission_type</th>\n",
              "      <th>driven_wheels</th>\n",
              "      <th>number_of_doors</th>\n",
              "      <th>market_category</th>\n",
              "      <th>vehicle_size</th>\n",
              "      <th>vehicle_style</th>\n",
              "      <th>highway_mpg</th>\n",
              "      <th>city_mpg</th>\n",
              "      <th>popularity</th>\n",
              "      <th>msrp</th>\n",
              "    </tr>\n",
              "  </thead>\n",
              "  <tbody>\n",
              "    <tr>\n",
              "      <th>0</th>\n",
              "      <td>bmw</td>\n",
              "      <td>1 series m</td>\n",
              "      <td>2011</td>\n",
              "      <td>premium unleaded (required)</td>\n",
              "      <td>335.0</td>\n",
              "      <td>6.0</td>\n",
              "      <td>manual</td>\n",
              "      <td>rear wheel drive</td>\n",
              "      <td>2.0</td>\n",
              "      <td>factory tuner,luxury,high-performance</td>\n",
              "      <td>compact</td>\n",
              "      <td>coupe</td>\n",
              "      <td>26</td>\n",
              "      <td>19</td>\n",
              "      <td>3916</td>\n",
              "      <td>46135</td>\n",
              "    </tr>\n",
              "    <tr>\n",
              "      <th>1</th>\n",
              "      <td>bmw</td>\n",
              "      <td>1 series</td>\n",
              "      <td>2011</td>\n",
              "      <td>premium unleaded (required)</td>\n",
              "      <td>300.0</td>\n",
              "      <td>6.0</td>\n",
              "      <td>manual</td>\n",
              "      <td>rear wheel drive</td>\n",
              "      <td>2.0</td>\n",
              "      <td>luxury,performance</td>\n",
              "      <td>compact</td>\n",
              "      <td>convertible</td>\n",
              "      <td>28</td>\n",
              "      <td>19</td>\n",
              "      <td>3916</td>\n",
              "      <td>40650</td>\n",
              "    </tr>\n",
              "    <tr>\n",
              "      <th>2</th>\n",
              "      <td>bmw</td>\n",
              "      <td>1 series</td>\n",
              "      <td>2011</td>\n",
              "      <td>premium unleaded (required)</td>\n",
              "      <td>300.0</td>\n",
              "      <td>6.0</td>\n",
              "      <td>manual</td>\n",
              "      <td>rear wheel drive</td>\n",
              "      <td>2.0</td>\n",
              "      <td>luxury,high-performance</td>\n",
              "      <td>compact</td>\n",
              "      <td>coupe</td>\n",
              "      <td>28</td>\n",
              "      <td>20</td>\n",
              "      <td>3916</td>\n",
              "      <td>36350</td>\n",
              "    </tr>\n",
              "    <tr>\n",
              "      <th>3</th>\n",
              "      <td>bmw</td>\n",
              "      <td>1 series</td>\n",
              "      <td>2011</td>\n",
              "      <td>premium unleaded (required)</td>\n",
              "      <td>230.0</td>\n",
              "      <td>6.0</td>\n",
              "      <td>manual</td>\n",
              "      <td>rear wheel drive</td>\n",
              "      <td>2.0</td>\n",
              "      <td>luxury,performance</td>\n",
              "      <td>compact</td>\n",
              "      <td>coupe</td>\n",
              "      <td>28</td>\n",
              "      <td>18</td>\n",
              "      <td>3916</td>\n",
              "      <td>29450</td>\n",
              "    </tr>\n",
              "    <tr>\n",
              "      <th>4</th>\n",
              "      <td>bmw</td>\n",
              "      <td>1 series</td>\n",
              "      <td>2011</td>\n",
              "      <td>premium unleaded (required)</td>\n",
              "      <td>230.0</td>\n",
              "      <td>6.0</td>\n",
              "      <td>manual</td>\n",
              "      <td>rear wheel drive</td>\n",
              "      <td>2.0</td>\n",
              "      <td>luxury</td>\n",
              "      <td>compact</td>\n",
              "      <td>convertible</td>\n",
              "      <td>28</td>\n",
              "      <td>18</td>\n",
              "      <td>3916</td>\n",
              "      <td>34500</td>\n",
              "    </tr>\n",
              "  </tbody>\n",
              "</table>\n",
              "</div>"
            ],
            "text/plain": [
              "  make       model  year             engine_fuel_type  engine_hp  \\\n",
              "0  bmw  1 series m  2011  premium unleaded (required)      335.0   \n",
              "1  bmw    1 series  2011  premium unleaded (required)      300.0   \n",
              "2  bmw    1 series  2011  premium unleaded (required)      300.0   \n",
              "3  bmw    1 series  2011  premium unleaded (required)      230.0   \n",
              "4  bmw    1 series  2011  premium unleaded (required)      230.0   \n",
              "\n",
              "   engine_cylinders transmission_type     driven_wheels  number_of_doors  \\\n",
              "0               6.0            manual  rear wheel drive              2.0   \n",
              "1               6.0            manual  rear wheel drive              2.0   \n",
              "2               6.0            manual  rear wheel drive              2.0   \n",
              "3               6.0            manual  rear wheel drive              2.0   \n",
              "4               6.0            manual  rear wheel drive              2.0   \n",
              "\n",
              "                         market_category vehicle_size vehicle_style  \\\n",
              "0  factory tuner,luxury,high-performance      compact         coupe   \n",
              "1                     luxury,performance      compact   convertible   \n",
              "2                luxury,high-performance      compact         coupe   \n",
              "3                     luxury,performance      compact         coupe   \n",
              "4                                 luxury      compact   convertible   \n",
              "\n",
              "   highway_mpg  city_mpg  popularity   msrp  \n",
              "0           26        19        3916  46135  \n",
              "1           28        19        3916  40650  \n",
              "2           28        20        3916  36350  \n",
              "3           28        18        3916  29450  \n",
              "4           28        18        3916  34500  "
            ]
          },
          "execution_count": 6,
          "metadata": {},
          "output_type": "execute_result"
        }
      ],
      "source": [
        "# lower case column values\n",
        "for col in df.columns[df.dtypes == 'object']:\n",
        "    df[col] = df[col].str.lower()\n",
        "\n",
        "df.head()\n"
      ]
    },
    {
      "cell_type": "code",
      "execution_count": 7,
      "metadata": {
        "colab": {
          "base_uri": "https://localhost:8080/"
        },
        "id": "ELR5d2We6pKD",
        "outputId": "d0a45b9e-0aa2-41a4-9b6d-df39500afa15"
      },
      "outputs": [
        {
          "name": "stdout",
          "output_type": "stream",
          "text": [
            "['bmw' 'audi' 'fiat' 'mercedes-benz' 'chrysler']\n",
            "40\n",
            "\n",
            "['1 series m' '1 series' '100' '124 spider' '190-class']\n",
            "821\n",
            "\n",
            "[2011 2012 2013 1992 1993]\n",
            "28\n",
            "\n",
            "['premium unleaded (required)' 'regular unleaded'\n",
            " 'premium unleaded (recommended)' 'flex-fuel (unleaded/e85)' 'diesel']\n",
            "10\n",
            "\n",
            "[335. 300. 230. 320. 172.]\n",
            "295\n",
            "\n",
            "[6. 4. 5. 8. 0.]\n",
            "8\n",
            "\n",
            "['manual' 'automatic' 'automated_manual' 'direct_drive' 'unknown']\n",
            "5\n",
            "\n",
            "['rear wheel drive' 'front wheel drive' 'all wheel drive'\n",
            " 'four wheel drive']\n",
            "4\n",
            "\n",
            "[ 2.  4.  3. nan]\n",
            "3\n",
            "\n",
            "['factory tuner,luxury,high-performance' 'luxury,performance'\n",
            " 'luxury,high-performance' 'luxury' 'performance']\n",
            "62\n",
            "\n",
            "['compact' 'midsize' 'large']\n",
            "3\n",
            "\n",
            "['coupe' 'convertible' 'sedan' 'wagon' '4dr hatchback']\n",
            "16\n",
            "\n",
            "[26 28 27 25 24]\n",
            "57\n",
            "\n",
            "[19 20 18 17 16]\n",
            "62\n",
            "\n",
            "[3916 3105  819  617 1013]\n",
            "40\n",
            "\n",
            "[46135 40650 36350 29450 34500]\n",
            "5540\n",
            "\n"
          ]
        }
      ],
      "source": [
        "for col in df.columns:\n",
        "    print(df[col].unique()[:5])\n",
        "    print(df[col].nunique())\n",
        "    print('')\n"
      ]
    },
    {
      "cell_type": "markdown",
      "metadata": {
        "id": "SZ1mdcD16pKD"
      },
      "source": [
        "## 2.4 Split the dataset"
      ]
    },
    {
      "cell_type": "code",
      "execution_count": 8,
      "metadata": {
        "colab": {
          "base_uri": "https://localhost:8080/"
        },
        "id": "AtjwXZCR6pKE",
        "outputId": "7f714832-780b-4184-ceb5-f515bd40bf4e"
      },
      "outputs": [
        {
          "name": "stdout",
          "output_type": "stream",
          "text": [
            "(6766, 16) (2255, 16) (2255, 16)\n"
          ]
        }
      ],
      "source": [
        "# Splitting the dataframe\n",
        "df_train = df.sample(frac=0.6, random_state=42)  # 60% for training\n",
        "remaining_df = df.drop(df_train.index)  # Remaining 40%\n",
        "\n",
        "# From the remaining 40%, we split into 20% validation and 20% testing\n",
        "df_val = remaining_df.sample(frac=0.5, random_state=42)  # 50% of remaining 40% = 20% of original data\n",
        "df_test = remaining_df.drop(df_val.index)  # The rest for testing\n",
        "\n",
        "print(df_train.shape, df_val.shape, df_test.shape)\n"
      ]
    },
    {
      "cell_type": "code",
      "execution_count": 9,
      "metadata": {
        "colab": {
          "base_uri": "https://localhost:8080/",
          "height": 467
        },
        "id": "VGY04G2E6pKE",
        "outputId": "efeb7f84-33e7-4da8-f6d7-6ccd0a1434d1"
      },
      "outputs": [
        {
          "data": {
            "text/plain": [
              "Text(0, 0.5, 'b')"
            ]
          },
          "execution_count": 9,
          "metadata": {},
          "output_type": "execute_result"
        },
        {
          "data": {
            "image/png": "[encoded data removed]",
            "text/plain": [
              "<Figure size 640x480 with 1 Axes>"
            ]
          },
          "metadata": {},
          "output_type": "display_data"
        }
      ],
      "source": [
        "a= np.array([35,46,45,54,34,78])\n",
        "b = np.array([42,54,38,39,45,66])\n",
        "\n",
        "plt.scatter(a,b);\n",
        "plt.xlabel('a')\n",
        "plt.ylabel('b')"
      ]
    },
    {
      "cell_type": "code",
      "execution_count": 10,
      "metadata": {
        "colab": {
          "base_uri": "https://localhost:8080/"
        },
        "id": "MqVhbsnl6pKE",
        "outputId": "621ef31d-872c-42cc-e574-005722761f72"
      },
      "outputs": [
        {
          "name": "stdout",
          "output_type": "stream",
          "text": [
            "[[262.26666667 125.33333333]\n",
            " [125.33333333 116.66666667]]\n"
          ]
        }
      ],
      "source": [
        "a_mean = np.mean(a)\n",
        "b_mean = np.mean(a)\n",
        "\n",
        "a_var = np.var(a)\n",
        "b_var = np.var(b)\n",
        "\n",
        "ab_cov = np.cov(a,b)\n",
        "print(ab_cov)"
      ]
    },
    {
      "cell_type": "markdown",
      "metadata": {
        "id": "q_CByxxC6pKE"
      },
      "source": [
        "## 2.5 Foundational linear regression"
      ]
    },
    {
      "cell_type": "code",
      "execution_count": 11,
      "metadata": {
        "colab": {
          "base_uri": "https://localhost:8080/"
        },
        "id": "b2cpXEGb6pKE",
        "outputId": "342197d5-9ac6-42bf-e57c-7f8ebbed9f7b"
      },
      "outputs": [
        {
          "data": {
            "text/plain": [
              "514"
            ]
          },
          "execution_count": 11,
          "metadata": {},
          "output_type": "execute_result"
        }
      ],
      "source": [
        "xi = [453,22,32]\n",
        "w0 = 7\n",
        "w = [1,1,1]\n",
        "def linear_regression(xi):\n",
        "    n = len(xi)\n",
        "    pred = w0\n",
        "    for j in range(n):\n",
        "        pred = pred +w[j]*xi[j]\n",
        "    return pred\n",
        "\n",
        "linear_regression(xi)\n"
      ]
    },
    {
      "cell_type": "markdown",
      "metadata": {
        "id": "EqMOMNng6pKF"
      },
      "source": [
        "## 2.6 linear regression vector form"
      ]
    },
    {
      "cell_type": "code",
      "execution_count": 12,
      "metadata": {
        "id": "v5KYEZ3z6pKF"
      },
      "outputs": [],
      "source": [
        "def dot_product(xi, w):\n",
        "    result = 0.0\n",
        "\n",
        "    for j in range(len(xi)):\n",
        "        result = result + xi[j]*w[j]\n",
        "    return result"
      ]
    },
    {
      "cell_type": "code",
      "execution_count": 13,
      "metadata": {
        "colab": {
          "base_uri": "https://localhost:8080/"
        },
        "id": "ZC6GbrDd6pKF",
        "outputId": "d2dfddce-ec9e-4cb1-99d9-0aa147b2d739"
      },
      "outputs": [
        {
          "data": {
            "text/plain": [
              "16.0"
            ]
          },
          "execution_count": 13,
          "metadata": {},
          "output_type": "execute_result"
        }
      ],
      "source": [
        "xi = [2,4,8]\n",
        "w0 = 2\n",
        "w = [1,1,1]\n",
        "def linear_regression(xi):\n",
        "    pred = w0 + dot_product(xi,w) # np.dot(xi,w)\n",
        "    return pred\n",
        "\n",
        "linear_regression(xi)"
      ]
    },
    {
      "cell_type": "code",
      "execution_count": 14,
      "metadata": {},
      "outputs": [
        {
          "data": {
            "text/plain": [
              "[2, 1, 1, 1]"
            ]
          },
          "execution_count": 14,
          "metadata": {},
          "output_type": "execute_result"
        }
      ],
      "source": [
        "xi = [2,4,8]\n",
        "w0 = 2\n",
        "w = [1,1,1]\n",
        "\n",
        "w_new = [w0] + w\n",
        "w_new"
      ]
    },
    {
      "cell_type": "code",
      "execution_count": 15,
      "metadata": {
        "colab": {
          "base_uri": "https://localhost:8080/"
        },
        "id": "7gpLcp6o6pKF",
        "outputId": "84b0ef53-236e-4505-820d-d602a33f1d2c"
      },
      "outputs": [
        {
          "data": {
            "text/plain": [
              "16.0"
            ]
          },
          "execution_count": 15,
          "metadata": {},
          "output_type": "execute_result"
        }
      ],
      "source": [
        "def linear_regression(xi):\n",
        "    xi = [1] + xi  # 1 will be added to xi\n",
        "    return dot_product(xi, w_new) # 1 will be multiplied with w0\n",
        "\n",
        "linear_regression(xi)"
      ]
    },
    {
      "cell_type": "code",
      "execution_count": 16,
      "metadata": {
        "colab": {
          "base_uri": "https://localhost:8080/"
        },
        "id": "hiSPiypa6pKF",
        "outputId": "ff72c1ea-fbce-4fcf-fd07-112655c5d603"
      },
      "outputs": [
        {
          "name": "stdout",
          "output_type": "stream",
          "text": [
            "[[  1  15  66  78]\n",
            " [  1 132  45  67]\n",
            " [  1  67   9  88]] \n",
            "\n",
            "[3, 1, 1, 1]\n"
          ]
        }
      ],
      "source": [
        "x1 = [1,15,66,78]\n",
        "x2 = [1,132,45,67]\n",
        "x3 = [1,67,9,88]\n",
        "\n",
        "X = [x1,x2,x3]\n",
        "X = np.array(X)\n",
        "print(X,'\\n')\n",
        "\n",
        "w = [1,1,1]\n",
        "w0 = [3]\n",
        "w_new = w0+w\n",
        "print(w_new)"
      ]
    },
    {
      "cell_type": "code",
      "execution_count": 17,
      "metadata": {
        "colab": {
          "base_uri": "https://localhost:8080/"
        },
        "id": "nWbXZ-w36pKF",
        "outputId": "d9369e4a-b7b9-40ad-d949-28aa8751216c"
      },
      "outputs": [
        {
          "data": {
            "text/plain": [
              "array([162, 247, 167])"
            ]
          },
          "execution_count": 17,
          "metadata": {},
          "output_type": "execute_result"
        }
      ],
      "source": [
        "def linear_regression(X):\n",
        "    return np.dot(X,w_new)\n",
        "\n",
        "# predictions for 3 cars\n",
        "linear_regression(X)"
      ]
    },
    {
      "cell_type": "markdown",
      "metadata": {
        "id": "QS_hIGhE6pKF"
      },
      "source": [
        "## 2.7 Training linear regression model"
      ]
    },
    {
      "cell_type": "markdown",
      "metadata": {
        "id": "soYso4J56pKF"
      },
      "source": [
        "w = (XtX)-1 * Xt * y"
      ]
    },
    {
      "cell_type": "code",
      "execution_count": 18,
      "metadata": {
        "colab": {
          "base_uri": "https://localhost:8080/"
        },
        "id": "IuS4SkId6pKF",
        "outputId": "cf6a4d5d-df94-4a61-9e99-44a1f3db9681"
      },
      "outputs": [
        {
          "name": "stdout",
          "output_type": "stream",
          "text": [
            "X \n",
            " [[ 19  15  66  78]\n",
            " [ 81 132  45  67]\n",
            " [ 14  67   9  88]\n",
            " [  2  45  67  88]\n",
            " [ 12  66  77  88]\n",
            " [ 42  45  67  78]] \n",
            "\n",
            "X_bias \n",
            " [[  1.  19.  15.  66.  78.]\n",
            " [  1.  81. 132.  45.  67.]\n",
            " [  1.  14.  67.   9.  88.]\n",
            " [  1.   2.  45.  67.  88.]\n",
            " [  1.  12.  66.  77.  88.]\n",
            " [  1.  42.  45.  67.  78.]]\n",
            "Xt \n",
            " [[  1.   1.   1.   1.   1.   1.]\n",
            " [ 19.  81.  14.   2.  12.  42.]\n",
            " [ 15. 132.  67.  45.  66.  45.]\n",
            " [ 66.  45.   9.  67.  77.  67.]\n",
            " [ 78.  67.  88.  88.  88.  78.]]\n",
            "XtX \n",
            " [[6.0000e+00 1.7000e+02 3.7000e+02 3.3100e+02 4.8700e+02]\n",
            " [1.7000e+02 9.0300e+03 1.4687e+04 8.8970e+03 1.2649e+04]\n",
            " [3.7000e+02 1.4687e+04 3.0544e+04 1.8645e+04 2.9188e+04]\n",
            " [3.3100e+02 8.8970e+03 1.8645e+04 2.1369e+04 2.6853e+04]\n",
            " [4.8700e+02 1.2649e+04 2.9188e+04 2.6853e+04 3.9889e+04]]\n",
            "XtX shape:  (5, 5)\n",
            "XtX_inv \n",
            " [[ 3.64911472e+02 -1.46979720e+00  3.17898690e-01 -8.23023205e-02\n",
            "  -4.16629108e+00]\n",
            " [-1.46979720e+00  6.58293149e-03 -1.69456222e-03  1.28289906e-04\n",
            "   1.70106959e-02]\n",
            " [ 3.17898690e-01 -1.69456222e-03  6.48283530e-04  8.96105777e-05\n",
            "  -3.87852683e-03]\n",
            " [-8.23023205e-02  1.28289906e-04  8.96105777e-05  3.95129271e-04\n",
            "   6.32568659e-04]\n",
            " [-4.16629108e+00  1.70106959e-02 -3.87852683e-03  6.32568659e-04\n",
            "   4.79088354e-02]]\n",
            "XtX_inv_y \n",
            " [-7.3435e+02  2.0700e+00 -1.0000e-02  6.3000e-01  8.7300e+00]\n"
          ]
        }
      ],
      "source": [
        "import numpy as np\n",
        "\n",
        "# Defining the input matrix\n",
        "x1 = [19, 15, 66, 78]\n",
        "x2 = [81, 132, 45, 67]\n",
        "x3 = [14, 67, 9, 88]\n",
        "x4 = [2, 45, 67, 88]\n",
        "x5 = [12, 66, 77, 88]\n",
        "x6 = [42, 45, 67, 78]\n",
        "X = np.array([x1, x2, x3, x4, x5, x6])\n",
        "\n",
        "print('X \\n', X, '\\n')\n",
        "\n",
        "# Adding a bias term in X (column of ones for intercept)\n",
        "bias = np.ones(X.shape[0])\n",
        "X_bias = np.column_stack([bias, X])\n",
        "print('X_bias \\n', X_bias)\n",
        "\n",
        "# Transpose of X_bias\n",
        "Xt = np.transpose(X_bias)\n",
        "print('Xt \\n', Xt)\n",
        "\n",
        "# Calculate XtX using X_bias\n",
        "XtX = np.dot(Xt, X_bias)\n",
        "print('XtX \\n', XtX)\n",
        "\n",
        "# Check if XtX is square\n",
        "print('XtX shape: ', XtX.shape)\n",
        "\n",
        "# Compute inverse of XtX (it must be square)\n",
        "try:\n",
        "    XtX_inv = np.linalg.inv(XtX)\n",
        "    print('XtX_inv \\n', XtX_inv)\n",
        "except np.linalg.LinAlgError:\n",
        "    print('XtX is not invertible, possibly due to being singular.')\n",
        "\n",
        "# Target values\n",
        "y = np.array([23, 45, 66, 88, 99, 77])  # y should have the same length as the number of rows in X\n",
        "XtY = np.dot(Xt, y)\n",
        "\n",
        "# Check if XtX_inv exists before multiplication\n",
        "if 'XtX_inv' in locals():\n",
        "    XtX_inv_y = XtX_inv.dot(XtY).round(2)\n",
        "    print('XtX_inv_y \\n', XtX_inv_y)\n",
        "else:\n",
        "    print('XtX_inv is not defined, cannot compute XtX_inv_y.')\n"
      ]
    },
    {
      "cell_type": "code",
      "execution_count": 19,
      "metadata": {
        "colab": {
          "base_uri": "https://localhost:8080/"
        },
        "id": "U4p2GLSe6pKF",
        "outputId": "e8cd21ff-178d-41a8-b5c6-b9612e1e72be"
      },
      "outputs": [
        {
          "data": {
            "text/plain": [
              "array([3085.71414019,  -10.80663848,    7.73099249,    5.89888692,\n",
              "        -37.46849095])"
            ]
          },
          "execution_count": 19,
          "metadata": {},
          "output_type": "execute_result"
        }
      ],
      "source": [
        "def linear_regression(X):\n",
        "    bias = np.ones(X.shape[0])\n",
        "    X_bias = np.column_stack([bias,X])\n",
        "    y = [440,990,200,564,582,467]\n",
        "    Xt =  np.transpose(X_bias)\n",
        "    XtX = np.dot(Xt,X_bias)\n",
        "    XtX_inv = np.linalg.inv(XtX)\n",
        "    w = XtX_inv.dot(Xt).dot(y)\n",
        "    return w\n",
        "\n",
        "linear_regression(X)"
      ]
    },
    {
      "cell_type": "markdown",
      "metadata": {
        "id": "hps0X3qo6pKF"
      },
      "source": [
        "## 2.8 - Baseline Model for Car Price Prediction Project"
      ]
    },
    {
      "cell_type": "code",
      "execution_count": 20,
      "metadata": {
        "colab": {
          "base_uri": "https://localhost:8080/",
          "height": 244
        },
        "id": "7j27AwDL6pKF",
        "outputId": "feee51ce-5b97-41be-fc1e-856005921e58"
      },
      "outputs": [
        {
          "data": {
            "text/html": [
              "<div>\n",
              "<style scoped>\n",
              "    .dataframe tbody tr th:only-of-type {\n",
              "        vertical-align: middle;\n",
              "    }\n",
              "\n",
              "    .dataframe tbody tr th {\n",
              "        vertical-align: top;\n",
              "    }\n",
              "\n",
              "    .dataframe thead th {\n",
              "        text-align: right;\n",
              "    }\n",
              "</style>\n",
              "<table border=\"1\" class=\"dataframe\">\n",
              "  <thead>\n",
              "    <tr style=\"text-align: right;\">\n",
              "      <th></th>\n",
              "      <th>make</th>\n",
              "      <th>model</th>\n",
              "      <th>year</th>\n",
              "      <th>engine_fuel_type</th>\n",
              "      <th>engine_hp</th>\n",
              "      <th>engine_cylinders</th>\n",
              "      <th>transmission_type</th>\n",
              "      <th>driven_wheels</th>\n",
              "      <th>number_of_doors</th>\n",
              "      <th>market_category</th>\n",
              "      <th>vehicle_size</th>\n",
              "      <th>vehicle_style</th>\n",
              "      <th>highway_mpg</th>\n",
              "      <th>city_mpg</th>\n",
              "      <th>popularity</th>\n",
              "      <th>msrp</th>\n",
              "    </tr>\n",
              "  </thead>\n",
              "  <tbody>\n",
              "    <tr>\n",
              "      <th>3337</th>\n",
              "      <td>oldsmobile</td>\n",
              "      <td>cutlass</td>\n",
              "      <td>1999</td>\n",
              "      <td>regular unleaded</td>\n",
              "      <td>150.0</td>\n",
              "      <td>6.0</td>\n",
              "      <td>automatic</td>\n",
              "      <td>front wheel drive</td>\n",
              "      <td>4.0</td>\n",
              "      <td>NaN</td>\n",
              "      <td>midsize</td>\n",
              "      <td>sedan</td>\n",
              "      <td>26</td>\n",
              "      <td>17</td>\n",
              "      <td>26</td>\n",
              "      <td>2045</td>\n",
              "    </tr>\n",
              "    <tr>\n",
              "      <th>1006</th>\n",
              "      <td>volvo</td>\n",
              "      <td>960</td>\n",
              "      <td>1997</td>\n",
              "      <td>regular unleaded</td>\n",
              "      <td>181.0</td>\n",
              "      <td>6.0</td>\n",
              "      <td>automatic</td>\n",
              "      <td>rear wheel drive</td>\n",
              "      <td>4.0</td>\n",
              "      <td>luxury</td>\n",
              "      <td>midsize</td>\n",
              "      <td>wagon</td>\n",
              "      <td>24</td>\n",
              "      <td>16</td>\n",
              "      <td>870</td>\n",
              "      <td>2000</td>\n",
              "    </tr>\n",
              "    <tr>\n",
              "      <th>7136</th>\n",
              "      <td>mazda</td>\n",
              "      <td>navajo</td>\n",
              "      <td>1992</td>\n",
              "      <td>regular unleaded</td>\n",
              "      <td>155.0</td>\n",
              "      <td>6.0</td>\n",
              "      <td>manual</td>\n",
              "      <td>rear wheel drive</td>\n",
              "      <td>2.0</td>\n",
              "      <td>NaN</td>\n",
              "      <td>compact</td>\n",
              "      <td>2dr suv</td>\n",
              "      <td>20</td>\n",
              "      <td>15</td>\n",
              "      <td>586</td>\n",
              "      <td>2000</td>\n",
              "    </tr>\n",
              "    <tr>\n",
              "      <th>4996</th>\n",
              "      <td>nissan</td>\n",
              "      <td>frontier</td>\n",
              "      <td>2016</td>\n",
              "      <td>regular unleaded</td>\n",
              "      <td>152.0</td>\n",
              "      <td>4.0</td>\n",
              "      <td>automatic</td>\n",
              "      <td>rear wheel drive</td>\n",
              "      <td>4.0</td>\n",
              "      <td>NaN</td>\n",
              "      <td>compact</td>\n",
              "      <td>extended cab pickup</td>\n",
              "      <td>23</td>\n",
              "      <td>17</td>\n",
              "      <td>2009</td>\n",
              "      <td>20960</td>\n",
              "    </tr>\n",
              "    <tr>\n",
              "      <th>2763</th>\n",
              "      <td>chevrolet</td>\n",
              "      <td>colorado</td>\n",
              "      <td>2012</td>\n",
              "      <td>regular unleaded</td>\n",
              "      <td>242.0</td>\n",
              "      <td>5.0</td>\n",
              "      <td>automatic</td>\n",
              "      <td>rear wheel drive</td>\n",
              "      <td>4.0</td>\n",
              "      <td>NaN</td>\n",
              "      <td>compact</td>\n",
              "      <td>crew cab pickup</td>\n",
              "      <td>23</td>\n",
              "      <td>17</td>\n",
              "      <td>1385</td>\n",
              "      <td>27490</td>\n",
              "    </tr>\n",
              "  </tbody>\n",
              "</table>\n",
              "</div>"
            ],
            "text/plain": [
              "            make     model  year  engine_fuel_type  engine_hp  \\\n",
              "3337  oldsmobile   cutlass  1999  regular unleaded      150.0   \n",
              "1006       volvo       960  1997  regular unleaded      181.0   \n",
              "7136       mazda    navajo  1992  regular unleaded      155.0   \n",
              "4996      nissan  frontier  2016  regular unleaded      152.0   \n",
              "2763   chevrolet  colorado  2012  regular unleaded      242.0   \n",
              "\n",
              "      engine_cylinders transmission_type      driven_wheels  number_of_doors  \\\n",
              "3337               6.0         automatic  front wheel drive              4.0   \n",
              "1006               6.0         automatic   rear wheel drive              4.0   \n",
              "7136               6.0            manual   rear wheel drive              2.0   \n",
              "4996               4.0         automatic   rear wheel drive              4.0   \n",
              "2763               5.0         automatic   rear wheel drive              4.0   \n",
              "\n",
              "     market_category vehicle_size        vehicle_style  highway_mpg  city_mpg  \\\n",
              "3337             NaN      midsize                sedan           26        17   \n",
              "1006          luxury      midsize                wagon           24        16   \n",
              "7136             NaN      compact              2dr suv           20        15   \n",
              "4996             NaN      compact  extended cab pickup           23        17   \n",
              "2763             NaN      compact      crew cab pickup           23        17   \n",
              "\n",
              "      popularity   msrp  \n",
              "3337          26   2045  \n",
              "1006         870   2000  \n",
              "7136         586   2000  \n",
              "4996        2009  20960  \n",
              "2763        1385  27490  "
            ]
          },
          "execution_count": 20,
          "metadata": {},
          "output_type": "execute_result"
        }
      ],
      "source": [
        "df_train.head()"
      ]
    },
    {
      "cell_type": "code",
      "execution_count": 21,
      "metadata": {
        "colab": {
          "base_uri": "https://localhost:8080/",
          "height": 586
        },
        "id": "-5tO94Uk6pKG",
        "outputId": "62acb029-b631-447d-88e1-5f11eceec646"
      },
      "outputs": [
        {
          "data": {
            "text/plain": [
              "make                    0\n",
              "model                   0\n",
              "year                    0\n",
              "engine_fuel_type        1\n",
              "engine_hp              41\n",
              "engine_cylinders       17\n",
              "transmission_type       0\n",
              "driven_wheels           0\n",
              "number_of_doors         3\n",
              "market_category      2267\n",
              "vehicle_size            0\n",
              "vehicle_style           0\n",
              "highway_mpg             0\n",
              "city_mpg                0\n",
              "popularity              0\n",
              "msrp                    0\n",
              "dtype: int64"
            ]
          },
          "execution_count": 21,
          "metadata": {},
          "output_type": "execute_result"
        }
      ],
      "source": [
        "df_train.isna().sum()"
      ]
    },
    {
      "cell_type": "code",
      "execution_count": 22,
      "metadata": {
        "id": "jF7fPofw6pKG"
      },
      "outputs": [],
      "source": [
        "df_train.fillna(0, inplace= True)"
      ]
    },
    {
      "cell_type": "code",
      "execution_count": 23,
      "metadata": {
        "colab": {
          "base_uri": "https://localhost:8080/",
          "height": 586
        },
        "id": "DiRLg8pr6pKG",
        "outputId": "4dad7ccc-5adc-43bc-a2f4-8d1a7fe838a0"
      },
      "outputs": [
        {
          "data": {
            "text/plain": [
              "make                 0\n",
              "model                0\n",
              "year                 0\n",
              "engine_fuel_type     0\n",
              "engine_hp            0\n",
              "engine_cylinders     0\n",
              "transmission_type    0\n",
              "driven_wheels        0\n",
              "number_of_doors      0\n",
              "market_category      0\n",
              "vehicle_size         0\n",
              "vehicle_style        0\n",
              "highway_mpg          0\n",
              "city_mpg             0\n",
              "popularity           0\n",
              "msrp                 0\n",
              "dtype: int64"
            ]
          },
          "execution_count": 23,
          "metadata": {},
          "output_type": "execute_result"
        }
      ],
      "source": [
        "df_train.isna().sum()"
      ]
    },
    {
      "cell_type": "code",
      "execution_count": 24,
      "metadata": {
        "id": "Aps74jb_6pKG"
      },
      "outputs": [],
      "source": [
        "num_cols = df_train.columns[df_train.dtypes != 'object']\n",
        "df_train_num = df_train[num_cols]\n",
        "df_train_num\n",
        "\n",
        "X_train = df_train_num.drop(['msrp'], axis = 1).values\n",
        "y_train = df_train_num['msrp'].values\n"
      ]
    },
    {
      "cell_type": "code",
      "execution_count": 25,
      "metadata": {
        "colab": {
          "base_uri": "https://localhost:8080/"
        },
        "id": "B7qPVz1_6pKG",
        "outputId": "57ea4067-6afe-486c-8f9c-788ac932c7f2"
      },
      "outputs": [
        {
          "data": {
            "text/plain": [
              "(6766, 7)"
            ]
          },
          "execution_count": 25,
          "metadata": {},
          "output_type": "execute_result"
        }
      ],
      "source": [
        "X_train.shape"
      ]
    },
    {
      "cell_type": "code",
      "execution_count": 26,
      "metadata": {
        "colab": {
          "base_uri": "https://localhost:8080/"
        },
        "id": "48z3YMCb6pKG",
        "outputId": "28767b88-c996-4263-a98a-a3dbec9867af"
      },
      "outputs": [
        {
          "data": {
            "text/plain": [
              "(6766,)"
            ]
          },
          "execution_count": 26,
          "metadata": {},
          "output_type": "execute_result"
        }
      ],
      "source": [
        "y_train.shape"
      ]
    },
    {
      "cell_type": "code",
      "execution_count": 27,
      "metadata": {
        "colab": {
          "base_uri": "https://localhost:8080/"
        },
        "id": "DqQdFhRH6pKG",
        "outputId": "46dd8db3-e331-4487-c16f-1e2c18507ee7"
      },
      "outputs": [
        {
          "name": "stdout",
          "output_type": "stream",
          "text": [
            "(6766, 8)\n",
            "-1726721.6463633222\n",
            "[-1.72672165e+06  8.55326504e+02  1.38609652e+02  1.63578416e+00\n",
            "  1.33563366e+02  4.12600113e+01  2.46073965e+02 -5.95434709e-01]\n"
          ]
        }
      ],
      "source": [
        "def add_bias(X):\n",
        "    bias = np.ones(X.shape[0])\n",
        "    X = np.column_stack([bias,X])\n",
        "    return X\n",
        "\n",
        "def linear_regression_model(X,y):\n",
        "    Xt =  np.transpose(X)\n",
        "    XtX = np.dot(Xt,X)\n",
        "    XtX_inv = np.linalg.inv(XtX)\n",
        "    w = XtX_inv.dot(Xt).dot(y)\n",
        "    w0 = w[0]\n",
        "    return w,w0\n",
        "\n",
        "X_train_data = add_bias(X_train)\n",
        "w,w0 = linear_regression_model(X_train_data,y_train)\n",
        "print(X_train_data.shape)\n",
        "print(w0)\n",
        "print(w)"
      ]
    },
    {
      "cell_type": "code",
      "execution_count": 28,
      "metadata": {
        "id": "DfCukg1O6pKG"
      },
      "outputs": [],
      "source": [
        "y_pred = np.dot(X_train_data,w)"
      ]
    },
    {
      "cell_type": "code",
      "execution_count": 29,
      "metadata": {
        "colab": {
          "base_uri": "https://localhost:8080/",
          "height": 449
        },
        "id": "MEY3Uwu16pKG",
        "outputId": "79e8ce1e-1752-4b97-8839-ec621e78e486"
      },
      "outputs": [
        {
          "data": {
            "image/png": "[encoded data removed]",
            "text/plain": [
              "<Figure size 640x480 with 1 Axes>"
            ]
          },
          "metadata": {},
          "output_type": "display_data"
        }
      ],
      "source": [
        "import seaborn as sns\n",
        "sns.histplot(y_pred, bins = 50, color='blue', label='y_pred')\n",
        "sns.histplot(y_train, bins = 50, color='yellow', label='y')\n",
        "plt.xlabel('msrp')\n",
        "plt.legend()\n",
        "plt.show()\n",
        "\n"
      ]
    },
    {
      "cell_type": "markdown",
      "metadata": {
        "id": "iOzjM_tr6pKG"
      },
      "source": [
        "## 2.9 RMSE"
      ]
    },
    {
      "cell_type": "code",
      "execution_count": 30,
      "metadata": {
        "colab": {
          "base_uri": "https://localhost:8080/"
        },
        "id": "hkZbh0IK6pKG",
        "outputId": "cae7a109-17d6-4437-d19d-c461ce30fc74"
      },
      "outputs": [
        {
          "name": "stdout",
          "output_type": "stream",
          "text": [
            "0\n",
            "0\n"
          ]
        }
      ],
      "source": [
        "print(np.isnan(y_pred).sum())\n",
        "print(np.isnan(y_train).sum())"
      ]
    },
    {
      "cell_type": "code",
      "execution_count": 31,
      "metadata": {
        "colab": {
          "base_uri": "https://localhost:8080/"
        },
        "id": "rjKMbgTJ6pKG",
        "outputId": "2f4899fa-a4e4-4eb2-fd8e-9f7a87923a9a"
      },
      "outputs": [
        {
          "name": "stdout",
          "output_type": "stream",
          "text": [
            "10011.9\n"
          ]
        }
      ],
      "source": [
        "def rmse(y_pred,y):\n",
        "    rmse = np.sqrt(np.mean((y_pred - y) ** 2))\n",
        "    return rmse.round(2)\n",
        "\n",
        "print(rmse(y_pred,y_train))"
      ]
    },
    {
      "cell_type": "markdown",
      "metadata": {
        "id": "MJD87aOo6pKL"
      },
      "source": [
        "## 2.10 Computing RMSE on validation set"
      ]
    },
    {
      "cell_type": "code",
      "execution_count": 32,
      "metadata": {
        "colab": {
          "base_uri": "https://localhost:8080/"
        },
        "id": "RPNeatzd6pKL",
        "outputId": "cee0e3b7-efeb-49a4-9ae2-0159ac7e2fbe"
      },
      "outputs": [
        {
          "name": "stdout",
          "output_type": "stream",
          "text": [
            "(6766, 16)\n"
          ]
        }
      ],
      "source": [
        "print(df_train.shape)"
      ]
    },
    {
      "cell_type": "code",
      "execution_count": 33,
      "metadata": {
        "colab": {
          "base_uri": "https://localhost:8080/",
          "height": 278
        },
        "id": "kotcygNW6pKL",
        "outputId": "3ef54798-15f9-452c-d0ca-d54605681c8d"
      },
      "outputs": [
        {
          "data": {
            "text/html": [
              "<div>\n",
              "<style scoped>\n",
              "    .dataframe tbody tr th:only-of-type {\n",
              "        vertical-align: middle;\n",
              "    }\n",
              "\n",
              "    .dataframe tbody tr th {\n",
              "        vertical-align: top;\n",
              "    }\n",
              "\n",
              "    .dataframe thead th {\n",
              "        text-align: right;\n",
              "    }\n",
              "</style>\n",
              "<table border=\"1\" class=\"dataframe\">\n",
              "  <thead>\n",
              "    <tr style=\"text-align: right;\">\n",
              "      <th></th>\n",
              "      <th>make</th>\n",
              "      <th>model</th>\n",
              "      <th>year</th>\n",
              "      <th>engine_fuel_type</th>\n",
              "      <th>engine_hp</th>\n",
              "      <th>engine_cylinders</th>\n",
              "      <th>transmission_type</th>\n",
              "      <th>driven_wheels</th>\n",
              "      <th>number_of_doors</th>\n",
              "      <th>market_category</th>\n",
              "      <th>vehicle_size</th>\n",
              "      <th>vehicle_style</th>\n",
              "      <th>highway_mpg</th>\n",
              "      <th>city_mpg</th>\n",
              "      <th>popularity</th>\n",
              "      <th>msrp</th>\n",
              "    </tr>\n",
              "  </thead>\n",
              "  <tbody>\n",
              "    <tr>\n",
              "      <th>5134</th>\n",
              "      <td>infiniti</td>\n",
              "      <td>g35</td>\n",
              "      <td>2006</td>\n",
              "      <td>regular unleaded</td>\n",
              "      <td>298.0</td>\n",
              "      <td>6.0</td>\n",
              "      <td>manual</td>\n",
              "      <td>rear wheel drive</td>\n",
              "      <td>4.0</td>\n",
              "      <td>luxury,high-performance</td>\n",
              "      <td>midsize</td>\n",
              "      <td>sedan</td>\n",
              "      <td>24</td>\n",
              "      <td>17</td>\n",
              "      <td>190</td>\n",
              "      <td>31200</td>\n",
              "    </tr>\n",
              "    <tr>\n",
              "      <th>1572</th>\n",
              "      <td>chevrolet</td>\n",
              "      <td>avalanche</td>\n",
              "      <td>2010</td>\n",
              "      <td>flex-fuel (unleaded/e85)</td>\n",
              "      <td>320.0</td>\n",
              "      <td>8.0</td>\n",
              "      <td>automatic</td>\n",
              "      <td>rear wheel drive</td>\n",
              "      <td>4.0</td>\n",
              "      <td>crossover,flex fuel</td>\n",
              "      <td>large</td>\n",
              "      <td>crew cab pickup</td>\n",
              "      <td>21</td>\n",
              "      <td>15</td>\n",
              "      <td>1385</td>\n",
              "      <td>35725</td>\n",
              "    </tr>\n",
              "    <tr>\n",
              "      <th>409</th>\n",
              "      <td>mazda</td>\n",
              "      <td>3</td>\n",
              "      <td>2017</td>\n",
              "      <td>regular unleaded</td>\n",
              "      <td>184.0</td>\n",
              "      <td>4.0</td>\n",
              "      <td>manual</td>\n",
              "      <td>front wheel drive</td>\n",
              "      <td>4.0</td>\n",
              "      <td>hatchback,performance</td>\n",
              "      <td>compact</td>\n",
              "      <td>4dr hatchback</td>\n",
              "      <td>33</td>\n",
              "      <td>25</td>\n",
              "      <td>586</td>\n",
              "      <td>22395</td>\n",
              "    </tr>\n",
              "    <tr>\n",
              "      <th>768</th>\n",
              "      <td>audi</td>\n",
              "      <td>80</td>\n",
              "      <td>1991</td>\n",
              "      <td>regular unleaded</td>\n",
              "      <td>130.0</td>\n",
              "      <td>5.0</td>\n",
              "      <td>manual</td>\n",
              "      <td>front wheel drive</td>\n",
              "      <td>4.0</td>\n",
              "      <td>luxury</td>\n",
              "      <td>compact</td>\n",
              "      <td>sedan</td>\n",
              "      <td>24</td>\n",
              "      <td>18</td>\n",
              "      <td>3105</td>\n",
              "      <td>2000</td>\n",
              "    </tr>\n",
              "    <tr>\n",
              "      <th>1548</th>\n",
              "      <td>cadillac</td>\n",
              "      <td>ats</td>\n",
              "      <td>2016</td>\n",
              "      <td>premium unleaded (recommended)</td>\n",
              "      <td>272.0</td>\n",
              "      <td>4.0</td>\n",
              "      <td>automatic</td>\n",
              "      <td>rear wheel drive</td>\n",
              "      <td>4.0</td>\n",
              "      <td>luxury,performance</td>\n",
              "      <td>midsize</td>\n",
              "      <td>sedan</td>\n",
              "      <td>31</td>\n",
              "      <td>22</td>\n",
              "      <td>1624</td>\n",
              "      <td>43155</td>\n",
              "    </tr>\n",
              "  </tbody>\n",
              "</table>\n",
              "</div>"
            ],
            "text/plain": [
              "           make      model  year                engine_fuel_type  engine_hp  \\\n",
              "5134   infiniti        g35  2006                regular unleaded      298.0   \n",
              "1572  chevrolet  avalanche  2010        flex-fuel (unleaded/e85)      320.0   \n",
              "409       mazda          3  2017                regular unleaded      184.0   \n",
              "768        audi         80  1991                regular unleaded      130.0   \n",
              "1548   cadillac        ats  2016  premium unleaded (recommended)      272.0   \n",
              "\n",
              "      engine_cylinders transmission_type      driven_wheels  number_of_doors  \\\n",
              "5134               6.0            manual   rear wheel drive              4.0   \n",
              "1572               8.0         automatic   rear wheel drive              4.0   \n",
              "409                4.0            manual  front wheel drive              4.0   \n",
              "768                5.0            manual  front wheel drive              4.0   \n",
              "1548               4.0         automatic   rear wheel drive              4.0   \n",
              "\n",
              "              market_category vehicle_size    vehicle_style  highway_mpg  \\\n",
              "5134  luxury,high-performance      midsize            sedan           24   \n",
              "1572      crossover,flex fuel        large  crew cab pickup           21   \n",
              "409     hatchback,performance      compact    4dr hatchback           33   \n",
              "768                    luxury      compact            sedan           24   \n",
              "1548       luxury,performance      midsize            sedan           31   \n",
              "\n",
              "      city_mpg  popularity   msrp  \n",
              "5134        17         190  31200  \n",
              "1572        15        1385  35725  \n",
              "409         25         586  22395  \n",
              "768         18        3105   2000  \n",
              "1548        22        1624  43155  "
            ]
          },
          "execution_count": 33,
          "metadata": {},
          "output_type": "execute_result"
        }
      ],
      "source": [
        "df_val.head()"
      ]
    },
    {
      "cell_type": "code",
      "execution_count": 34,
      "metadata": {
        "id": "LhOWgfOd6pKL"
      },
      "outputs": [],
      "source": [
        "def preprae_X_y(df):\n",
        "    X = df.select_dtypes(exclude=['object'])\n",
        "    X.drop('msrp',axis =1, inplace = True)\n",
        "    X = X.fillna(0).values\n",
        "    y = df['msrp'].values\n",
        "    return X,y\n",
        "\n",
        "def rmse(y_pred, y_true):\n",
        "    return np.sqrt(np.mean((y_pred - y_true) ** 2))\n"
      ]
    },
    {
      "cell_type": "code",
      "execution_count": 35,
      "metadata": {
        "colab": {
          "base_uri": "https://localhost:8080/"
        },
        "id": "j0wKi_En6pKL",
        "outputId": "0b551cc4-ef8e-4782-b6ec-2607d0148e57"
      },
      "outputs": [
        {
          "data": {
            "text/plain": [
              "10190.67741581294"
            ]
          },
          "execution_count": 35,
          "metadata": {},
          "output_type": "execute_result"
        }
      ],
      "source": [
        "X_val_train,y_val = preprae_X_y(df_val)\n",
        "X_val_train_data = add_bias(X_val_train)\n",
        "y_pred = np.dot(X_val_train_data,w)\n",
        "rmse(y_pred,y_val)\n"
      ]
    },
    {
      "cell_type": "markdown",
      "metadata": {
        "id": "snksyfvI_DOF"
      },
      "source": [
        "## 2.11 Simple feature engineering"
      ]
    },
    {
      "cell_type": "code",
      "execution_count": 36,
      "metadata": {
        "colab": {
          "base_uri": "https://localhost:8080/",
          "height": 330
        },
        "id": "PhpvF0oX6pKM",
        "outputId": "e3b4425e-8d1e-4db1-fcc6-080d13026b5a"
      },
      "outputs": [
        {
          "data": {
            "text/html": [
              "<div>\n",
              "<style scoped>\n",
              "    .dataframe tbody tr th:only-of-type {\n",
              "        vertical-align: middle;\n",
              "    }\n",
              "\n",
              "    .dataframe tbody tr th {\n",
              "        vertical-align: top;\n",
              "    }\n",
              "\n",
              "    .dataframe thead th {\n",
              "        text-align: right;\n",
              "    }\n",
              "</style>\n",
              "<table border=\"1\" class=\"dataframe\">\n",
              "  <thead>\n",
              "    <tr style=\"text-align: right;\">\n",
              "      <th></th>\n",
              "      <th>make</th>\n",
              "      <th>model</th>\n",
              "      <th>year</th>\n",
              "      <th>engine_fuel_type</th>\n",
              "      <th>engine_hp</th>\n",
              "      <th>engine_cylinders</th>\n",
              "      <th>transmission_type</th>\n",
              "      <th>driven_wheels</th>\n",
              "      <th>number_of_doors</th>\n",
              "      <th>market_category</th>\n",
              "      <th>vehicle_size</th>\n",
              "      <th>vehicle_style</th>\n",
              "      <th>highway_mpg</th>\n",
              "      <th>city_mpg</th>\n",
              "      <th>popularity</th>\n",
              "      <th>msrp</th>\n",
              "    </tr>\n",
              "  </thead>\n",
              "  <tbody>\n",
              "    <tr>\n",
              "      <th>0</th>\n",
              "      <td>bmw</td>\n",
              "      <td>1 series m</td>\n",
              "      <td>2011</td>\n",
              "      <td>premium unleaded (required)</td>\n",
              "      <td>335.0</td>\n",
              "      <td>6.0</td>\n",
              "      <td>manual</td>\n",
              "      <td>rear wheel drive</td>\n",
              "      <td>2.0</td>\n",
              "      <td>factory tuner,luxury,high-performance</td>\n",
              "      <td>compact</td>\n",
              "      <td>coupe</td>\n",
              "      <td>26</td>\n",
              "      <td>19</td>\n",
              "      <td>3916</td>\n",
              "      <td>46135</td>\n",
              "    </tr>\n",
              "    <tr>\n",
              "      <th>1</th>\n",
              "      <td>bmw</td>\n",
              "      <td>1 series</td>\n",
              "      <td>2011</td>\n",
              "      <td>premium unleaded (required)</td>\n",
              "      <td>300.0</td>\n",
              "      <td>6.0</td>\n",
              "      <td>manual</td>\n",
              "      <td>rear wheel drive</td>\n",
              "      <td>2.0</td>\n",
              "      <td>luxury,performance</td>\n",
              "      <td>compact</td>\n",
              "      <td>convertible</td>\n",
              "      <td>28</td>\n",
              "      <td>19</td>\n",
              "      <td>3916</td>\n",
              "      <td>40650</td>\n",
              "    </tr>\n",
              "    <tr>\n",
              "      <th>2</th>\n",
              "      <td>bmw</td>\n",
              "      <td>1 series</td>\n",
              "      <td>2011</td>\n",
              "      <td>premium unleaded (required)</td>\n",
              "      <td>300.0</td>\n",
              "      <td>6.0</td>\n",
              "      <td>manual</td>\n",
              "      <td>rear wheel drive</td>\n",
              "      <td>2.0</td>\n",
              "      <td>luxury,high-performance</td>\n",
              "      <td>compact</td>\n",
              "      <td>coupe</td>\n",
              "      <td>28</td>\n",
              "      <td>20</td>\n",
              "      <td>3916</td>\n",
              "      <td>36350</td>\n",
              "    </tr>\n",
              "    <tr>\n",
              "      <th>3</th>\n",
              "      <td>bmw</td>\n",
              "      <td>1 series</td>\n",
              "      <td>2011</td>\n",
              "      <td>premium unleaded (required)</td>\n",
              "      <td>230.0</td>\n",
              "      <td>6.0</td>\n",
              "      <td>manual</td>\n",
              "      <td>rear wheel drive</td>\n",
              "      <td>2.0</td>\n",
              "      <td>luxury,performance</td>\n",
              "      <td>compact</td>\n",
              "      <td>coupe</td>\n",
              "      <td>28</td>\n",
              "      <td>18</td>\n",
              "      <td>3916</td>\n",
              "      <td>29450</td>\n",
              "    </tr>\n",
              "    <tr>\n",
              "      <th>4</th>\n",
              "      <td>bmw</td>\n",
              "      <td>1 series</td>\n",
              "      <td>2011</td>\n",
              "      <td>premium unleaded (required)</td>\n",
              "      <td>230.0</td>\n",
              "      <td>6.0</td>\n",
              "      <td>manual</td>\n",
              "      <td>rear wheel drive</td>\n",
              "      <td>2.0</td>\n",
              "      <td>luxury</td>\n",
              "      <td>compact</td>\n",
              "      <td>convertible</td>\n",
              "      <td>28</td>\n",
              "      <td>18</td>\n",
              "      <td>3916</td>\n",
              "      <td>34500</td>\n",
              "    </tr>\n",
              "  </tbody>\n",
              "</table>\n",
              "</div>"
            ],
            "text/plain": [
              "  make       model  year             engine_fuel_type  engine_hp  \\\n",
              "0  bmw  1 series m  2011  premium unleaded (required)      335.0   \n",
              "1  bmw    1 series  2011  premium unleaded (required)      300.0   \n",
              "2  bmw    1 series  2011  premium unleaded (required)      300.0   \n",
              "3  bmw    1 series  2011  premium unleaded (required)      230.0   \n",
              "4  bmw    1 series  2011  premium unleaded (required)      230.0   \n",
              "\n",
              "   engine_cylinders transmission_type     driven_wheels  number_of_doors  \\\n",
              "0               6.0            manual  rear wheel drive              2.0   \n",
              "1               6.0            manual  rear wheel drive              2.0   \n",
              "2               6.0            manual  rear wheel drive              2.0   \n",
              "3               6.0            manual  rear wheel drive              2.0   \n",
              "4               6.0            manual  rear wheel drive              2.0   \n",
              "\n",
              "                         market_category vehicle_size vehicle_style  \\\n",
              "0  factory tuner,luxury,high-performance      compact         coupe   \n",
              "1                     luxury,performance      compact   convertible   \n",
              "2                luxury,high-performance      compact         coupe   \n",
              "3                     luxury,performance      compact         coupe   \n",
              "4                                 luxury      compact   convertible   \n",
              "\n",
              "   highway_mpg  city_mpg  popularity   msrp  \n",
              "0           26        19        3916  46135  \n",
              "1           28        19        3916  40650  \n",
              "2           28        20        3916  36350  \n",
              "3           28        18        3916  29450  \n",
              "4           28        18        3916  34500  "
            ]
          },
          "execution_count": 36,
          "metadata": {},
          "output_type": "execute_result"
        }
      ],
      "source": [
        "df.head()"
      ]
    },
    {
      "cell_type": "code",
      "execution_count": 37,
      "metadata": {
        "colab": {
          "base_uri": "https://localhost:8080/"
        },
        "id": "RRDaNbwz6pKM",
        "outputId": "98855b7a-c270-4c90-b354-3ef0860a16e6"
      },
      "outputs": [
        {
          "name": "stdout",
          "output_type": "stream",
          "text": [
            "2017\n",
            "1990\n"
          ]
        }
      ],
      "source": [
        "print(df.year.max())\n",
        "print(df.year.min())"
      ]
    },
    {
      "cell_type": "code",
      "execution_count": 38,
      "metadata": {
        "colab": {
          "base_uri": "https://localhost:8080/",
          "height": 330
        },
        "id": "KiX3Bs8C_QtI",
        "outputId": "d2e522ef-e033-48f4-8ac8-71acf66e8acd"
      },
      "outputs": [
        {
          "data": {
            "text/html": [
              "<div>\n",
              "<style scoped>\n",
              "    .dataframe tbody tr th:only-of-type {\n",
              "        vertical-align: middle;\n",
              "    }\n",
              "\n",
              "    .dataframe tbody tr th {\n",
              "        vertical-align: top;\n",
              "    }\n",
              "\n",
              "    .dataframe thead th {\n",
              "        text-align: right;\n",
              "    }\n",
              "</style>\n",
              "<table border=\"1\" class=\"dataframe\">\n",
              "  <thead>\n",
              "    <tr style=\"text-align: right;\">\n",
              "      <th></th>\n",
              "      <th>make</th>\n",
              "      <th>model</th>\n",
              "      <th>engine_fuel_type</th>\n",
              "      <th>engine_hp</th>\n",
              "      <th>engine_cylinders</th>\n",
              "      <th>transmission_type</th>\n",
              "      <th>driven_wheels</th>\n",
              "      <th>number_of_doors</th>\n",
              "      <th>market_category</th>\n",
              "      <th>vehicle_size</th>\n",
              "      <th>vehicle_style</th>\n",
              "      <th>highway_mpg</th>\n",
              "      <th>city_mpg</th>\n",
              "      <th>popularity</th>\n",
              "      <th>msrp</th>\n",
              "      <th>car_age</th>\n",
              "    </tr>\n",
              "  </thead>\n",
              "  <tbody>\n",
              "    <tr>\n",
              "      <th>0</th>\n",
              "      <td>bmw</td>\n",
              "      <td>1 series m</td>\n",
              "      <td>premium unleaded (required)</td>\n",
              "      <td>335.0</td>\n",
              "      <td>6.0</td>\n",
              "      <td>manual</td>\n",
              "      <td>rear wheel drive</td>\n",
              "      <td>2.0</td>\n",
              "      <td>factory tuner,luxury,high-performance</td>\n",
              "      <td>compact</td>\n",
              "      <td>coupe</td>\n",
              "      <td>26</td>\n",
              "      <td>19</td>\n",
              "      <td>3916</td>\n",
              "      <td>46135</td>\n",
              "      <td>6</td>\n",
              "    </tr>\n",
              "    <tr>\n",
              "      <th>1</th>\n",
              "      <td>bmw</td>\n",
              "      <td>1 series</td>\n",
              "      <td>premium unleaded (required)</td>\n",
              "      <td>300.0</td>\n",
              "      <td>6.0</td>\n",
              "      <td>manual</td>\n",
              "      <td>rear wheel drive</td>\n",
              "      <td>2.0</td>\n",
              "      <td>luxury,performance</td>\n",
              "      <td>compact</td>\n",
              "      <td>convertible</td>\n",
              "      <td>28</td>\n",
              "      <td>19</td>\n",
              "      <td>3916</td>\n",
              "      <td>40650</td>\n",
              "      <td>6</td>\n",
              "    </tr>\n",
              "    <tr>\n",
              "      <th>2</th>\n",
              "      <td>bmw</td>\n",
              "      <td>1 series</td>\n",
              "      <td>premium unleaded (required)</td>\n",
              "      <td>300.0</td>\n",
              "      <td>6.0</td>\n",
              "      <td>manual</td>\n",
              "      <td>rear wheel drive</td>\n",
              "      <td>2.0</td>\n",
              "      <td>luxury,high-performance</td>\n",
              "      <td>compact</td>\n",
              "      <td>coupe</td>\n",
              "      <td>28</td>\n",
              "      <td>20</td>\n",
              "      <td>3916</td>\n",
              "      <td>36350</td>\n",
              "      <td>6</td>\n",
              "    </tr>\n",
              "    <tr>\n",
              "      <th>3</th>\n",
              "      <td>bmw</td>\n",
              "      <td>1 series</td>\n",
              "      <td>premium unleaded (required)</td>\n",
              "      <td>230.0</td>\n",
              "      <td>6.0</td>\n",
              "      <td>manual</td>\n",
              "      <td>rear wheel drive</td>\n",
              "      <td>2.0</td>\n",
              "      <td>luxury,performance</td>\n",
              "      <td>compact</td>\n",
              "      <td>coupe</td>\n",
              "      <td>28</td>\n",
              "      <td>18</td>\n",
              "      <td>3916</td>\n",
              "      <td>29450</td>\n",
              "      <td>6</td>\n",
              "    </tr>\n",
              "    <tr>\n",
              "      <th>4</th>\n",
              "      <td>bmw</td>\n",
              "      <td>1 series</td>\n",
              "      <td>premium unleaded (required)</td>\n",
              "      <td>230.0</td>\n",
              "      <td>6.0</td>\n",
              "      <td>manual</td>\n",
              "      <td>rear wheel drive</td>\n",
              "      <td>2.0</td>\n",
              "      <td>luxury</td>\n",
              "      <td>compact</td>\n",
              "      <td>convertible</td>\n",
              "      <td>28</td>\n",
              "      <td>18</td>\n",
              "      <td>3916</td>\n",
              "      <td>34500</td>\n",
              "      <td>6</td>\n",
              "    </tr>\n",
              "  </tbody>\n",
              "</table>\n",
              "</div>"
            ],
            "text/plain": [
              "  make       model             engine_fuel_type  engine_hp  engine_cylinders  \\\n",
              "0  bmw  1 series m  premium unleaded (required)      335.0               6.0   \n",
              "1  bmw    1 series  premium unleaded (required)      300.0               6.0   \n",
              "2  bmw    1 series  premium unleaded (required)      300.0               6.0   \n",
              "3  bmw    1 series  premium unleaded (required)      230.0               6.0   \n",
              "4  bmw    1 series  premium unleaded (required)      230.0               6.0   \n",
              "\n",
              "  transmission_type     driven_wheels  number_of_doors  \\\n",
              "0            manual  rear wheel drive              2.0   \n",
              "1            manual  rear wheel drive              2.0   \n",
              "2            manual  rear wheel drive              2.0   \n",
              "3            manual  rear wheel drive              2.0   \n",
              "4            manual  rear wheel drive              2.0   \n",
              "\n",
              "                         market_category vehicle_size vehicle_style  \\\n",
              "0  factory tuner,luxury,high-performance      compact         coupe   \n",
              "1                     luxury,performance      compact   convertible   \n",
              "2                luxury,high-performance      compact         coupe   \n",
              "3                     luxury,performance      compact         coupe   \n",
              "4                                 luxury      compact   convertible   \n",
              "\n",
              "   highway_mpg  city_mpg  popularity   msrp  car_age  \n",
              "0           26        19        3916  46135        6  \n",
              "1           28        19        3916  40650        6  \n",
              "2           28        20        3916  36350        6  \n",
              "3           28        18        3916  29450        6  \n",
              "4           28        18        3916  34500        6  "
            ]
          },
          "execution_count": 38,
          "metadata": {},
          "output_type": "execute_result"
        }
      ],
      "source": [
        "df['car_age'] = 2017 - df['year']\n",
        "df_new = df.drop('year',axis = 1)\n",
        "df_new.head()\n"
      ]
    },
    {
      "cell_type": "code",
      "execution_count": 39,
      "metadata": {
        "colab": {
          "base_uri": "https://localhost:8080/"
        },
        "id": "BQax5GxL_hs_",
        "outputId": "5d7f0288-9b4b-4a96-a288-a278d8414189"
      },
      "outputs": [
        {
          "name": "stdout",
          "output_type": "stream",
          "text": [
            "Train shape: (6766, 16), Validation shape: (2255, 16), Test shape: (2255, 16)\n"
          ]
        }
      ],
      "source": [
        "def split_dataframe(df):\n",
        "    df_train = df.sample(frac=0.6, random_state=42)\n",
        "    remaining_df = df.drop(df_train.index)\n",
        "\n",
        "    df_val = remaining_df.sample(frac=0.5, random_state=42)\n",
        "    df_test = remaining_df.drop(df_val.index)\n",
        "\n",
        "    return df_train, df_val, df_test\n",
        "\n",
        "\n",
        "df_train,df_val,df_test = split_dataframe(df_new)\n",
        "print(f\"Train shape: {df_train.shape}, Validation shape: {df_val.shape}, Test shape: {df_test.shape}\")\n"
      ]
    },
    {
      "cell_type": "code",
      "execution_count": 40,
      "metadata": {
        "colab": {
          "base_uri": "https://localhost:8080/"
        },
        "id": "BEz_CUsLh4oH",
        "outputId": "84f5b984-d35a-46bf-c88e-d30f046233a0"
      },
      "outputs": [
        {
          "name": "stdout",
          "output_type": "stream",
          "text": [
            "RMSE on validation set: 10190.68\n",
            "RMSE on test set: 10137.63\n"
          ]
        }
      ],
      "source": [
        "def preprae_X_y(df):\n",
        "    X = df.select_dtypes(exclude=['object'])\n",
        "    X.drop('msrp',axis =1, inplace = True)\n",
        "    X = X.fillna(0).values\n",
        "    y = df['msrp'].values\n",
        "    return X,y\n",
        "\n",
        "def add_bias(X):\n",
        "    bias = np.ones(X.shape[0])\n",
        "    X = np.column_stack([bias,X])\n",
        "    return X\n",
        "\n",
        "def linear_regression_model(X,y):\n",
        "    # bias = np.ones(X.shape[0])\n",
        "    # X = np.column_stack([bias,X])\n",
        "    Xt =  np.transpose(X)\n",
        "    XtX = np.dot(Xt,X)\n",
        "    XtX_inv = np.linalg.inv(XtX)\n",
        "    w = XtX_inv.dot(Xt).dot(y)\n",
        "    w0 = w[0]\n",
        "    return w,w0\n",
        "\n",
        "\n",
        "\n",
        "# Train on df_train\n",
        "X_train, y_train = preprae_X_y(df_train)\n",
        "X_train_data = add_bias(X_train)\n",
        "w,w0 = linear_regression_model(X_train_data, y_train)  # Train the model\n",
        "\n",
        "# Predict on df_val\n",
        "X_val, y_val = preprae_X_y(df_val)\n",
        "X_val_data = add_bias(X_val)\n",
        "y_pred_val = np.dot(X_val_data, w)\n",
        "\n",
        "# Calculate RMSE for validation\n",
        "rmse_val = rmse(y_pred_val, y_val)\n",
        "\n",
        "# Predict on df_test\n",
        "X_test, y_test = preprae_X_y(df_test)\n",
        "X_test_data = add_bias(X_test)\n",
        "y_pred_test =np.dot(X_test_data, w)\n",
        "\n",
        "# Calculate RMSE for test\n",
        "rmse_test = rmse(y_pred_test, y_test)\n",
        "\n",
        "print(f\"RMSE on validation set: {rmse_val.round(2)}\")\n",
        "print(f\"RMSE on test set: {rmse_test.round(2)}\")\n"
      ]
    },
    {
      "cell_type": "code",
      "execution_count": 41,
      "metadata": {
        "colab": {
          "base_uri": "https://localhost:8080/",
          "height": 449
        },
        "id": "b-l0NymkBDWU",
        "outputId": "c91f4ce7-0da8-4d95-b649-f8308fdc99cc"
      },
      "outputs": [
        {
          "data": {
            "image/png": "[encoded data removed]",
            "text/plain": [
              "<Figure size 640x480 with 1 Axes>"
            ]
          },
          "metadata": {},
          "output_type": "display_data"
        }
      ],
      "source": [
        "import seaborn as sns\n",
        "sns.histplot(y_pred_test, bins = 50, color='blue', label='y_pred')\n",
        "sns.histplot(y_test, bins = 50, color='yellow', label='y_test')\n",
        "plt.xlabel('msrp')\n",
        "plt.legend()\n",
        "plt.show()"
      ]
    },
    {
      "cell_type": "markdown",
      "metadata": {
        "id": "G_IA3Kl0op5Q"
      },
      "source": [
        "## 2.12 Categorical variables"
      ]
    },
    {
      "cell_type": "code",
      "execution_count": 42,
      "metadata": {
        "id": "j6X62Gt4z-WW"
      },
      "outputs": [],
      "source": [
        "df_new = df.copy(deep = True)"
      ]
    },
    {
      "cell_type": "code",
      "execution_count": 43,
      "metadata": {
        "colab": {
          "base_uri": "https://localhost:8080/",
          "height": 330
        },
        "id": "D1DR19nhffHX",
        "outputId": "b54d21cf-6bb2-42ca-a0b2-02d6cc771bc2"
      },
      "outputs": [
        {
          "data": {
            "text/html": [
              "<div>\n",
              "<style scoped>\n",
              "    .dataframe tbody tr th:only-of-type {\n",
              "        vertical-align: middle;\n",
              "    }\n",
              "\n",
              "    .dataframe tbody tr th {\n",
              "        vertical-align: top;\n",
              "    }\n",
              "\n",
              "    .dataframe thead th {\n",
              "        text-align: right;\n",
              "    }\n",
              "</style>\n",
              "<table border=\"1\" class=\"dataframe\">\n",
              "  <thead>\n",
              "    <tr style=\"text-align: right;\">\n",
              "      <th></th>\n",
              "      <th>make</th>\n",
              "      <th>model</th>\n",
              "      <th>year</th>\n",
              "      <th>engine_fuel_type</th>\n",
              "      <th>engine_hp</th>\n",
              "      <th>engine_cylinders</th>\n",
              "      <th>transmission_type</th>\n",
              "      <th>driven_wheels</th>\n",
              "      <th>number_of_doors</th>\n",
              "      <th>market_category</th>\n",
              "      <th>vehicle_size</th>\n",
              "      <th>vehicle_style</th>\n",
              "      <th>highway_mpg</th>\n",
              "      <th>city_mpg</th>\n",
              "      <th>popularity</th>\n",
              "      <th>msrp</th>\n",
              "      <th>car_age</th>\n",
              "    </tr>\n",
              "  </thead>\n",
              "  <tbody>\n",
              "    <tr>\n",
              "      <th>0</th>\n",
              "      <td>bmw</td>\n",
              "      <td>1 series m</td>\n",
              "      <td>2011</td>\n",
              "      <td>premium unleaded (required)</td>\n",
              "      <td>335.0</td>\n",
              "      <td>6.0</td>\n",
              "      <td>manual</td>\n",
              "      <td>rear wheel drive</td>\n",
              "      <td>2.0</td>\n",
              "      <td>factory tuner,luxury,high-performance</td>\n",
              "      <td>compact</td>\n",
              "      <td>coupe</td>\n",
              "      <td>26</td>\n",
              "      <td>19</td>\n",
              "      <td>3916</td>\n",
              "      <td>46135</td>\n",
              "      <td>6</td>\n",
              "    </tr>\n",
              "    <tr>\n",
              "      <th>1</th>\n",
              "      <td>bmw</td>\n",
              "      <td>1 series</td>\n",
              "      <td>2011</td>\n",
              "      <td>premium unleaded (required)</td>\n",
              "      <td>300.0</td>\n",
              "      <td>6.0</td>\n",
              "      <td>manual</td>\n",
              "      <td>rear wheel drive</td>\n",
              "      <td>2.0</td>\n",
              "      <td>luxury,performance</td>\n",
              "      <td>compact</td>\n",
              "      <td>convertible</td>\n",
              "      <td>28</td>\n",
              "      <td>19</td>\n",
              "      <td>3916</td>\n",
              "      <td>40650</td>\n",
              "      <td>6</td>\n",
              "    </tr>\n",
              "    <tr>\n",
              "      <th>2</th>\n",
              "      <td>bmw</td>\n",
              "      <td>1 series</td>\n",
              "      <td>2011</td>\n",
              "      <td>premium unleaded (required)</td>\n",
              "      <td>300.0</td>\n",
              "      <td>6.0</td>\n",
              "      <td>manual</td>\n",
              "      <td>rear wheel drive</td>\n",
              "      <td>2.0</td>\n",
              "      <td>luxury,high-performance</td>\n",
              "      <td>compact</td>\n",
              "      <td>coupe</td>\n",
              "      <td>28</td>\n",
              "      <td>20</td>\n",
              "      <td>3916</td>\n",
              "      <td>36350</td>\n",
              "      <td>6</td>\n",
              "    </tr>\n",
              "    <tr>\n",
              "      <th>3</th>\n",
              "      <td>bmw</td>\n",
              "      <td>1 series</td>\n",
              "      <td>2011</td>\n",
              "      <td>premium unleaded (required)</td>\n",
              "      <td>230.0</td>\n",
              "      <td>6.0</td>\n",
              "      <td>manual</td>\n",
              "      <td>rear wheel drive</td>\n",
              "      <td>2.0</td>\n",
              "      <td>luxury,performance</td>\n",
              "      <td>compact</td>\n",
              "      <td>coupe</td>\n",
              "      <td>28</td>\n",
              "      <td>18</td>\n",
              "      <td>3916</td>\n",
              "      <td>29450</td>\n",
              "      <td>6</td>\n",
              "    </tr>\n",
              "    <tr>\n",
              "      <th>4</th>\n",
              "      <td>bmw</td>\n",
              "      <td>1 series</td>\n",
              "      <td>2011</td>\n",
              "      <td>premium unleaded (required)</td>\n",
              "      <td>230.0</td>\n",
              "      <td>6.0</td>\n",
              "      <td>manual</td>\n",
              "      <td>rear wheel drive</td>\n",
              "      <td>2.0</td>\n",
              "      <td>luxury</td>\n",
              "      <td>compact</td>\n",
              "      <td>convertible</td>\n",
              "      <td>28</td>\n",
              "      <td>18</td>\n",
              "      <td>3916</td>\n",
              "      <td>34500</td>\n",
              "      <td>6</td>\n",
              "    </tr>\n",
              "  </tbody>\n",
              "</table>\n",
              "</div>"
            ],
            "text/plain": [
              "  make       model  year             engine_fuel_type  engine_hp  \\\n",
              "0  bmw  1 series m  2011  premium unleaded (required)      335.0   \n",
              "1  bmw    1 series  2011  premium unleaded (required)      300.0   \n",
              "2  bmw    1 series  2011  premium unleaded (required)      300.0   \n",
              "3  bmw    1 series  2011  premium unleaded (required)      230.0   \n",
              "4  bmw    1 series  2011  premium unleaded (required)      230.0   \n",
              "\n",
              "   engine_cylinders transmission_type     driven_wheels  number_of_doors  \\\n",
              "0               6.0            manual  rear wheel drive              2.0   \n",
              "1               6.0            manual  rear wheel drive              2.0   \n",
              "2               6.0            manual  rear wheel drive              2.0   \n",
              "3               6.0            manual  rear wheel drive              2.0   \n",
              "4               6.0            manual  rear wheel drive              2.0   \n",
              "\n",
              "                         market_category vehicle_size vehicle_style  \\\n",
              "0  factory tuner,luxury,high-performance      compact         coupe   \n",
              "1                     luxury,performance      compact   convertible   \n",
              "2                luxury,high-performance      compact         coupe   \n",
              "3                     luxury,performance      compact         coupe   \n",
              "4                                 luxury      compact   convertible   \n",
              "\n",
              "   highway_mpg  city_mpg  popularity   msrp  car_age  \n",
              "0           26        19        3916  46135        6  \n",
              "1           28        19        3916  40650        6  \n",
              "2           28        20        3916  36350        6  \n",
              "3           28        18        3916  29450        6  \n",
              "4           28        18        3916  34500        6  "
            ]
          },
          "execution_count": 43,
          "metadata": {},
          "output_type": "execute_result"
        }
      ],
      "source": [
        "df_new.head()"
      ]
    },
    {
      "cell_type": "code",
      "execution_count": 44,
      "metadata": {
        "colab": {
          "base_uri": "https://localhost:8080/",
          "height": 335
        },
        "id": "2PIJVZRiouuq",
        "outputId": "0cd9bcaa-1d64-44dd-946b-f5cca1406350"
      },
      "outputs": [
        {
          "data": {
            "text/plain": [
              "make                  40\n",
              "model                821\n",
              "engine_fuel_type      10\n",
              "transmission_type      5\n",
              "driven_wheels          4\n",
              "market_category       62\n",
              "vehicle_size           3\n",
              "vehicle_style         16\n",
              "dtype: int64"
            ]
          },
          "execution_count": 44,
          "metadata": {},
          "output_type": "execute_result"
        }
      ],
      "source": [
        "(\n",
        "  df_new\n",
        " .select_dtypes(include = 'object')\n",
        " .nunique()\n",
        ")"
      ]
    },
    {
      "cell_type": "code",
      "execution_count": 45,
      "metadata": {
        "colab": {
          "base_uri": "https://localhost:8080/"
        },
        "id": "0a-Qf06bo_0Y",
        "outputId": "a8e4548d-3b1d-4615-d0ad-34c88ab193ae"
      },
      "outputs": [
        {
          "data": {
            "text/plain": [
              "Index(['make', 'model', 'engine_fuel_type', 'transmission_type',\n",
              "       'driven_wheels', 'market_category', 'vehicle_size', 'vehicle_style'],\n",
              "      dtype='object')"
            ]
          },
          "execution_count": 45,
          "metadata": {},
          "output_type": "execute_result"
        }
      ],
      "source": [
        "categorical_variables =df.columns[df.dtypes == 'object']\n",
        "categorical_variables"
      ]
    },
    {
      "cell_type": "code",
      "execution_count": 46,
      "metadata": {
        "colab": {
          "base_uri": "https://localhost:8080/",
          "height": 377
        },
        "id": "_QzSiMt9xupJ",
        "outputId": "ea1b003f-f357-4727-82ba-851789b94c3d"
      },
      "outputs": [
        {
          "data": {
            "text/html": [
              "<div>\n",
              "<style scoped>\n",
              "    .dataframe tbody tr th:only-of-type {\n",
              "        vertical-align: middle;\n",
              "    }\n",
              "\n",
              "    .dataframe tbody tr th {\n",
              "        vertical-align: top;\n",
              "    }\n",
              "\n",
              "    .dataframe thead th {\n",
              "        text-align: right;\n",
              "    }\n",
              "</style>\n",
              "<table border=\"1\" class=\"dataframe\">\n",
              "  <thead>\n",
              "    <tr style=\"text-align: right;\">\n",
              "      <th></th>\n",
              "      <th>make</th>\n",
              "      <th>model</th>\n",
              "      <th>year</th>\n",
              "      <th>engine_fuel_type</th>\n",
              "      <th>engine_hp</th>\n",
              "      <th>engine_cylinders</th>\n",
              "      <th>transmission_type</th>\n",
              "      <th>driven_wheels</th>\n",
              "      <th>number_of_doors</th>\n",
              "      <th>market_category</th>\n",
              "      <th>...</th>\n",
              "      <th>market_category_luxury,performance</th>\n",
              "      <th>market_category_hatchback</th>\n",
              "      <th>vehicle_size_compact</th>\n",
              "      <th>vehicle_size_midsize</th>\n",
              "      <th>vehicle_size_large</th>\n",
              "      <th>vehicle_style_sedan</th>\n",
              "      <th>vehicle_style_4dr suv</th>\n",
              "      <th>vehicle_style_coupe</th>\n",
              "      <th>vehicle_style_4dr hatchback</th>\n",
              "      <th>vehicle_style_crew cab pickup</th>\n",
              "    </tr>\n",
              "  </thead>\n",
              "  <tbody>\n",
              "    <tr>\n",
              "      <th>0</th>\n",
              "      <td>bmw</td>\n",
              "      <td>1 series m</td>\n",
              "      <td>2011</td>\n",
              "      <td>premium unleaded (required)</td>\n",
              "      <td>335.0</td>\n",
              "      <td>6.0</td>\n",
              "      <td>manual</td>\n",
              "      <td>rear wheel drive</td>\n",
              "      <td>2.0</td>\n",
              "      <td>factory tuner,luxury,high-performance</td>\n",
              "      <td>...</td>\n",
              "      <td>0</td>\n",
              "      <td>0</td>\n",
              "      <td>1</td>\n",
              "      <td>0</td>\n",
              "      <td>0</td>\n",
              "      <td>0</td>\n",
              "      <td>0</td>\n",
              "      <td>1</td>\n",
              "      <td>0</td>\n",
              "      <td>0</td>\n",
              "    </tr>\n",
              "    <tr>\n",
              "      <th>1</th>\n",
              "      <td>bmw</td>\n",
              "      <td>1 series</td>\n",
              "      <td>2011</td>\n",
              "      <td>premium unleaded (required)</td>\n",
              "      <td>300.0</td>\n",
              "      <td>6.0</td>\n",
              "      <td>manual</td>\n",
              "      <td>rear wheel drive</td>\n",
              "      <td>2.0</td>\n",
              "      <td>luxury,performance</td>\n",
              "      <td>...</td>\n",
              "      <td>1</td>\n",
              "      <td>0</td>\n",
              "      <td>1</td>\n",
              "      <td>0</td>\n",
              "      <td>0</td>\n",
              "      <td>0</td>\n",
              "      <td>0</td>\n",
              "      <td>0</td>\n",
              "      <td>0</td>\n",
              "      <td>0</td>\n",
              "    </tr>\n",
              "    <tr>\n",
              "      <th>2</th>\n",
              "      <td>bmw</td>\n",
              "      <td>1 series</td>\n",
              "      <td>2011</td>\n",
              "      <td>premium unleaded (required)</td>\n",
              "      <td>300.0</td>\n",
              "      <td>6.0</td>\n",
              "      <td>manual</td>\n",
              "      <td>rear wheel drive</td>\n",
              "      <td>2.0</td>\n",
              "      <td>luxury,high-performance</td>\n",
              "      <td>...</td>\n",
              "      <td>0</td>\n",
              "      <td>0</td>\n",
              "      <td>1</td>\n",
              "      <td>0</td>\n",
              "      <td>0</td>\n",
              "      <td>0</td>\n",
              "      <td>0</td>\n",
              "      <td>1</td>\n",
              "      <td>0</td>\n",
              "      <td>0</td>\n",
              "    </tr>\n",
              "    <tr>\n",
              "      <th>3</th>\n",
              "      <td>bmw</td>\n",
              "      <td>1 series</td>\n",
              "      <td>2011</td>\n",
              "      <td>premium unleaded (required)</td>\n",
              "      <td>230.0</td>\n",
              "      <td>6.0</td>\n",
              "      <td>manual</td>\n",
              "      <td>rear wheel drive</td>\n",
              "      <td>2.0</td>\n",
              "      <td>luxury,performance</td>\n",
              "      <td>...</td>\n",
              "      <td>1</td>\n",
              "      <td>0</td>\n",
              "      <td>1</td>\n",
              "      <td>0</td>\n",
              "      <td>0</td>\n",
              "      <td>0</td>\n",
              "      <td>0</td>\n",
              "      <td>1</td>\n",
              "      <td>0</td>\n",
              "      <td>0</td>\n",
              "    </tr>\n",
              "    <tr>\n",
              "      <th>4</th>\n",
              "      <td>bmw</td>\n",
              "      <td>1 series</td>\n",
              "      <td>2011</td>\n",
              "      <td>premium unleaded (required)</td>\n",
              "      <td>230.0</td>\n",
              "      <td>6.0</td>\n",
              "      <td>manual</td>\n",
              "      <td>rear wheel drive</td>\n",
              "      <td>2.0</td>\n",
              "      <td>luxury</td>\n",
              "      <td>...</td>\n",
              "      <td>0</td>\n",
              "      <td>0</td>\n",
              "      <td>1</td>\n",
              "      <td>0</td>\n",
              "      <td>0</td>\n",
              "      <td>0</td>\n",
              "      <td>0</td>\n",
              "      <td>0</td>\n",
              "      <td>0</td>\n",
              "      <td>0</td>\n",
              "    </tr>\n",
              "  </tbody>\n",
              "</table>\n",
              "<p>5 rows × 54 columns</p>\n",
              "</div>"
            ],
            "text/plain": [
              "  make       model  year             engine_fuel_type  engine_hp  \\\n",
              "0  bmw  1 series m  2011  premium unleaded (required)      335.0   \n",
              "1  bmw    1 series  2011  premium unleaded (required)      300.0   \n",
              "2  bmw    1 series  2011  premium unleaded (required)      300.0   \n",
              "3  bmw    1 series  2011  premium unleaded (required)      230.0   \n",
              "4  bmw    1 series  2011  premium unleaded (required)      230.0   \n",
              "\n",
              "   engine_cylinders transmission_type     driven_wheels  number_of_doors  \\\n",
              "0               6.0            manual  rear wheel drive              2.0   \n",
              "1               6.0            manual  rear wheel drive              2.0   \n",
              "2               6.0            manual  rear wheel drive              2.0   \n",
              "3               6.0            manual  rear wheel drive              2.0   \n",
              "4               6.0            manual  rear wheel drive              2.0   \n",
              "\n",
              "                         market_category  ...  \\\n",
              "0  factory tuner,luxury,high-performance  ...   \n",
              "1                     luxury,performance  ...   \n",
              "2                luxury,high-performance  ...   \n",
              "3                     luxury,performance  ...   \n",
              "4                                 luxury  ...   \n",
              "\n",
              "  market_category_luxury,performance market_category_hatchback  \\\n",
              "0                                  0                         0   \n",
              "1                                  1                         0   \n",
              "2                                  0                         0   \n",
              "3                                  1                         0   \n",
              "4                                  0                         0   \n",
              "\n",
              "   vehicle_size_compact  vehicle_size_midsize  vehicle_size_large  \\\n",
              "0                     1                     0                   0   \n",
              "1                     1                     0                   0   \n",
              "2                     1                     0                   0   \n",
              "3                     1                     0                   0   \n",
              "4                     1                     0                   0   \n",
              "\n",
              "   vehicle_style_sedan  vehicle_style_4dr suv  vehicle_style_coupe  \\\n",
              "0                    0                      0                    1   \n",
              "1                    0                      0                    0   \n",
              "2                    0                      0                    1   \n",
              "3                    0                      0                    1   \n",
              "4                    0                      0                    0   \n",
              "\n",
              "   vehicle_style_4dr hatchback  vehicle_style_crew cab pickup  \n",
              "0                            0                              0  \n",
              "1                            0                              0  \n",
              "2                            0                              0  \n",
              "3                            0                              0  \n",
              "4                            0                              0  \n",
              "\n",
              "[5 rows x 54 columns]"
            ]
          },
          "execution_count": 46,
          "metadata": {},
          "output_type": "execute_result"
        }
      ],
      "source": [
        "for col_name in df_new[categorical_variables]:\n",
        "\n",
        "  # Get top 5 most frequent values in the column\n",
        "  col_values = df[col_name].value_counts().nlargest(5).index\n",
        "\n",
        "  # Create a new column for each of the top 5 values\n",
        "  for i in col_values:\n",
        "        # Use np.where to assign 1 if the value matches, otherwise 0\n",
        "        df_new[f'{col_name}_{i}'] = np.where(df_new[col_name] == i, 1, 0)\n",
        "\n",
        "\n",
        "df_new.head()"
      ]
    },
    {
      "cell_type": "code",
      "execution_count": 47,
      "metadata": {
        "colab": {
          "base_uri": "https://localhost:8080/"
        },
        "id": "RrQkKY3mKc3p",
        "outputId": "40f1d6dc-5437-403b-bce1-5f80f4307c3f"
      },
      "outputs": [
        {
          "data": {
            "text/plain": [
              "Index(['make', 'model', 'year', 'engine_fuel_type', 'engine_hp',\n",
              "       'engine_cylinders', 'transmission_type', 'driven_wheels',\n",
              "       'number_of_doors', 'market_category', 'vehicle_size', 'vehicle_style',\n",
              "       'highway_mpg', 'city_mpg', 'popularity', 'msrp', 'car_age',\n",
              "       'make_chevrolet', 'make_ford', 'make_volkswagen', 'make_toyota',\n",
              "       'make_dodge', 'model_silverado 1500', 'model_tundra', 'model_f-150',\n",
              "       'model_sierra 1500', 'model_beetle convertible',\n",
              "       'engine_fuel_type_regular unleaded',\n",
              "       'engine_fuel_type_premium unleaded (recommended)',\n",
              "       'engine_fuel_type_premium unleaded (required)',\n",
              "       'engine_fuel_type_flex-fuel (unleaded/e85)', 'engine_fuel_type_diesel',\n",
              "       'transmission_type_automatic', 'transmission_type_manual',\n",
              "       'transmission_type_automated_manual', 'transmission_type_direct_drive',\n",
              "       'transmission_type_unknown', 'driven_wheels_front wheel drive',\n",
              "       'driven_wheels_rear wheel drive', 'driven_wheels_all wheel drive',\n",
              "       'driven_wheels_four wheel drive', 'market_category_crossover',\n",
              "       'market_category_flex fuel', 'market_category_luxury',\n",
              "       'market_category_luxury,performance', 'market_category_hatchback',\n",
              "       'vehicle_size_compact', 'vehicle_size_midsize', 'vehicle_size_large',\n",
              "       'vehicle_style_sedan', 'vehicle_style_4dr suv', 'vehicle_style_coupe',\n",
              "       'vehicle_style_4dr hatchback', 'vehicle_style_crew cab pickup'],\n",
              "      dtype='object')"
            ]
          },
          "execution_count": 47,
          "metadata": {},
          "output_type": "execute_result"
        }
      ],
      "source": [
        "df_new.columns"
      ]
    },
    {
      "cell_type": "code",
      "execution_count": 48,
      "metadata": {
        "colab": {
          "base_uri": "https://localhost:8080/",
          "height": 273
        },
        "id": "2uQkc3LG7QBo",
        "outputId": "cb999342-2087-4e3c-ff86-efa5f7dfbf30"
      },
      "outputs": [
        {
          "data": {
            "text/html": [
              "<div>\n",
              "<style scoped>\n",
              "    .dataframe tbody tr th:only-of-type {\n",
              "        vertical-align: middle;\n",
              "    }\n",
              "\n",
              "    .dataframe tbody tr th {\n",
              "        vertical-align: top;\n",
              "    }\n",
              "\n",
              "    .dataframe thead th {\n",
              "        text-align: right;\n",
              "    }\n",
              "</style>\n",
              "<table border=\"1\" class=\"dataframe\">\n",
              "  <thead>\n",
              "    <tr style=\"text-align: right;\">\n",
              "      <th></th>\n",
              "      <th>engine_hp</th>\n",
              "      <th>engine_cylinders</th>\n",
              "      <th>number_of_doors</th>\n",
              "      <th>highway_mpg</th>\n",
              "      <th>city_mpg</th>\n",
              "      <th>popularity</th>\n",
              "      <th>msrp</th>\n",
              "      <th>car_age</th>\n",
              "      <th>make_chevrolet</th>\n",
              "      <th>make_ford</th>\n",
              "      <th>...</th>\n",
              "      <th>market_category_luxury,performance</th>\n",
              "      <th>market_category_hatchback</th>\n",
              "      <th>vehicle_size_compact</th>\n",
              "      <th>vehicle_size_midsize</th>\n",
              "      <th>vehicle_size_large</th>\n",
              "      <th>vehicle_style_sedan</th>\n",
              "      <th>vehicle_style_4dr suv</th>\n",
              "      <th>vehicle_style_coupe</th>\n",
              "      <th>vehicle_style_4dr hatchback</th>\n",
              "      <th>vehicle_style_crew cab pickup</th>\n",
              "    </tr>\n",
              "  </thead>\n",
              "  <tbody>\n",
              "    <tr>\n",
              "      <th>0</th>\n",
              "      <td>335.0</td>\n",
              "      <td>6.0</td>\n",
              "      <td>2.0</td>\n",
              "      <td>26</td>\n",
              "      <td>19</td>\n",
              "      <td>3916</td>\n",
              "      <td>46135</td>\n",
              "      <td>6</td>\n",
              "      <td>0</td>\n",
              "      <td>0</td>\n",
              "      <td>...</td>\n",
              "      <td>0</td>\n",
              "      <td>0</td>\n",
              "      <td>1</td>\n",
              "      <td>0</td>\n",
              "      <td>0</td>\n",
              "      <td>0</td>\n",
              "      <td>0</td>\n",
              "      <td>1</td>\n",
              "      <td>0</td>\n",
              "      <td>0</td>\n",
              "    </tr>\n",
              "    <tr>\n",
              "      <th>1</th>\n",
              "      <td>300.0</td>\n",
              "      <td>6.0</td>\n",
              "      <td>2.0</td>\n",
              "      <td>28</td>\n",
              "      <td>19</td>\n",
              "      <td>3916</td>\n",
              "      <td>40650</td>\n",
              "      <td>6</td>\n",
              "      <td>0</td>\n",
              "      <td>0</td>\n",
              "      <td>...</td>\n",
              "      <td>1</td>\n",
              "      <td>0</td>\n",
              "      <td>1</td>\n",
              "      <td>0</td>\n",
              "      <td>0</td>\n",
              "      <td>0</td>\n",
              "      <td>0</td>\n",
              "      <td>0</td>\n",
              "      <td>0</td>\n",
              "      <td>0</td>\n",
              "    </tr>\n",
              "    <tr>\n",
              "      <th>2</th>\n",
              "      <td>300.0</td>\n",
              "      <td>6.0</td>\n",
              "      <td>2.0</td>\n",
              "      <td>28</td>\n",
              "      <td>20</td>\n",
              "      <td>3916</td>\n",
              "      <td>36350</td>\n",
              "      <td>6</td>\n",
              "      <td>0</td>\n",
              "      <td>0</td>\n",
              "      <td>...</td>\n",
              "      <td>0</td>\n",
              "      <td>0</td>\n",
              "      <td>1</td>\n",
              "      <td>0</td>\n",
              "      <td>0</td>\n",
              "      <td>0</td>\n",
              "      <td>0</td>\n",
              "      <td>1</td>\n",
              "      <td>0</td>\n",
              "      <td>0</td>\n",
              "    </tr>\n",
              "    <tr>\n",
              "      <th>3</th>\n",
              "      <td>230.0</td>\n",
              "      <td>6.0</td>\n",
              "      <td>2.0</td>\n",
              "      <td>28</td>\n",
              "      <td>18</td>\n",
              "      <td>3916</td>\n",
              "      <td>29450</td>\n",
              "      <td>6</td>\n",
              "      <td>0</td>\n",
              "      <td>0</td>\n",
              "      <td>...</td>\n",
              "      <td>1</td>\n",
              "      <td>0</td>\n",
              "      <td>1</td>\n",
              "      <td>0</td>\n",
              "      <td>0</td>\n",
              "      <td>0</td>\n",
              "      <td>0</td>\n",
              "      <td>1</td>\n",
              "      <td>0</td>\n",
              "      <td>0</td>\n",
              "    </tr>\n",
              "    <tr>\n",
              "      <th>4</th>\n",
              "      <td>230.0</td>\n",
              "      <td>6.0</td>\n",
              "      <td>2.0</td>\n",
              "      <td>28</td>\n",
              "      <td>18</td>\n",
              "      <td>3916</td>\n",
              "      <td>34500</td>\n",
              "      <td>6</td>\n",
              "      <td>0</td>\n",
              "      <td>0</td>\n",
              "      <td>...</td>\n",
              "      <td>0</td>\n",
              "      <td>0</td>\n",
              "      <td>1</td>\n",
              "      <td>0</td>\n",
              "      <td>0</td>\n",
              "      <td>0</td>\n",
              "      <td>0</td>\n",
              "      <td>0</td>\n",
              "      <td>0</td>\n",
              "      <td>0</td>\n",
              "    </tr>\n",
              "  </tbody>\n",
              "</table>\n",
              "<p>5 rows × 45 columns</p>\n",
              "</div>"
            ],
            "text/plain": [
              "   engine_hp  engine_cylinders  number_of_doors  highway_mpg  city_mpg  \\\n",
              "0      335.0               6.0              2.0           26        19   \n",
              "1      300.0               6.0              2.0           28        19   \n",
              "2      300.0               6.0              2.0           28        20   \n",
              "3      230.0               6.0              2.0           28        18   \n",
              "4      230.0               6.0              2.0           28        18   \n",
              "\n",
              "   popularity   msrp  car_age  make_chevrolet  make_ford  ...  \\\n",
              "0        3916  46135        6               0          0  ...   \n",
              "1        3916  40650        6               0          0  ...   \n",
              "2        3916  36350        6               0          0  ...   \n",
              "3        3916  29450        6               0          0  ...   \n",
              "4        3916  34500        6               0          0  ...   \n",
              "\n",
              "   market_category_luxury,performance  market_category_hatchback  \\\n",
              "0                                   0                          0   \n",
              "1                                   1                          0   \n",
              "2                                   0                          0   \n",
              "3                                   1                          0   \n",
              "4                                   0                          0   \n",
              "\n",
              "   vehicle_size_compact  vehicle_size_midsize  vehicle_size_large  \\\n",
              "0                     1                     0                   0   \n",
              "1                     1                     0                   0   \n",
              "2                     1                     0                   0   \n",
              "3                     1                     0                   0   \n",
              "4                     1                     0                   0   \n",
              "\n",
              "   vehicle_style_sedan  vehicle_style_4dr suv  vehicle_style_coupe  \\\n",
              "0                    0                      0                    1   \n",
              "1                    0                      0                    0   \n",
              "2                    0                      0                    1   \n",
              "3                    0                      0                    1   \n",
              "4                    0                      0                    0   \n",
              "\n",
              "   vehicle_style_4dr hatchback  vehicle_style_crew cab pickup  \n",
              "0                            0                              0  \n",
              "1                            0                              0  \n",
              "2                            0                              0  \n",
              "3                            0                              0  \n",
              "4                            0                              0  \n",
              "\n",
              "[5 rows x 45 columns]"
            ]
          },
          "execution_count": 48,
          "metadata": {},
          "output_type": "execute_result"
        }
      ],
      "source": [
        "df_new.drop(categorical_variables, axis=1, inplace=True)\n",
        "df_new.drop('year', axis = 1, inplace = True)\n",
        "df_new.head()\n"
      ]
    },
    {
      "cell_type": "code",
      "execution_count": 49,
      "metadata": {
        "colab": {
          "base_uri": "https://localhost:8080/"
        },
        "id": "A6ozO-GELFQn",
        "outputId": "cf9668e7-2f97-414f-8976-1ceb8f33ee06"
      },
      "outputs": [
        {
          "name": "stdout",
          "output_type": "stream",
          "text": [
            "Train shape: (6766, 45), Validation shape: (2255, 45), Test shape: (2255, 45)\n",
            "RMSE on validation set: 1003957.79\n",
            "RMSE on test set: 1004609.8\n"
          ]
        }
      ],
      "source": [
        "#split the dataframe\n",
        "def split_dataframe(df):\n",
        "    df_train = df.sample(frac=0.6, random_state=42)\n",
        "    remaining_df = df.drop(df_train.index)\n",
        "\n",
        "    df_val = remaining_df.sample(frac=0.5, random_state=42)\n",
        "    df_test = remaining_df.drop(df_val.index)\n",
        "\n",
        "    return df_train, df_val, df_test\n",
        "\n",
        "\n",
        "df_train,df_val,df_test = split_dataframe(df_new)\n",
        "print(f\"Train shape: {df_train.shape}, Validation shape: {df_val.shape}, Test shape: {df_test.shape}\")\n",
        "\n",
        "# Train on df_train\n",
        "X_train, y_train = preprae_X_y(df_train)\n",
        "X_train_data = add_bias(X_train)\n",
        "w,w0 = linear_regression_model(X_train_data, y_train)  # Train the model\n",
        "\n",
        "# Predict on df_val\n",
        "X_val, y_val = preprae_X_y(df_val)\n",
        "X_val_data = add_bias(X_val)\n",
        "y_pred_val = np.dot(X_val_data, w)\n",
        "\n",
        "# Calculate RMSE for validation\n",
        "rmse_val = rmse(y_pred_val, y_val)\n",
        "\n",
        "# Predict on df_test\n",
        "X_test, y_test = preprae_X_y(df_test)\n",
        "X_test_data = add_bias(X_test)\n",
        "y_pred_test = np.dot(X_test_data, w)\n",
        "\n",
        "# Calculate RMSE for test\n",
        "rmse_test = rmse(y_pred_test, y_test)\n",
        "\n",
        "print(f\"RMSE on validation set: {rmse_val.round(2)}\")\n",
        "print(f\"RMSE on test set: {rmse_test.round(2)}\")"
      ]
    },
    {
      "cell_type": "code",
      "execution_count": 50,
      "metadata": {
        "colab": {
          "base_uri": "https://localhost:8080/",
          "height": 449
        },
        "id": "K6H5oorFL8hB",
        "outputId": "5d4e549e-d2ff-49d6-b765-c64d857be830"
      },
      "outputs": [
        {
          "data": {
            "image/png": "[encoded data removed]",
            "text/plain": [
              "<Figure size 640x480 with 1 Axes>"
            ]
          },
          "metadata": {},
          "output_type": "display_data"
        }
      ],
      "source": [
        "import seaborn as sns\n",
        "sns.histplot(y_pred_test, bins = 50, color='blue', label='y_pred')\n",
        "sns.histplot(y_test, bins = 50, color='yellow', label='y')\n",
        "plt.xlabel('msrp')\n",
        "plt.legend()\n",
        "plt.show()"
      ]
    },
    {
      "cell_type": "markdown",
      "metadata": {
        "id": "cQfydCDsQa6R"
      },
      "source": [
        "## 2.13 Regulization linear model"
      ]
    },
    {
      "cell_type": "code",
      "execution_count": 51,
      "metadata": {
        "id": "CRbiXU8UME_a"
      },
      "outputs": [],
      "source": [
        "def linear_regression_model_regularized(X,y,r = 0.001):\n",
        "  Xt = np.transpose(X)\n",
        "  XtX = np.dot(Xt,X)\n",
        "  XtX = XtX + r * np.eye(XtX.shape[0])\n",
        "  XtX_inv = np.linalg.inv(XtX)\n",
        "  XtX_inv_Xt = np.dot(XtX_inv,Xt)\n",
        "  w = np.dot(XtX_inv_Xt,y)\n",
        "  return w\n"
      ]
    },
    {
      "cell_type": "code",
      "execution_count": 52,
      "metadata": {
        "colab": {
          "base_uri": "https://localhost:8080/"
        },
        "id": "SyFHV_GpR9GB",
        "outputId": "b09e2a82-6770-439d-9ad4-3ca8bf682849"
      },
      "outputs": [
        {
          "name": "stdout",
          "output_type": "stream",
          "text": [
            "Train shape: (6766, 17), Validation shape: (2255, 17), Test shape: (2255, 17)\n",
            "RMSE on validation set: 10190.68\n",
            "RMSE on test set: 10137.63\n"
          ]
        }
      ],
      "source": [
        "#split the dataframe\n",
        "def split_dataframe(df_new):\n",
        "    df_train = df.sample(frac=0.6, random_state=42)\n",
        "    remaining_df = df.drop(df_train.index)\n",
        "\n",
        "    df_val = remaining_df.sample(frac=0.5, random_state=42)\n",
        "    df_test = remaining_df.drop(df_val.index)\n",
        "\n",
        "    return df_train, df_val, df_test\n",
        "\n",
        "\n",
        "df_train,df_val,df_test = split_dataframe(df_new)\n",
        "print(f\"Train shape: {df_train.shape}, Validation shape: {df_val.shape}, Test shape: {df_test.shape}\")\n",
        "\n",
        "# Train on df_train\n",
        "X_train, y_train = preprae_X_y(df_train)\n",
        "X_train_data = add_bias(X_train)\n",
        "w = linear_regression_model_regularized(X_train_data, y_train,r = 0.003)  # Train the model\n",
        "\n",
        "# Predict on df_val\n",
        "X_val, y_val = preprae_X_y(df_val)\n",
        "X_val_data = add_bias(X_val)\n",
        "y_pred_val = np.dot(X_val_data, w)\n",
        "\n",
        "# Calculate RMSE for validation\n",
        "rmse_val = rmse(y_pred_val, y_val)\n",
        "\n",
        "# Predict on df_test\n",
        "X_test, y_test = preprae_X_y(df_test)\n",
        "X_test_data = add_bias(X_test)\n",
        "y_pred_test = np.dot(X_test_data, w)\n",
        "\n",
        "# Calculate RMSE for test\n",
        "rmse_test = rmse(y_pred_test, y_test)\n",
        "\n",
        "print(f\"RMSE on validation set: {rmse_val.round(2)}\")\n",
        "print(f\"RMSE on test set: {rmse_test.round(2)}\")"
      ]
    },
    {
      "cell_type": "code",
      "execution_count": 53,
      "metadata": {
        "colab": {
          "base_uri": "https://localhost:8080/",
          "height": 449
        },
        "id": "3wYxJAiOSMlI",
        "outputId": "171266f3-e5c6-4abb-d5ed-02a183f9cf13"
      },
      "outputs": [
        {
          "data": {
            "image/png": "[encoded data removed]",
            "text/plain": [
              "<Figure size 640x480 with 1 Axes>"
            ]
          },
          "metadata": {},
          "output_type": "display_data"
        }
      ],
      "source": [
        "import seaborn as sns\n",
        "sns.histplot(y_pred_test, bins = 50, color='blue', label='y_pred')\n",
        "sns.histplot(y_test, bins = 50, color='yellow', label='y')\n",
        "plt.xlabel('msrp')\n",
        "plt.legend()\n",
        "plt.show()"
      ]
    },
    {
      "cell_type": "markdown",
      "metadata": {
        "id": "QCm8h2ozWFyh"
      },
      "source": [
        "## 2.14 Tunning the model / linear model optimization"
      ]
    },
    {
      "cell_type": "code",
      "execution_count": 54,
      "metadata": {
        "colab": {
          "base_uri": "https://localhost:8080/"
        },
        "id": "WsYHwDboSjz1",
        "outputId": "263d5dee-38bd-4d01-ca0e-129624284ae1"
      },
      "outputs": [
        {
          "name": "stdout",
          "output_type": "stream",
          "text": [
            "regularization_value: 0.0, rmse_val: 22975\n",
            "regularization_value: 0.0001, rmse_val: 10190\n",
            "regularization_value: 0.0002, rmse_val: 10190\n",
            "regularization_value: 0.005, rmse_val: 10190\n",
            "regularization_value: 0.01, rmse_val: 10190\n",
            "regularization_value: 0.1, rmse_val: 10190\n",
            "regularization_value: 10, rmse_val: 10190\n",
            "regularization_value: 100, rmse_val: 10190\n",
            "regularization_value: 10000000, rmse_val: 12656\n"
          ]
        }
      ],
      "source": [
        "alpha = [0.0, 0.0001, 0.0002, 0.005, 0.01, 0.1 ,10,100,10000000]\n",
        "\n",
        "for i in alpha:\n",
        "  w = linear_regression_model_regularized(X_train_data, y_train,r = i)  # Train the model\n",
        "  X_val, y_val = preprae_X_y(df_val)\n",
        "  X_val_data = add_bias(X_val)\n",
        "  y_pred_val = np.dot(X_val_data, w)\n",
        "\n",
        "  # Calculate RMSE for validation\n",
        "  score = rmse(y_pred_val, y_val)\n",
        "  print(f'regularization_value: {i}, rmse_val: {int(score)}' )\n",
        "\n"
      ]
    },
    {
      "cell_type": "code",
      "execution_count": 55,
      "metadata": {
        "colab": {
          "base_uri": "https://localhost:8080/"
        },
        "id": "JuWbvayPWhCQ",
        "outputId": "2cf17676-9136-45a8-c22e-bda4e17a02d1"
      },
      "outputs": [
        {
          "name": "stdout",
          "output_type": "stream",
          "text": [
            "Train shape: (6766, 17), Validation shape: (2255, 17), Test shape: (2255, 17)\n",
            "RMSE on validation set: 10186.68\n",
            "RMSE on test set: 10150.47\n"
          ]
        }
      ],
      "source": [
        "#split the dataframe\n",
        "def split_dataframe(df_new):\n",
        "    df_train = df.sample(frac=0.6, random_state=42)\n",
        "    remaining_df = df.drop(df_train.index)\n",
        "\n",
        "    df_val = remaining_df.sample(frac=0.5, random_state=42)\n",
        "    df_test = remaining_df.drop(df_val.index)\n",
        "\n",
        "    return df_train, df_val, df_test\n",
        "\n",
        "\n",
        "df_train,df_val,df_test = split_dataframe(df_new)\n",
        "print(f\"Train shape: {df_train.shape}, Validation shape: {df_val.shape}, Test shape: {df_test.shape}\")\n",
        "\n",
        "# Train on df_train\n",
        "X_train, y_train = preprae_X_y(df_train)\n",
        "X_train_data = add_bias(X_train)\n",
        "w = linear_regression_model_regularized(X_train_data, y_train,r = 10000)  # best alpha value subsituted\n",
        "\n",
        "# Predict on df_val\n",
        "X_val, y_val = preprae_X_y(df_val)\n",
        "X_val_data = add_bias(X_val)\n",
        "y_pred_val = np.dot(X_val_data, w)\n",
        "\n",
        "# Calculate RMSE for validation\n",
        "rmse_val = rmse(y_pred_val, y_val)\n",
        "\n",
        "# Predict on df_test\n",
        "X_test, y_test = preprae_X_y(df_test)\n",
        "X_test_data = add_bias(X_test)\n",
        "y_pred_test = np.dot(X_test_data, w)\n",
        "\n",
        "# Calculate RMSE for test\n",
        "rmse_test = rmse(y_pred_test, y_test)\n",
        "\n",
        "print(f\"RMSE on validation set: {rmse_val.round(2)}\")\n",
        "print(f\"RMSE on test set: {rmse_test.round(2)}\")"
      ]
    },
    {
      "cell_type": "code",
      "execution_count": 56,
      "metadata": {
        "colab": {
          "base_uri": "https://localhost:8080/",
          "height": 449
        },
        "id": "uBH_-eWNZJ4s",
        "outputId": "5c860232-7c43-492f-ec7e-3ba0c563c9a6"
      },
      "outputs": [
        {
          "data": {
            "image/png": "[encoded data removed]",
            "text/plain": [
              "<Figure size 640x480 with 1 Axes>"
            ]
          },
          "metadata": {},
          "output_type": "display_data"
        }
      ],
      "source": [
        "import seaborn as sns\n",
        "sns.histplot(y_pred_test, bins = 50, color='blue', label='y_pred')\n",
        "sns.histplot(y_test, bins = 50, color='yellow', label='y_test')\n",
        "plt.xlabel('msrp')\n",
        "plt.legend()\n",
        "plt.show()"
      ]
    },
    {
      "cell_type": "markdown",
      "metadata": {},
      "source": [
        "## 2.15 Using the model"
      ]
    },
    {
      "cell_type": "code",
      "execution_count": 76,
      "metadata": {},
      "outputs": [
        {
          "data": {
            "text/plain": [
              "{'make': 'gmc',\n",
              " 'model': 'acadia',\n",
              " 'year': 2016,\n",
              " 'engine_fuel_type': 'regular unleaded',\n",
              " 'engine_hp': 288.0,\n",
              " 'engine_cylinders': 6.0,\n",
              " 'transmission_type': 'automatic',\n",
              " 'driven_wheels': 'front wheel drive',\n",
              " 'number_of_doors': 4.0,\n",
              " 'market_category': 'crossover',\n",
              " 'vehicle_size': 'midsize',\n",
              " 'vehicle_style': '4dr suv',\n",
              " 'highway_mpg': 22,\n",
              " 'city_mpg': 15,\n",
              " 'popularity': 549,\n",
              " 'msrp': 47890,\n",
              " 'car_age': 1}"
            ]
          },
          "execution_count": 76,
          "metadata": {},
          "output_type": "execute_result"
        }
      ],
      "source": [
        "car = df_test.iloc[200].to_dict()\n",
        "car"
      ]
    },
    {
      "cell_type": "code",
      "execution_count": 77,
      "metadata": {},
      "outputs": [],
      "source": [
        "base = ['engine_hp', 'engine_cylinders', 'highway_mpg', 'city_mpg', 'popularity']\n",
        "def prepare_X(df):\n",
        "    df_num = df[base]\n",
        "    df_num = df_num.fillna(0)\n",
        "    X = df_num.values\n",
        "    return X"
      ]
    },
    {
      "cell_type": "code",
      "execution_count": 78,
      "metadata": {},
      "outputs": [
        {
          "name": "stdout",
          "output_type": "stream",
          "text": [
            "(6766, 5)\n",
            "(6766,)\n",
            "[ 2.02073598e+02 -3.74464982e+03 -5.27994541e+01  2.98130907e+02\n",
            " -3.47003564e-01]\n",
            "202.07359757907722\n"
          ]
        }
      ],
      "source": [
        "X_train = prepare_X(df_train)\n",
        "print(X_train.shape)\n",
        "print(y_train.shape)\n",
        "w, w0 = linear_regression_model(X_train, y_train)\n",
        "print(w)\n",
        "print(w0)"
      ]
    },
    {
      "cell_type": "code",
      "execution_count": 83,
      "metadata": {},
      "outputs": [
        {
          "name": "stdout",
          "output_type": "stream",
          "text": [
            "X_test:  [288.   6.  22.  15. 549.]\n",
            "predicted car price:  39051.241439133446\n",
            "original car price: 47890\n",
            "\n"
          ]
        }
      ],
      "source": [
        "X_test = prepare_X(pd.DataFrame([car]))[0]\n",
        "y_pred = w0 + np.dot(X_test,w)\n",
        "\n",
        "print('X_test: ',X_test)\n",
        "print('predicted car price: ',y_pred)\n",
        "print(f'original car price: {car.get(\"msrp\")}')\n",
        "print('')\n",
        "\n"
      ]
    }
  ],
  "metadata": {
    "colab": {
      "provenance": []
    },
    "kernelspec": {
      "display_name": "base",
      "language": "python",
      "name": "python3"
    },
    "language_info": {
      "codemirror_mode": {
        "name": "ipython",
        "version": 3
      },
      "file_extension": ".py",
      "mimetype": "text/x-python",
      "name": "python",
      "nbconvert_exporter": "python",
      "pygments_lexer": "ipython3",
      "version": "3.11.7"
    }
  },
  "nbformat": 4,
  "nbformat_minor": 0
}
