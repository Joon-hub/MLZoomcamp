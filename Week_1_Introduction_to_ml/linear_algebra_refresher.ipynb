{
 "cells": [
  {
   "cell_type": "markdown",
   "metadata": {},
   "source": [
    "### Linear Algebra Refresher\n",
    "\n",
    "- **Vector operations**\n",
    "- **Multiplication**\n",
    "    - Vector-vector multiplication\n",
    "    - Matrix-vector multiplication\n",
    "    - Matrix-matrix multiplication\n",
    "- **Identity matrix**\n",
    "- **Inverse**"
   ]
  },
  {
   "cell_type": "markdown",
   "metadata": {},
   "source": [
    "**Vector operations**"
   ]
  },
  {
   "cell_type": "code",
   "execution_count": 2,
   "metadata": {},
   "outputs": [],
   "source": [
    "import numpy as np \n",
    "import pandas as pd"
   ]
  },
  {
   "cell_type": "code",
   "execution_count": 19,
   "metadata": {},
   "outputs": [
    {
     "name": "stdout",
     "output_type": "stream",
     "text": [
      "u [1 2 3 4]\n",
      "v [6 7 8 9]\n",
      "\n",
      " sum [ 7  9 11 13]\n",
      "\n",
      " multiply [ 6 14 24 36]\n",
      "\n",
      " subtract [-5 -5 -5 -5]\n",
      "\n",
      " scalar multipication [ 3  6  9 12]\n"
     ]
    }
   ],
   "source": [
    "u = np.array([1,2,3,4])\n",
    "v = np.array([6,7,8,9])\n",
    "\n",
    "print('u',u)\n",
    "print('v',v)\n",
    "print('\\n sum', u+v)\n",
    "print('\\n multiply', u*v)\n",
    "print('\\n subtract', u-v)\n",
    "print('\\n scalar multipication', u*3)"
   ]
  },
  {
   "cell_type": "markdown",
   "metadata": {},
   "source": [
    "**Dot product**"
   ]
  },
  {
   "cell_type": "code",
   "execution_count": 22,
   "metadata": {},
   "outputs": [
    {
     "data": {
      "text/plain": [
       "18"
      ]
     },
     "execution_count": 22,
     "metadata": {},
     "output_type": "execute_result"
    }
   ],
   "source": [
    "a = np.array([2,2,2])\n",
    "b = np.array([3,3,3])\n",
    "\n",
    "a.dot(b)"
   ]
  },
  {
   "cell_type": "code",
   "execution_count": 32,
   "metadata": {},
   "outputs": [
    {
     "data": {
      "text/plain": [
       "18"
      ]
     },
     "execution_count": 32,
     "metadata": {},
     "output_type": "execute_result"
    }
   ],
   "source": [
    "a = np.array([2,2,2])\n",
    "b = np.array([3,3,3])\n",
    "\n",
    "def vector_multiply(a, b):\n",
    "    # Check if the shapes are compatible\n",
    "    assert a.shape[0] == b.shape[0]\n",
    "\n",
    "    # Initialize the product accumulator\n",
    "    product = 0\n",
    "\n",
    "    # Perform element-wise multiplication and accumulation\n",
    "    for i in range(len(a)):\n",
    "        product = product + a[i] * b[i]\n",
    "    return product\n",
    "\n",
    "vector_multiply(a, b)\n",
    "\n"
   ]
  },
  {
   "cell_type": "markdown",
   "metadata": {},
   "source": [
    "**Matrix multipication**"
   ]
  },
  {
   "cell_type": "code",
   "execution_count": 78,
   "metadata": {},
   "outputs": [
    {
     "name": "stdout",
     "output_type": "stream",
     "text": [
      "Matrix s:\n",
      "[[2 2 2]\n",
      " [3 3 3]]\n",
      "\n",
      "Matrix v:\n",
      "[[4 4]\n",
      " [5 5]\n",
      " [6 6]]\n",
      "\n",
      " Result of matrix multiplication:\n"
     ]
    },
    {
     "data": {
      "text/plain": [
       "array([[30., 30.],\n",
       "       [45., 45.]])"
      ]
     },
     "execution_count": 78,
     "metadata": {},
     "output_type": "execute_result"
    }
   ],
   "source": [
    "import numpy as np\n",
    "\n",
    "s = np.array([[2, 2, 2], [3, 3, 3]])\n",
    "v = np.array([[4, 4], [5, 5], [6, 6]])\n",
    "\n",
    "print(\"Matrix s:\")\n",
    "print(s)\n",
    "print(\"\\nMatrix v:\")\n",
    "print(v)\n",
    "\n",
    "def matrix_multiply(s, v):\n",
    "    # Check if the number of columns in s matches the number of rows in v\n",
    "    assert s.shape[1] == v.shape[0], \"Number of columns in s must match the number of rows in v for matrix multiplication\"\n",
    "    \n",
    "    # Initialize the result matrix with zeros\n",
    "    result = np.zeros((s.shape[0], v.shape[1]))\n",
    "\n",
    "    # Perform matrix multiplication\n",
    "    for i in range(s.shape[0]):  # Iterate over rows of s\n",
    "        for j in range(v.shape[1]):  # Iterate over columns of v\n",
    "            sum = 0\n",
    "            for k in range(s.shape[1]):  # Dot product of row i of s and column j of v\n",
    "                sum += s[i, k] * v[k, j]\n",
    "            result[i, j] = sum\n",
    "\n",
    "    print(\"\\n Result of matrix multiplication:\")\n",
    "    return result\n",
    "\n",
    "# Call the function\n",
    "matrix_multiply(s, v)\n"
   ]
  },
  {
   "cell_type": "markdown",
   "metadata": {},
   "source": [
    "**Identity matrix**"
   ]
  },
  {
   "cell_type": "code",
   "execution_count": 79,
   "metadata": {},
   "outputs": [
    {
     "data": {
      "text/plain": [
       "array([[1., 0.],\n",
       "       [0., 1.]])"
      ]
     },
     "execution_count": 79,
     "metadata": {},
     "output_type": "execute_result"
    }
   ],
   "source": [
    "np.eye(2,2)"
   ]
  },
  {
   "cell_type": "markdown",
   "metadata": {},
   "source": [
    "**Inverse matrix**"
   ]
  },
  {
   "cell_type": "code",
   "execution_count": 95,
   "metadata": {},
   "outputs": [
    {
     "name": "stdout",
     "output_type": "stream",
     "text": [
      "j \n",
      " [[ 1  2  3]\n",
      " [45 65 78]\n",
      " [33 54 67]]\n",
      "\n",
      " j_inv \n",
      " [[ 1.23275862  0.24137931 -0.3362069 ]\n",
      " [-3.80172414 -0.27586207  0.49137931]\n",
      " [ 2.45689655  0.10344828 -0.21551724]]\n",
      "\n",
      " j_inv * j\n",
      " [[ 1. -0.  0.]\n",
      " [ 0.  1. -0.]\n",
      " [ 0. -0.  1.]]\n"
     ]
    }
   ],
   "source": [
    "j = np.array([[1,2,3],[45,65,78],[33,54,67]])\n",
    "\n",
    "print('j \\n',j)\n",
    "\n",
    "j_inv = np.linalg.inv(j)\n",
    "print('\\n j_inv \\n', j_inv)\n",
    "matrix = np.dot(j,j_inv)\n",
    "\n",
    "print('\\n j_inv * j\\n', np.round(matrix,2))"
   ]
  }
 ],
 "metadata": {
  "kernelspec": {
   "display_name": "base",
   "language": "python",
   "name": "python3"
  },
  "language_info": {
   "codemirror_mode": {
    "name": "ipython",
    "version": 3
   },
   "file_extension": ".py",
   "mimetype": "text/x-python",
   "name": "python",
   "nbconvert_exporter": "python",
   "pygments_lexer": "ipython3",
   "version": "3.11.7"
  }
 },
 "nbformat": 4,
 "nbformat_minor": 2
}
