{
 "cells": [
  {
   "cell_type": "code",
   "execution_count": 187,
   "metadata": {},
   "outputs": [
    {
     "data": {
      "text/html": [
       "<div>\n",
       "<style scoped>\n",
       "    .dataframe tbody tr th:only-of-type {\n",
       "        vertical-align: middle;\n",
       "    }\n",
       "\n",
       "    .dataframe tbody tr th {\n",
       "        vertical-align: top;\n",
       "    }\n",
       "\n",
       "    .dataframe thead th {\n",
       "        text-align: right;\n",
       "    }\n",
       "</style>\n",
       "<table border=\"1\" class=\"dataframe\">\n",
       "  <thead>\n",
       "    <tr style=\"text-align: right;\">\n",
       "      <th></th>\n",
       "      <th>sepal length (cm)</th>\n",
       "      <th>sepal width (cm)</th>\n",
       "      <th>petal length (cm)</th>\n",
       "      <th>petal width (cm)</th>\n",
       "      <th>target</th>\n",
       "    </tr>\n",
       "  </thead>\n",
       "  <tbody>\n",
       "    <tr>\n",
       "      <th>0</th>\n",
       "      <td>5.1</td>\n",
       "      <td>3.5</td>\n",
       "      <td>1.4</td>\n",
       "      <td>0.2</td>\n",
       "      <td>0</td>\n",
       "    </tr>\n",
       "    <tr>\n",
       "      <th>1</th>\n",
       "      <td>4.9</td>\n",
       "      <td>3.0</td>\n",
       "      <td>1.4</td>\n",
       "      <td>0.2</td>\n",
       "      <td>0</td>\n",
       "    </tr>\n",
       "    <tr>\n",
       "      <th>2</th>\n",
       "      <td>4.7</td>\n",
       "      <td>3.2</td>\n",
       "      <td>1.3</td>\n",
       "      <td>0.2</td>\n",
       "      <td>0</td>\n",
       "    </tr>\n",
       "    <tr>\n",
       "      <th>3</th>\n",
       "      <td>4.6</td>\n",
       "      <td>3.1</td>\n",
       "      <td>1.5</td>\n",
       "      <td>0.2</td>\n",
       "      <td>0</td>\n",
       "    </tr>\n",
       "    <tr>\n",
       "      <th>4</th>\n",
       "      <td>5.0</td>\n",
       "      <td>3.6</td>\n",
       "      <td>1.4</td>\n",
       "      <td>0.2</td>\n",
       "      <td>0</td>\n",
       "    </tr>\n",
       "  </tbody>\n",
       "</table>\n",
       "</div>"
      ],
      "text/plain": [
       "   sepal length (cm)  sepal width (cm)  petal length (cm)  petal width (cm)  \\\n",
       "0                5.1               3.5                1.4               0.2   \n",
       "1                4.9               3.0                1.4               0.2   \n",
       "2                4.7               3.2                1.3               0.2   \n",
       "3                4.6               3.1                1.5               0.2   \n",
       "4                5.0               3.6                1.4               0.2   \n",
       "\n",
       "   target  \n",
       "0       0  \n",
       "1       0  \n",
       "2       0  \n",
       "3       0  \n",
       "4       0  "
      ]
     },
     "execution_count": 187,
     "metadata": {},
     "output_type": "execute_result"
    }
   ],
   "source": [
    "import pandas as pd\n",
    "import numpy as np\n",
    "from sklearn import datasets\n",
    "\n",
    "# Load the training and test datasets\n",
    "iris = datasets.load_iris()\n",
    "df = pd.DataFrame(data = iris.data,columns = iris.feature_names)\n",
    "df['target'] = iris.target\n",
    "df.head()"
   ]
  },
  {
   "cell_type": "code",
   "execution_count": 188,
   "metadata": {},
   "outputs": [
    {
     "data": {
      "text/plain": [
       "(90, 30, 30)"
      ]
     },
     "execution_count": 188,
     "metadata": {},
     "output_type": "execute_result"
    }
   ],
   "source": [
    "from sklearn.model_selection import train_test_split\n",
    "X_full_train, X_test, y_full_train, y_test = train_test_split(df.drop('target', axis=1), df['target'], test_size=0.2, random_state=42)\n",
    "X_train, X_val, y_train, y_val = train_test_split(X_full_train, y_full_train, test_size=0.25, random_state=42)\n",
    "len(X_train), len(X_test), len(X_val)\n"
   ]
  },
  {
   "cell_type": "code",
   "execution_count": 189,
   "metadata": {},
   "outputs": [],
   "source": [
    "# Intialize the weights\n",
    "no_of_features = X_train.shape[1]\n",
    "no_of_classes = y_train.nunique()\n",
    "\n",
    "w = np.ones((no_of_features,no_of_classes))\n",
    "b = np.ones(no_of_classes)\n",
    "\n",
    "# Calculate the z linear combinations\n",
    "z = np.dot(X_train,w)+b \n",
    "\n",
    "\n",
    "def softmax_regression(z):\n",
    "    # calculate the softmax probabilities\n",
    "    numerator = np.exp(z)\n",
    "    denominator = np.sum(numerator, axis = 1, keepdims= True) # Sum across classes for each sample\n",
    "    y_pred_probab = numerator/denominator\n",
    "    # y_pred = np.array([np.argmax(i) for i in y_pred_probab])\n",
    "    return y_pred_probab\n",
    "\n",
    "def cross_entropy_log(y_true,y_pred_probab):\n",
    "    epsilon = 1e-12\n",
    "    y_pred = np.clip(y_pred_probab, epsilon ,1-epsilon)\n",
    "    ce_loss = -np.sum(y_true * np.log(y_pred_probab)/y_true.shape[0])\n",
    "    return ce_loss\n",
    "\n",
    "    "
   ]
  },
  {
   "cell_type": "code",
   "execution_count": 190,
   "metadata": {},
   "outputs": [],
   "source": [
    "# One-hot encode y_train to match the output dimensions of y_pred\n",
    "def one_hot_encode(y, num_classes):\n",
    "    return np.eye(num_classes)[y]\n",
    "\n",
    "# Convert y_train to one-hot encoded format\n",
    "y_train_encoded = one_hot_encode(y_train, no_of_classes)"
   ]
  },
  {
   "cell_type": "code",
   "execution_count": 212,
   "metadata": {},
   "outputs": [
    {
     "name": "stdout",
     "output_type": "stream",
     "text": [
      "[0.0014946961414731143, 0.001493087309354669, 0.001491482016491133, 0.0014898802511517076, 0.0014882820016573505, 0.0014866872563805717, 0.0014850960037450665, 0.0014835082322255388, 0.0014819239303472797, 0.0014803430866860957, 0.0014787656898678223, 0.0014771917285681191, 0.0014756211915122692, 0.0014740540674748688, 0.0014724903452794753, 0.0014709300137984648, 0.0014693730619527348, 0.0014678194787113856, 0.001466269253091442, 0.0014647223741577583, 0.0014631788310225584, 0.0014616386128452666, 0.0014601017088323052, 0.001458568108236749, 0.001457037800358141, 0.0014555107745421734, 0.0014539870201805164, 0.0014524665267105256, 0.0014509492836149464, 0.0014494352804218763, 0.0014479245067042323, 0.0014464169520796836, 0.001444912606210443, 0.0014434114588029177, 0.0014419134996074834, 0.0014404187184184705, 0.0014389271050734979, 0.0014374386494536882, 0.0014359533414831773, 0.0014344711711289388, 0.0014329921284006138, 0.0014315162033501938, 0.00143004338607187, 0.001428573666701774, 0.001427107035417798, 0.0014256434824393112, 0.0014241829980269805, 0.0014227255724826241, 0.001421271196148722, 0.0014198198594086175, 0.0014183715526859429, 0.0014169262664446396, 0.0014154839911885762, 0.0014140447174615341, 0.0014126084358467032, 0.0014111751369667966, 0.0014097448114837345, 0.0014083174500982738, 0.0014068930435500848, 0.0014054715826173224, 0.001404053058116484, 0.0014026374609023787, 0.0014012247818676088, 0.0013998150119427055, 0.0013984081420956476, 0.0013970041633319687, 0.001395603066694233, 0.0013942048432620975, 0.0013928094841519677, 0.0013914169805169616, 0.0013900273235465813, 0.001388640504466518, 0.0013872565145386074, 0.0013858753450605391, 0.001384496987365698, 0.001383121432822967, 0.0013817486728365366, 0.0013803786988458352, 0.001379011502325108, 0.0013776470747835444, 0.0013762854077648543, 0.001374926492847204, 0.0013735703216430427, 0.0013722168857989085, 0.001370866176995242, 0.001369518186946188, 0.0013681729073995498, 0.0013668303301364961, 0.0013654904469714234, 0.0013641532497517734, 0.001362818730357951, 0.0013614868807030058, 0.0013601576927326784, 0.0013588311584250222, 0.0013575072697903706, 0.0013561860188711515, 0.0013548673977416695, 0.0013535513985080162, 0.0013522380133079428, 0.0013509272343105484]\n"
     ]
    }
   ],
   "source": [
    "\n",
    "# Gradient Descent Function\n",
    "def gradient_descent(X_train, y_train, num_iterations, learning_rate):\n",
    "    global w, b\n",
    "    losses = [] # list to store the loss at each iteration\n",
    "    for i in range(num_iterations):\n",
    "        # Compute the z linear combination\n",
    "        z = np.dot(X_train, w) + b\n",
    "        \n",
    "        # Get predictions from the softmax function\n",
    "        y_pred_probab = softmax_regression(z)\n",
    "\n",
    "        # Compute the cross-entropy loss\n",
    "        loss = cross_entropy_log(y_train, y_pred_probab)\n",
    "        # print(f\"Iteration {i+1}, Loss: {loss}\")\n",
    "        losses.append(loss)  # Store the loss\n",
    "\n",
    "        # Compute the gradients\n",
    "        error = y_pred_probab - y_train\n",
    "        w_gradient = np.dot(X_train.T, error) / X_train.shape[0]\n",
    "        b_gradient = np.mean(error, axis=0)\n",
    "\n",
    "        # Update weights and biases\n",
    "        w -= learning_rate * w_gradient\n",
    "        b -= learning_rate * b_gradient\n",
    "\n",
    "    return losses\n",
    "\n",
    "# Example usage:\n",
    "# Assuming y_train_encoded is the one-hot encoded version of y_train\n",
    "loss = gradient_descent(X_train, y_train_encoded, num_iterations=100, learning_rate=5.2)\n",
    "print(loss)"
   ]
  },
  {
   "cell_type": "code",
   "execution_count": 213,
   "metadata": {},
   "outputs": [
    {
     "data": {
      "text/plain": [
       "<matplotlib.collections.PathCollection at 0x155061510>"
      ]
     },
     "execution_count": 213,
     "metadata": {},
     "output_type": "execute_result"
    },
    {
     "data": {
      "image/png": "[encoded data removed]",
      "text/plain": [
       "<Figure size 640x480 with 1 Axes>"
      ]
     },
     "metadata": {},
     "output_type": "display_data"
    }
   ],
   "source": [
    "x = np.arange(len(loss))\n",
    "y = np.array(loss)\n",
    "\n",
    "import matplotlib.pyplot as plt \n",
    "plt.scatter(x,y)"
   ]
  },
  {
   "cell_type": "code",
   "execution_count": null,
   "metadata": {},
   "outputs": [],
   "source": []
  }
 ],
 "metadata": {
  "kernelspec": {
   "display_name": "base",
   "language": "python",
   "name": "python3"
  },
  "language_info": {
   "codemirror_mode": {
    "name": "ipython",
    "version": 3
   },
   "file_extension": ".py",
   "mimetype": "text/x-python",
   "name": "python",
   "nbconvert_exporter": "python",
   "pygments_lexer": "ipython3",
   "version": "3.11.7"
  }
 },
 "nbformat": 4,
 "nbformat_minor": 2
}
