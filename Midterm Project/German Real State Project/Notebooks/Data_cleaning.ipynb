{
 "cells": [
  {
   "cell_type": "markdown",
   "metadata": {},
   "source": [
    "## 1. Importing libraries"
   ]
  },
  {
   "cell_type": "code",
   "execution_count": 1,
   "metadata": {},
   "outputs": [],
   "source": [
    "# import libraries\n",
    "import numpy as np\n",
    "import pandas as pd\n",
    "pd.set_option('display.max_columns', None)\n",
    "import seaborn as sns\n",
    "import matplotlib.pyplot as plt\n",
    "import os"
   ]
  },
  {
   "cell_type": "markdown",
   "metadata": {},
   "source": [
    "## 2. Import datasets"
   ]
  },
  {
   "cell_type": "code",
   "execution_count": 2,
   "metadata": {},
   "outputs": [],
   "source": [
    "def get_data(name):\n",
    "    # Check if the dataset directory exists\n",
    "    current_dir = os.getcwd()\n",
    "    print(\"Current directory:\", current_dir)\n",
    "\n",
    "    if current_dir == \"/Users/sudhirjoon/Library/Mobile Documents/com~apple~CloudDocs/Uni_Mannheim/Sem2/Machine Learning zoomcamp/MLZoomcamp\":\n",
    "        print(\"Dataset directory is correct.\")\n",
    "    else:\n",
    "        # change directory\n",
    "        current_dir = os.chdir('/Users/sudhirjoon/Library/Mobile Documents/com~apple~CloudDocs/Uni_Mannheim/Sem2/Machine Learning zoomcamp/MLZoomcamp')\n",
    "        print(\"Current directory updated\")\n",
    "\n",
    "    # Check if the file exists\n",
    "    data_path = \"Midterm Project/German Real State Project/Data\"\n",
    "    file_name = f\"{name}.csv\"\n",
    "    file_path = os.path.join(current_dir, data_path,file_name)\n",
    "    return pd.read_csv(file_path)"
   ]
  },
  {
   "cell_type": "code",
   "execution_count": 4,
   "metadata": {},
   "outputs": [
    {
     "name": "stdout",
     "output_type": "stream",
     "text": [
      "Current directory: /Users/sudhirjoon/Library/Mobile Documents/com~apple~CloudDocs/Uni_Mannheim/Sem2/Machine Learning zoomcamp/MLZoomcamp\n",
      "Dataset directory is correct.\n"
     ]
    },
    {
     "data": {
      "text/plain": [
       "(268850, 49)"
      ]
     },
     "execution_count": 4,
     "metadata": {},
     "output_type": "execute_result"
    }
   ],
   "source": [
    "data = get_data('immo_data')\n",
    "data.shape"
   ]
  },
  {
   "cell_type": "code",
   "execution_count": 5,
   "metadata": {},
   "outputs": [
    {
     "data": {
      "text/html": [
       "<div>\n",
       "<style scoped>\n",
       "    .dataframe tbody tr th:only-of-type {\n",
       "        vertical-align: middle;\n",
       "    }\n",
       "\n",
       "    .dataframe tbody tr th {\n",
       "        vertical-align: top;\n",
       "    }\n",
       "\n",
       "    .dataframe thead th {\n",
       "        text-align: right;\n",
       "    }\n",
       "</style>\n",
       "<table border=\"1\" class=\"dataframe\">\n",
       "  <thead>\n",
       "    <tr style=\"text-align: right;\">\n",
       "      <th></th>\n",
       "      <th>regio1</th>\n",
       "      <th>serviceCharge</th>\n",
       "      <th>heatingType</th>\n",
       "      <th>telekomTvOffer</th>\n",
       "      <th>telekomHybridUploadSpeed</th>\n",
       "      <th>newlyConst</th>\n",
       "      <th>balcony</th>\n",
       "      <th>picturecount</th>\n",
       "      <th>pricetrend</th>\n",
       "      <th>telekomUploadSpeed</th>\n",
       "      <th>totalRent</th>\n",
       "      <th>yearConstructed</th>\n",
       "      <th>scoutId</th>\n",
       "      <th>noParkSpaces</th>\n",
       "      <th>firingTypes</th>\n",
       "      <th>hasKitchen</th>\n",
       "      <th>geo_bln</th>\n",
       "      <th>cellar</th>\n",
       "      <th>yearConstructedRange</th>\n",
       "      <th>baseRent</th>\n",
       "      <th>houseNumber</th>\n",
       "      <th>livingSpace</th>\n",
       "      <th>geo_krs</th>\n",
       "      <th>condition</th>\n",
       "      <th>interiorQual</th>\n",
       "      <th>petsAllowed</th>\n",
       "      <th>street</th>\n",
       "      <th>streetPlain</th>\n",
       "      <th>lift</th>\n",
       "      <th>baseRentRange</th>\n",
       "      <th>typeOfFlat</th>\n",
       "      <th>geo_plz</th>\n",
       "      <th>noRooms</th>\n",
       "      <th>thermalChar</th>\n",
       "      <th>floor</th>\n",
       "      <th>numberOfFloors</th>\n",
       "      <th>noRoomsRange</th>\n",
       "      <th>garden</th>\n",
       "      <th>livingSpaceRange</th>\n",
       "      <th>regio2</th>\n",
       "      <th>regio3</th>\n",
       "      <th>description</th>\n",
       "      <th>facilities</th>\n",
       "      <th>heatingCosts</th>\n",
       "      <th>energyEfficiencyClass</th>\n",
       "      <th>lastRefurbish</th>\n",
       "      <th>electricityBasePrice</th>\n",
       "      <th>electricityKwhPrice</th>\n",
       "      <th>date</th>\n",
       "    </tr>\n",
       "  </thead>\n",
       "  <tbody>\n",
       "    <tr>\n",
       "      <th>0</th>\n",
       "      <td>Nordrhein_Westfalen</td>\n",
       "      <td>245.00</td>\n",
       "      <td>central_heating</td>\n",
       "      <td>ONE_YEAR_FREE</td>\n",
       "      <td>NaN</td>\n",
       "      <td>False</td>\n",
       "      <td>False</td>\n",
       "      <td>6</td>\n",
       "      <td>4.62</td>\n",
       "      <td>10.0</td>\n",
       "      <td>840.0</td>\n",
       "      <td>1965.0</td>\n",
       "      <td>96107057</td>\n",
       "      <td>1.0</td>\n",
       "      <td>oil</td>\n",
       "      <td>False</td>\n",
       "      <td>Nordrhein_Westfalen</td>\n",
       "      <td>True</td>\n",
       "      <td>2.0</td>\n",
       "      <td>595.0</td>\n",
       "      <td>244</td>\n",
       "      <td>86.00</td>\n",
       "      <td>Dortmund</td>\n",
       "      <td>well_kept</td>\n",
       "      <td>normal</td>\n",
       "      <td>NaN</td>\n",
       "      <td>Sch&amp;uuml;ruferstra&amp;szlig;e</td>\n",
       "      <td>Schüruferstraße</td>\n",
       "      <td>False</td>\n",
       "      <td>4</td>\n",
       "      <td>ground_floor</td>\n",
       "      <td>44269</td>\n",
       "      <td>4.0</td>\n",
       "      <td>181.4</td>\n",
       "      <td>1.0</td>\n",
       "      <td>3.0</td>\n",
       "      <td>4</td>\n",
       "      <td>True</td>\n",
       "      <td>4</td>\n",
       "      <td>Dortmund</td>\n",
       "      <td>Schüren</td>\n",
       "      <td>Die ebenerdig zu erreichende Erdgeschosswohnun...</td>\n",
       "      <td>Die Wohnung ist mit Laminat ausgelegt. Das Bad...</td>\n",
       "      <td>NaN</td>\n",
       "      <td>NaN</td>\n",
       "      <td>NaN</td>\n",
       "      <td>NaN</td>\n",
       "      <td>NaN</td>\n",
       "      <td>May19</td>\n",
       "    </tr>\n",
       "    <tr>\n",
       "      <th>1</th>\n",
       "      <td>Rheinland_Pfalz</td>\n",
       "      <td>134.00</td>\n",
       "      <td>self_contained_central_heating</td>\n",
       "      <td>ONE_YEAR_FREE</td>\n",
       "      <td>NaN</td>\n",
       "      <td>False</td>\n",
       "      <td>True</td>\n",
       "      <td>8</td>\n",
       "      <td>3.47</td>\n",
       "      <td>10.0</td>\n",
       "      <td>NaN</td>\n",
       "      <td>1871.0</td>\n",
       "      <td>111378734</td>\n",
       "      <td>2.0</td>\n",
       "      <td>gas</td>\n",
       "      <td>False</td>\n",
       "      <td>Rheinland_Pfalz</td>\n",
       "      <td>False</td>\n",
       "      <td>1.0</td>\n",
       "      <td>800.0</td>\n",
       "      <td>NaN</td>\n",
       "      <td>89.00</td>\n",
       "      <td>Rhein_Pfalz_Kreis</td>\n",
       "      <td>refurbished</td>\n",
       "      <td>normal</td>\n",
       "      <td>no</td>\n",
       "      <td>no_information</td>\n",
       "      <td>NaN</td>\n",
       "      <td>False</td>\n",
       "      <td>5</td>\n",
       "      <td>ground_floor</td>\n",
       "      <td>67459</td>\n",
       "      <td>3.0</td>\n",
       "      <td>NaN</td>\n",
       "      <td>NaN</td>\n",
       "      <td>NaN</td>\n",
       "      <td>3</td>\n",
       "      <td>False</td>\n",
       "      <td>4</td>\n",
       "      <td>Rhein_Pfalz_Kreis</td>\n",
       "      <td>Böhl_Iggelheim</td>\n",
       "      <td>Alles neu macht der Mai – so kann es auch für ...</td>\n",
       "      <td>NaN</td>\n",
       "      <td>NaN</td>\n",
       "      <td>NaN</td>\n",
       "      <td>2019.0</td>\n",
       "      <td>NaN</td>\n",
       "      <td>NaN</td>\n",
       "      <td>May19</td>\n",
       "    </tr>\n",
       "    <tr>\n",
       "      <th>2</th>\n",
       "      <td>Sachsen</td>\n",
       "      <td>255.00</td>\n",
       "      <td>floor_heating</td>\n",
       "      <td>ONE_YEAR_FREE</td>\n",
       "      <td>10.0</td>\n",
       "      <td>True</td>\n",
       "      <td>True</td>\n",
       "      <td>8</td>\n",
       "      <td>2.72</td>\n",
       "      <td>2.4</td>\n",
       "      <td>1300.0</td>\n",
       "      <td>2019.0</td>\n",
       "      <td>113147523</td>\n",
       "      <td>1.0</td>\n",
       "      <td>NaN</td>\n",
       "      <td>False</td>\n",
       "      <td>Sachsen</td>\n",
       "      <td>True</td>\n",
       "      <td>9.0</td>\n",
       "      <td>965.0</td>\n",
       "      <td>4</td>\n",
       "      <td>83.80</td>\n",
       "      <td>Dresden</td>\n",
       "      <td>first_time_use</td>\n",
       "      <td>sophisticated</td>\n",
       "      <td>NaN</td>\n",
       "      <td>Turnerweg</td>\n",
       "      <td>Turnerweg</td>\n",
       "      <td>True</td>\n",
       "      <td>6</td>\n",
       "      <td>apartment</td>\n",
       "      <td>1097</td>\n",
       "      <td>3.0</td>\n",
       "      <td>NaN</td>\n",
       "      <td>3.0</td>\n",
       "      <td>4.0</td>\n",
       "      <td>3</td>\n",
       "      <td>False</td>\n",
       "      <td>4</td>\n",
       "      <td>Dresden</td>\n",
       "      <td>Äußere_Neustadt_Antonstadt</td>\n",
       "      <td>Der Neubau entsteht im Herzen der Dresdner Neu...</td>\n",
       "      <td>* 9 m² Balkon\\n* Bad mit bodengleicher Dusche,...</td>\n",
       "      <td>NaN</td>\n",
       "      <td>NaN</td>\n",
       "      <td>NaN</td>\n",
       "      <td>NaN</td>\n",
       "      <td>NaN</td>\n",
       "      <td>Oct19</td>\n",
       "    </tr>\n",
       "    <tr>\n",
       "      <th>3</th>\n",
       "      <td>Sachsen</td>\n",
       "      <td>58.15</td>\n",
       "      <td>district_heating</td>\n",
       "      <td>ONE_YEAR_FREE</td>\n",
       "      <td>NaN</td>\n",
       "      <td>False</td>\n",
       "      <td>True</td>\n",
       "      <td>9</td>\n",
       "      <td>1.53</td>\n",
       "      <td>40.0</td>\n",
       "      <td>NaN</td>\n",
       "      <td>1964.0</td>\n",
       "      <td>108890903</td>\n",
       "      <td>NaN</td>\n",
       "      <td>district_heating</td>\n",
       "      <td>False</td>\n",
       "      <td>Sachsen</td>\n",
       "      <td>False</td>\n",
       "      <td>2.0</td>\n",
       "      <td>343.0</td>\n",
       "      <td>35</td>\n",
       "      <td>58.15</td>\n",
       "      <td>Mittelsachsen_Kreis</td>\n",
       "      <td>NaN</td>\n",
       "      <td>NaN</td>\n",
       "      <td>NaN</td>\n",
       "      <td>Gl&amp;uuml;ck-Auf-Stra&amp;szlig;e</td>\n",
       "      <td>Glück-Auf-Straße</td>\n",
       "      <td>False</td>\n",
       "      <td>2</td>\n",
       "      <td>other</td>\n",
       "      <td>9599</td>\n",
       "      <td>3.0</td>\n",
       "      <td>86.0</td>\n",
       "      <td>3.0</td>\n",
       "      <td>NaN</td>\n",
       "      <td>3</td>\n",
       "      <td>False</td>\n",
       "      <td>2</td>\n",
       "      <td>Mittelsachsen_Kreis</td>\n",
       "      <td>Freiberg</td>\n",
       "      <td>Abseits von Lärm und Abgasen in Ihre neue Wohn...</td>\n",
       "      <td>NaN</td>\n",
       "      <td>87.23</td>\n",
       "      <td>NaN</td>\n",
       "      <td>NaN</td>\n",
       "      <td>NaN</td>\n",
       "      <td>NaN</td>\n",
       "      <td>May19</td>\n",
       "    </tr>\n",
       "    <tr>\n",
       "      <th>4</th>\n",
       "      <td>Bremen</td>\n",
       "      <td>138.00</td>\n",
       "      <td>self_contained_central_heating</td>\n",
       "      <td>NaN</td>\n",
       "      <td>NaN</td>\n",
       "      <td>False</td>\n",
       "      <td>True</td>\n",
       "      <td>19</td>\n",
       "      <td>2.46</td>\n",
       "      <td>NaN</td>\n",
       "      <td>903.0</td>\n",
       "      <td>1950.0</td>\n",
       "      <td>114751222</td>\n",
       "      <td>NaN</td>\n",
       "      <td>gas</td>\n",
       "      <td>False</td>\n",
       "      <td>Bremen</td>\n",
       "      <td>False</td>\n",
       "      <td>1.0</td>\n",
       "      <td>765.0</td>\n",
       "      <td>10</td>\n",
       "      <td>84.97</td>\n",
       "      <td>Bremen</td>\n",
       "      <td>refurbished</td>\n",
       "      <td>NaN</td>\n",
       "      <td>NaN</td>\n",
       "      <td>Hermann-Henrich-Meier-Allee</td>\n",
       "      <td>Hermann-Henrich-Meier-Allee</td>\n",
       "      <td>False</td>\n",
       "      <td>5</td>\n",
       "      <td>apartment</td>\n",
       "      <td>28213</td>\n",
       "      <td>3.0</td>\n",
       "      <td>188.9</td>\n",
       "      <td>1.0</td>\n",
       "      <td>NaN</td>\n",
       "      <td>3</td>\n",
       "      <td>False</td>\n",
       "      <td>4</td>\n",
       "      <td>Bremen</td>\n",
       "      <td>Neu_Schwachhausen</td>\n",
       "      <td>Es handelt sich hier um ein saniertes Mehrfami...</td>\n",
       "      <td>Diese Wohnung wurde neu saniert und ist wie fo...</td>\n",
       "      <td>NaN</td>\n",
       "      <td>NaN</td>\n",
       "      <td>NaN</td>\n",
       "      <td>NaN</td>\n",
       "      <td>NaN</td>\n",
       "      <td>Feb20</td>\n",
       "    </tr>\n",
       "  </tbody>\n",
       "</table>\n",
       "</div>"
      ],
      "text/plain": [
       "                regio1  serviceCharge                     heatingType  \\\n",
       "0  Nordrhein_Westfalen         245.00                 central_heating   \n",
       "1      Rheinland_Pfalz         134.00  self_contained_central_heating   \n",
       "2              Sachsen         255.00                   floor_heating   \n",
       "3              Sachsen          58.15                district_heating   \n",
       "4               Bremen         138.00  self_contained_central_heating   \n",
       "\n",
       "  telekomTvOffer  telekomHybridUploadSpeed  newlyConst  balcony  picturecount  \\\n",
       "0  ONE_YEAR_FREE                       NaN       False    False             6   \n",
       "1  ONE_YEAR_FREE                       NaN       False     True             8   \n",
       "2  ONE_YEAR_FREE                      10.0        True     True             8   \n",
       "3  ONE_YEAR_FREE                       NaN       False     True             9   \n",
       "4            NaN                       NaN       False     True            19   \n",
       "\n",
       "   pricetrend  telekomUploadSpeed  totalRent  yearConstructed    scoutId  \\\n",
       "0        4.62                10.0      840.0           1965.0   96107057   \n",
       "1        3.47                10.0        NaN           1871.0  111378734   \n",
       "2        2.72                 2.4     1300.0           2019.0  113147523   \n",
       "3        1.53                40.0        NaN           1964.0  108890903   \n",
       "4        2.46                 NaN      903.0           1950.0  114751222   \n",
       "\n",
       "   noParkSpaces       firingTypes  hasKitchen              geo_bln  cellar  \\\n",
       "0           1.0               oil       False  Nordrhein_Westfalen    True   \n",
       "1           2.0               gas       False      Rheinland_Pfalz   False   \n",
       "2           1.0               NaN       False              Sachsen    True   \n",
       "3           NaN  district_heating       False              Sachsen   False   \n",
       "4           NaN               gas       False               Bremen   False   \n",
       "\n",
       "   yearConstructedRange  baseRent houseNumber  livingSpace  \\\n",
       "0                   2.0     595.0         244        86.00   \n",
       "1                   1.0     800.0         NaN        89.00   \n",
       "2                   9.0     965.0           4        83.80   \n",
       "3                   2.0     343.0          35        58.15   \n",
       "4                   1.0     765.0          10        84.97   \n",
       "\n",
       "               geo_krs       condition   interiorQual petsAllowed  \\\n",
       "0             Dortmund       well_kept         normal         NaN   \n",
       "1    Rhein_Pfalz_Kreis     refurbished         normal          no   \n",
       "2              Dresden  first_time_use  sophisticated         NaN   \n",
       "3  Mittelsachsen_Kreis             NaN            NaN         NaN   \n",
       "4               Bremen     refurbished            NaN         NaN   \n",
       "\n",
       "                        street                  streetPlain   lift  \\\n",
       "0   Sch&uuml;ruferstra&szlig;e              Schüruferstraße  False   \n",
       "1               no_information                          NaN  False   \n",
       "2                    Turnerweg                    Turnerweg   True   \n",
       "3  Gl&uuml;ck-Auf-Stra&szlig;e             Glück-Auf-Straße  False   \n",
       "4  Hermann-Henrich-Meier-Allee  Hermann-Henrich-Meier-Allee  False   \n",
       "\n",
       "   baseRentRange    typeOfFlat  geo_plz  noRooms  thermalChar  floor  \\\n",
       "0              4  ground_floor    44269      4.0        181.4    1.0   \n",
       "1              5  ground_floor    67459      3.0          NaN    NaN   \n",
       "2              6     apartment     1097      3.0          NaN    3.0   \n",
       "3              2         other     9599      3.0         86.0    3.0   \n",
       "4              5     apartment    28213      3.0        188.9    1.0   \n",
       "\n",
       "   numberOfFloors  noRoomsRange  garden  livingSpaceRange  \\\n",
       "0             3.0             4    True                 4   \n",
       "1             NaN             3   False                 4   \n",
       "2             4.0             3   False                 4   \n",
       "3             NaN             3   False                 2   \n",
       "4             NaN             3   False                 4   \n",
       "\n",
       "                regio2                      regio3  \\\n",
       "0             Dortmund                     Schüren   \n",
       "1    Rhein_Pfalz_Kreis              Böhl_Iggelheim   \n",
       "2              Dresden  Äußere_Neustadt_Antonstadt   \n",
       "3  Mittelsachsen_Kreis                    Freiberg   \n",
       "4               Bremen           Neu_Schwachhausen   \n",
       "\n",
       "                                         description  \\\n",
       "0  Die ebenerdig zu erreichende Erdgeschosswohnun...   \n",
       "1  Alles neu macht der Mai – so kann es auch für ...   \n",
       "2  Der Neubau entsteht im Herzen der Dresdner Neu...   \n",
       "3  Abseits von Lärm und Abgasen in Ihre neue Wohn...   \n",
       "4  Es handelt sich hier um ein saniertes Mehrfami...   \n",
       "\n",
       "                                          facilities  heatingCosts  \\\n",
       "0  Die Wohnung ist mit Laminat ausgelegt. Das Bad...           NaN   \n",
       "1                                                NaN           NaN   \n",
       "2  * 9 m² Balkon\\n* Bad mit bodengleicher Dusche,...           NaN   \n",
       "3                                                NaN         87.23   \n",
       "4  Diese Wohnung wurde neu saniert und ist wie fo...           NaN   \n",
       "\n",
       "  energyEfficiencyClass  lastRefurbish  electricityBasePrice  \\\n",
       "0                   NaN            NaN                   NaN   \n",
       "1                   NaN         2019.0                   NaN   \n",
       "2                   NaN            NaN                   NaN   \n",
       "3                   NaN            NaN                   NaN   \n",
       "4                   NaN            NaN                   NaN   \n",
       "\n",
       "   electricityKwhPrice   date  \n",
       "0                  NaN  May19  \n",
       "1                  NaN  May19  \n",
       "2                  NaN  Oct19  \n",
       "3                  NaN  May19  \n",
       "4                  NaN  Feb20  "
      ]
     },
     "execution_count": 5,
     "metadata": {},
     "output_type": "execute_result"
    }
   ],
   "source": [
    "data.head()"
   ]
  },
  {
   "cell_type": "code",
   "execution_count": 6,
   "metadata": {},
   "outputs": [
    {
     "name": "stdout",
     "output_type": "stream",
     "text": [
      "<class 'pandas.core.frame.DataFrame'>\n",
      "RangeIndex: 268850 entries, 0 to 268849\n",
      "Data columns (total 49 columns):\n",
      " #   Column                    Non-Null Count   Dtype  \n",
      "---  ------                    --------------   -----  \n",
      " 0   regio1                    268850 non-null  object \n",
      " 1   serviceCharge             261941 non-null  float64\n",
      " 2   heatingType               223994 non-null  object \n",
      " 3   telekomTvOffer            236231 non-null  object \n",
      " 4   telekomHybridUploadSpeed  45020 non-null   float64\n",
      " 5   newlyConst                268850 non-null  bool   \n",
      " 6   balcony                   268850 non-null  bool   \n",
      " 7   picturecount              268850 non-null  int64  \n",
      " 8   pricetrend                267018 non-null  float64\n",
      " 9   telekomUploadSpeed        235492 non-null  float64\n",
      " 10  totalRent                 228333 non-null  float64\n",
      " 11  yearConstructed           211805 non-null  float64\n",
      " 12  scoutId                   268850 non-null  int64  \n",
      " 13  noParkSpaces              93052 non-null   float64\n",
      " 14  firingTypes               211886 non-null  object \n",
      " 15  hasKitchen                268850 non-null  bool   \n",
      " 16  geo_bln                   268850 non-null  object \n",
      " 17  cellar                    268850 non-null  bool   \n",
      " 18  yearConstructedRange      211805 non-null  float64\n",
      " 19  baseRent                  268850 non-null  float64\n",
      " 20  houseNumber               197832 non-null  object \n",
      " 21  livingSpace               268850 non-null  float64\n",
      " 22  geo_krs                   268850 non-null  object \n",
      " 23  condition                 200361 non-null  object \n",
      " 24  interiorQual              156185 non-null  object \n",
      " 25  petsAllowed               154277 non-null  object \n",
      " 26  street                    268850 non-null  object \n",
      " 27  streetPlain               197837 non-null  object \n",
      " 28  lift                      268850 non-null  bool   \n",
      " 29  baseRentRange             268850 non-null  int64  \n",
      " 30  typeOfFlat                232236 non-null  object \n",
      " 31  geo_plz                   268850 non-null  int64  \n",
      " 32  noRooms                   268850 non-null  float64\n",
      " 33  thermalChar               162344 non-null  float64\n",
      " 34  floor                     217541 non-null  float64\n",
      " 35  numberOfFloors            171118 non-null  float64\n",
      " 36  noRoomsRange              268850 non-null  int64  \n",
      " 37  garden                    268850 non-null  bool   \n",
      " 38  livingSpaceRange          268850 non-null  int64  \n",
      " 39  regio2                    268850 non-null  object \n",
      " 40  regio3                    268850 non-null  object \n",
      " 41  description               249103 non-null  object \n",
      " 42  facilities                215926 non-null  object \n",
      " 43  heatingCosts              85518 non-null   float64\n",
      " 44  energyEfficiencyClass     77787 non-null   object \n",
      " 45  lastRefurbish             80711 non-null   float64\n",
      " 46  electricityBasePrice      46846 non-null   float64\n",
      " 47  electricityKwhPrice       46846 non-null   float64\n",
      " 48  date                      268850 non-null  object \n",
      "dtypes: bool(6), float64(18), int64(6), object(19)\n",
      "memory usage: 89.7+ MB\n"
     ]
    }
   ],
   "source": [
    "data.info()"
   ]
  },
  {
   "cell_type": "markdown",
   "metadata": {},
   "source": [
    "- The dataser contains 268850 rows and 11 features\n",
    "- The datatypes of some features isn't appropiate\n",
    "- Most of the features contains have missing values"
   ]
  },
  {
   "cell_type": "markdown",
   "metadata": {},
   "source": [
    "## 3. Preliminary Analysis"
   ]
  },
  {
   "cell_type": "markdown",
   "metadata": {},
   "source": [
    "### 3.1 Check for data types"
   ]
  },
  {
   "cell_type": "code",
   "execution_count": 7,
   "metadata": {},
   "outputs": [
    {
     "data": {
      "text/plain": [
       "19"
      ]
     },
     "execution_count": 7,
     "metadata": {},
     "output_type": "execute_result"
    }
   ],
   "source": [
    "# Objetc data types\n",
    "data.select_dtypes(include='object').shape[1]"
   ]
  },
  {
   "cell_type": "markdown",
   "metadata": {},
   "source": [
    "There are 19 columns has datatype object "
   ]
  },
  {
   "cell_type": "code",
   "execution_count": 8,
   "metadata": {},
   "outputs": [
    {
     "data": {
      "text/plain": [
       "energyEfficiencyClass    71.07\n",
       "petsAllowed              42.62\n",
       "interiorQual             41.91\n",
       "houseNumber              26.42\n",
       "streetPlain              26.41\n",
       "condition                25.47\n",
       "firingTypes              21.19\n",
       "facilities               19.69\n",
       "heatingType              16.68\n",
       "typeOfFlat               13.62\n",
       "telekomTvOffer           12.13\n",
       "description               7.34\n",
       "regio3                    0.00\n",
       "regio1                    0.00\n",
       "regio2                    0.00\n",
       "street                    0.00\n",
       "geo_krs                   0.00\n",
       "geo_bln                   0.00\n",
       "date                      0.00\n",
       "dtype: float64"
      ]
     },
     "execution_count": 8,
     "metadata": {},
     "output_type": "execute_result"
    }
   ],
   "source": [
    "(\n",
    "    (\n",
    "    data.select_dtypes(include='object')\n",
    "    .isna()\n",
    "    .sum()/len(data.select_dtypes(include='object'))*100\n",
    "    )\n",
    "    .sort_values(ascending=False)\n",
    "    .round(2)\n",
    ")"
   ]
  },
  {
   "cell_type": "markdown",
   "metadata": {},
   "source": [
    "energyEfficincy class has 71.07 null values present "
   ]
  },
  {
   "cell_type": "markdown",
   "metadata": {},
   "source": [
    "### 3.2 Check for duplicates"
   ]
  },
  {
   "cell_type": "code",
   "execution_count": 9,
   "metadata": {},
   "outputs": [
    {
     "data": {
      "text/plain": [
       "0"
      ]
     },
     "execution_count": 9,
     "metadata": {},
     "output_type": "execute_result"
    }
   ],
   "source": [
    "data.duplicated().sum()"
   ]
  },
  {
   "cell_type": "markdown",
   "metadata": {},
   "source": [
    "There are no duplicates in the dataset "
   ]
  },
  {
   "cell_type": "markdown",
   "metadata": {},
   "source": [
    "## 4. Detailed Analysis"
   ]
  },
  {
   "cell_type": "markdown",
   "metadata": {},
   "source": [
    "### 4.1 Categorical Features"
   ]
  },
  {
   "cell_type": "markdown",
   "metadata": {},
   "source": [
    "#### Energy Efficincy Class"
   ]
  },
  {
   "cell_type": "code",
   "execution_count": 10,
   "metadata": {},
   "outputs": [
    {
     "data": {
      "text/plain": [
       "energyEfficiencyClass\n",
       "NaN               71.066766\n",
       "C                  5.435373\n",
       "NO_INFORMATION     5.255719\n",
       "D                  5.179468\n",
       "B                  4.215362\n",
       "E                  2.970802\n",
       "A                  1.855310\n",
       "F                  1.667845\n",
       "A_PLUS             1.345732\n",
       "G                  0.671750\n",
       "H                  0.335875\n",
       "Name: proportion, dtype: float64"
      ]
     },
     "execution_count": 10,
     "metadata": {},
     "output_type": "execute_result"
    }
   ],
   "source": [
    "(\n",
    "    data['energyEfficiencyClass']\n",
    "    .value_counts(normalize = True,dropna=False)*100\n",
    ")"
   ]
  },
  {
   "cell_type": "markdown",
   "metadata": {},
   "source": [
    "- There are 71% values are NA and 5% of column do not have th information about energy efficiency, so in total we have ca. 76% of column do not have th information about energy efficiency. Therefore we will drop this column"
   ]
  },
  {
   "cell_type": "markdown",
   "metadata": {},
   "source": [
    "#### Pets Allowed"
   ]
  },
  {
   "cell_type": "code",
   "execution_count": 11,
   "metadata": {},
   "outputs": [
    {
     "data": {
      "text/plain": [
       "petsAllowed\n",
       "NaN           42.615957\n",
       "negotiable    34.208667\n",
       "no            19.338293\n",
       "yes            3.837084\n",
       "Name: proportion, dtype: float64"
      ]
     },
     "execution_count": 11,
     "metadata": {},
     "output_type": "execute_result"
    }
   ],
   "source": [
    "(\n",
    "    data['petsAllowed']\n",
    "    .value_counts(normalize = True,dropna=False)*100\n",
    ")"
   ]
  },
  {
   "cell_type": "code",
   "execution_count": 12,
   "metadata": {},
   "outputs": [
    {
     "data": {
      "text/plain": [
       "petsAllowed\n",
       "unknown       42.615957\n",
       "negotiable    34.208667\n",
       "no            19.338293\n",
       "yes            3.837084\n",
       "Name: proportion, dtype: float64"
      ]
     },
     "execution_count": 12,
     "metadata": {},
     "output_type": "execute_result"
    }
   ],
   "source": [
    "# Replace NaN with \"unknown\"\n",
    "data['petsAllowed'] = data['petsAllowed'].fillna('unknown')\n",
    "(\n",
    "    data['petsAllowed']\n",
    "    .value_counts(normalize = True,dropna=False)*100\n",
    ")"
   ]
  },
  {
   "cell_type": "markdown",
   "metadata": {},
   "source": [
    "#### interiorQual"
   ]
  },
  {
   "cell_type": "code",
   "execution_count": 13,
   "metadata": {},
   "outputs": [
    {
     "data": {
      "text/plain": [
       "interiorQual\n",
       "NaN              41.906267\n",
       "normal           30.435559\n",
       "sophisticated    24.088525\n",
       "luxury            2.844709\n",
       "simple            0.724940\n",
       "Name: proportion, dtype: float64"
      ]
     },
     "execution_count": 13,
     "metadata": {},
     "output_type": "execute_result"
    }
   ],
   "source": [
    "(\n",
    "    data['interiorQual']\n",
    "    .value_counts(normalize = True,dropna=False)*100\n",
    ")"
   ]
  },
  {
   "cell_type": "code",
   "execution_count": 14,
   "metadata": {},
   "outputs": [
    {
     "data": {
      "text/plain": [
       "interiorQual\n",
       "unknown          41.906267\n",
       "normal           30.435559\n",
       "sophisticated    24.088525\n",
       "luxury            2.844709\n",
       "simple            0.724940\n",
       "Name: proportion, dtype: float64"
      ]
     },
     "execution_count": 14,
     "metadata": {},
     "output_type": "execute_result"
    }
   ],
   "source": [
    "# Replace NaN with \"unknown\"\n",
    "data['interiorQual'] = data['interiorQual'].fillna('unknown')\n",
    "(\n",
    "    data['interiorQual']\n",
    "    .value_counts(normalize = True,dropna=False)*100\n",
    ")"
   ]
  },
  {
   "cell_type": "markdown",
   "metadata": {},
   "source": [
    "#### houseNumber"
   ]
  },
  {
   "cell_type": "code",
   "execution_count": 15,
   "metadata": {},
   "outputs": [
    {
     "data": {
      "text/plain": [
       "houseNumber\n",
       "NaN           26.415473\n",
       "1              2.668031\n",
       "2              2.524828\n",
       "4              2.165892\n",
       "3              2.123861\n",
       "                ...    \n",
       "45/0302        0.000372\n",
       "11/0102        0.000372\n",
       "2,33           0.000372\n",
       "7/9 WE 67      0.000372\n",
       "32 (WE 66)     0.000372\n",
       "Name: proportion, Length: 5511, dtype: float64"
      ]
     },
     "execution_count": 15,
     "metadata": {},
     "output_type": "execute_result"
    }
   ],
   "source": [
    "(\n",
    "    data['houseNumber']\n",
    "    .value_counts(normalize = True,dropna=False)*100\n",
    ")"
   ]
  },
  {
   "cell_type": "markdown",
   "metadata": {},
   "source": [
    "- houseNumber do not effect the house price so much and it has more than 42% NaN values therefore we drop the houseNumber column from dataset"
   ]
  },
  {
   "cell_type": "markdown",
   "metadata": {},
   "source": [
    "#### streetPlain"
   ]
  },
  {
   "cell_type": "code",
   "execution_count": 16,
   "metadata": {},
   "outputs": [
    {
     "data": {
      "text/plain": [
       "streetPlain\n",
       "NaN                      26.413614\n",
       "Hauptstraße               0.338851\n",
       "Bahnhofstraße             0.310210\n",
       "Leipziger_Straße          0.159197\n",
       "Goethestraße              0.151014\n",
       "                           ...    \n",
       "Schneewittchenstrasse     0.000372\n",
       "Heidlohstr.               0.000372\n",
       "Tulbeckstr.               0.000372\n",
       "Heissmannsweg             0.000372\n",
       "Robert-Dißmann-Str.       0.000372\n",
       "Name: proportion, Length: 54491, dtype: float64"
      ]
     },
     "execution_count": 16,
     "metadata": {},
     "output_type": "execute_result"
    }
   ],
   "source": [
    "(\n",
    "    data['streetPlain']\n",
    "    .value_counts(normalize = True,dropna=False)*100\n",
    ")"
   ]
  },
  {
   "cell_type": "markdown",
   "metadata": {},
   "source": [
    "- streetPlain do not effect the house price so much and it has more than 26% NaN values therefore we drop the streetPlain column from dataset"
   ]
  },
  {
   "cell_type": "markdown",
   "metadata": {},
   "source": [
    "#### Condition"
   ]
  },
  {
   "cell_type": "code",
   "execution_count": 17,
   "metadata": {},
   "outputs": [
    {
     "data": {
      "text/plain": [
       "condition\n",
       "NaN                                   25.474800\n",
       "well_kept                             24.768830\n",
       "refurbished                           10.029384\n",
       "fully_renovated                        9.807699\n",
       "first_time_use                         8.167752\n",
       "mint_condition                         8.159940\n",
       "modernized                             6.407290\n",
       "first_time_use_after_refurbishment     5.839316\n",
       "negotiable                             0.833178\n",
       "need_of_renovation                     0.510322\n",
       "ripe_for_demolition                    0.001488\n",
       "Name: proportion, dtype: float64"
      ]
     },
     "execution_count": 17,
     "metadata": {},
     "output_type": "execute_result"
    }
   ],
   "source": [
    "(\n",
    "    data['condition']\n",
    "    .value_counts(normalize = True,dropna=False)*100\n",
    ")"
   ]
  },
  {
   "cell_type": "code",
   "execution_count": 18,
   "metadata": {},
   "outputs": [
    {
     "data": {
      "text/plain": [
       "condition\n",
       "unknown                               25.474800\n",
       "well_kept                             24.768830\n",
       "refurbished                           10.029384\n",
       "fully_renovated                        9.807699\n",
       "first_time_use                         8.167752\n",
       "mint_condition                         8.159940\n",
       "modernized                             6.407290\n",
       "first_time_use_after_refurbishment     5.839316\n",
       "negotiable                             0.833178\n",
       "need_of_renovation                     0.510322\n",
       "ripe_for_demolition                    0.001488\n",
       "Name: proportion, dtype: float64"
      ]
     },
     "execution_count": 18,
     "metadata": {},
     "output_type": "execute_result"
    }
   ],
   "source": [
    "data['condition'] = data['condition'].fillna('unknown')\n",
    "(\n",
    "    data['condition']\n",
    "    .value_counts(normalize = True, dropna=False)*100\n",
    ")"
   ]
  },
  {
   "cell_type": "markdown",
   "metadata": {},
   "source": [
    "#### firingTypes"
   ]
  },
  {
   "cell_type": "code",
   "execution_count": 19,
   "metadata": {},
   "outputs": [
    {
     "data": {
      "text/plain": [
       "firingTypes\n",
       "gas                                                                                                  41.249396\n",
       "NaN                                                                                                  21.188023\n",
       "district_heating                                                                                     18.370467\n",
       "oil                                                                                                   6.746141\n",
       "natural_gas_light                                                                                     3.749303\n",
       "                                                                                                       ...    \n",
       "geothermal:solar_heating:pellet_heating:gas                                                           0.000372\n",
       "gas:oil:electricity                                                                                   0.000372\n",
       "district_heating:combined_heat_and_power_fossil_fuels:combined_heat_and_power_regenerative_energy     0.000372\n",
       "pellet_heating:wood:wood_chips                                                                        0.000372\n",
       "district_heating:hydro_energy                                                                         0.000372\n",
       "Name: proportion, Length: 133, dtype: float64"
      ]
     },
     "execution_count": 19,
     "metadata": {},
     "output_type": "execute_result"
    }
   ],
   "source": [
    "(\n",
    "    data['firingTypes']\n",
    "    .value_counts(normalize = True,dropna=False)*100\n",
    ")"
   ]
  },
  {
   "cell_type": "markdown",
   "metadata": {},
   "source": [
    "- Assign NaN values only to the top 4 categories based on their value counts (while ignoring the rest of the categories)"
   ]
  },
  {
   "cell_type": "code",
   "execution_count": 20,
   "metadata": {},
   "outputs": [
    {
     "name": "stdout",
     "output_type": "stream",
     "text": [
      "Top 4 categories: Index(['gas', 'district_heating', 'oil', 'natural_gas_light'], dtype='object', name='firingTypes')\n"
     ]
    }
   ],
   "source": [
    "# Calculate the value counts for the column, excluding NaN\n",
    "value_counts = data['firingTypes'].value_counts(normalize=True)\n",
    "\n",
    "# Get the top 4 categories\n",
    "top_4_categories = value_counts.head(4).index\n",
    "print(\"Top 4 categories:\", top_4_categories)\n",
    "\n",
    "# Filter the rows with NaN values\n",
    "nan_indices = data['firingTypes'][data['firingTypes'].isna()].index\n",
    "\n",
    "# Handle the case where there are no NaN values\n",
    "if len(nan_indices) > 0:\n",
    "    # Normalize probabilities to sum to 1\n",
    "    probabilities = value_counts.loc[top_4_categories].values\n",
    "    probabilities = probabilities / probabilities.sum()  # Ensure sum of probabilities = 1\n",
    "\n",
    "    # Assign NaN values to top 4 categories proportionally\n",
    "    data.loc[nan_indices, 'firingTypes'] = np.random.choice(\n",
    "        top_4_categories, \n",
    "        size=len(nan_indices), \n",
    "        p=probabilities,  # Use normalized probabilities\n",
    "        replace=True  # Ensure sampling with replacement\n",
    "    )\n",
    "else:\n",
    "    print(\"No NaN values found in 'firingTypes' column.\")\n"
   ]
  },
  {
   "cell_type": "code",
   "execution_count": 21,
   "metadata": {},
   "outputs": [
    {
     "data": {
      "text/plain": [
       "firingTypes\n",
       "gas                                                                                                  53.713223\n",
       "district_heating                                                                                     23.992933\n",
       "oil                                                                                                   8.743909\n",
       "natural_gas_light                                                                                     4.853264\n",
       "electricity                                                                                           1.799516\n",
       "                                                                                                       ...    \n",
       "geothermal:solar_heating:pellet_heating:gas                                                           0.000372\n",
       "gas:oil:electricity                                                                                   0.000372\n",
       "district_heating:combined_heat_and_power_fossil_fuels:combined_heat_and_power_regenerative_energy     0.000372\n",
       "pellet_heating:wood:wood_chips                                                                        0.000372\n",
       "district_heating:hydro_energy                                                                         0.000372\n",
       "Name: proportion, Length: 132, dtype: float64"
      ]
     },
     "execution_count": 21,
     "metadata": {},
     "output_type": "execute_result"
    }
   ],
   "source": [
    "(\n",
    "    data['firingTypes']\n",
    "    .value_counts(normalize = True,dropna=False)*100\n",
    ")"
   ]
  },
  {
   "cell_type": "markdown",
   "metadata": {},
   "source": [
    "#### facilities"
   ]
  },
  {
   "cell_type": "code",
   "execution_count": 22,
   "metadata": {},
   "outputs": [
    {
     "data": {
      "text/plain": [
       "facilities\n",
       "NaN                                                                                                                                                                                                                                                                                                                                                                                                                                                                                                                                                                                                                                                                                                                                                                                                                                                                                                                       19.685326\n",
       "Laminat                                                                                                                                                                                                                                                                                                                                                                                                                                                                                                                                                                                                                                                                                                                                                                                                                                                                                                                    0.076995\n",
       "Diese Wohnung wird komplett renoviert und nach Bedarf mit neuen Fußbodenbelägen, Innentüren etc. ausgestattet. Das Bad ist gefliest und wird mit Badewanne bzw. Dusche ausgestattet. \\rDiese Wohnung verfügt über eine moderne Ausstattung. Hierzu gehören die Gegensprechanlage, Kabel-, Internet- und Telefonanschluss ebenso, wie der Waschmaschinen- und Geschirrspüleranschluss.\\rIndividuelle Ausstattungswünsche werden gern nach Möglichkeit und in Absprache mit unseren Mitarbeitern berücksichtigt. Die Wohnung wird vor Übergabe komplett gereinigt und ist sofort bezugsfertig.\\rAbstellmöglichkeiten bietet der mietereigene Keller. Darüber hinaus steht unseren Mietern ein Wäschetrockenplatz zur Verfügung.\\rKostenlose öffentliche Parkplätze sind in unmittelbarer Umgebung vorhanden.                                                                                                                 0.068068\n",
       "Laminatboden                                                                                                                                                                                                                                                                                                                                                                                                                                                                                                                                                                                                                                                                                                                                                                                                                                                                                                               0.039799\n",
       "Einbauküche                                                                                                                                                                                                                                                                                                                                                                                                                                                                                                                                                                                                                                                                                                                                                                                                                                                                                                                0.038683\n",
       "                                                                                                                                                                                                                                                                                                                                                                                                                                                                                                                                                                                                                                                                                                                                                                                                                                                                                                                            ...    \n",
       "Moderne Einbauküche mit Kochinsel,\\nSonnige Terrassen \\nElektrische Markise, Klimaanlage Wohnzimmer und Galerie,\\nFenster sind dreifach verglast und  mit elektrischen Rollläden ausgestattet.\\nAlle EG Fenster und Balkontüren sind mit zusätzlichen abschließbaren Blockschlösser  ausgestattet,\\nSchließanlage für alle Schlösser Zeiss Ikan mit Sperrrippe. Eingangstür Video überwacht,\\nFünf Außenjalousien , Vier zusätzliche Jalousien –Resetten  gelb \\nKamin mit Glasscheibe, eingebaute Tresore, \\nAlarmanlage, Schließanlage , zusätzlich abschließbare Blockschlösser\\nKlimaanlage, Dachisolierung,\\nSauna und Whirlpool Badewanne, \\nZwei Tageslichtbäder mit Badewanne und Dusche,\\nTG Gäste WC mit Dusche,\\nEinbauschränke Ess- und Schlafbereich\\n2 Garagen (großzügige Doppelgarage),  3 Stellplätze\\nGarten\\nGrillecke\\nKühlhaus                                                                        0.000372\n",
       "Wir bieten Ihnen eine TOP-Immobilie. \\n\\nEine große, sehr helle 4-Raumwohnung, in der sich Jedermann nach Herzenslust entfalten kann. Ein großzügig geschnittenes Wohnzimmer läßt alle Einrichtungsmöglichkeiten zu, ob Couchecke und Essbereich oder Arbeitsplatz, hier ist einfach alles möglich. \\n\\nDer Balkon lädt zu geruhsamen Stunden der Entspannung oder einem Nachmittag mit Freunden ein. Eine Fensterfront im Wohnzimmer ist durch helle, großzügige Elemente komplett verglast, dunkle Stunden sind hier tabu. \\n\\nDas Schlafzimmer verfügt durch seine Größe über genügend Platz für Bett und Kleiderschrank oder auch noch die ein oder andere zusätzliche Kommode. Zum Objekt gehören zwei Kinderzimmer, ausgestattet mit TV-Anschluß. \\n\\nDas Badezimmer ist mit einer Badewanne, einem WC und einem Waschmaschinenanschluss ausgestattet.\\n\\nDie Diele bietet Platz für Schuhschrank und Garderobe.     0.000372\n",
       "Die Wohneinheit hat eine gehobene Innenausstattung mit Einbauküche, Einbaubett und Einbauschrank im Schlafzimmer, Eichendielen-Parkett hochwertiger Qualität und einem modernen Bad mit Dusche und Badewanne. Die Loggia im historischen schiefergedeckten Laubengang hat einen langlebigen Lärchenholzbelag.\\n\\nDie großen neuen Holzfenster sind zur Königstraße 4-fach verglast und bieten somit sehr guten Schallschutz. Zusammen mit den 3-fach verglasten Fenstern zur Flussseite und den mit Dämmputz verstärkten Außenwänden ergibt sich ein guter Wärmeschutz und damit Energieeffizienz.\\n\\nDie Heizungsanlage und alle Leitungen sind neu und auch die Innenwände sind neu verputzt.\\n                                                                                                                                                                                                                          0.000372\n",
       "- moderner und nutzerfreundlicher Grundriss\\n- helle und freundliche Wohnräume\\n- Laminat in den Wohnräumen\\n- farbige Fliesen in Bad und Küche\\n- Bad mit Handtuchheizung und Wanne\\n- Waschmaschinenplatz ebenfalls im Bad\\n- sonniger Balkon vom Wohnzimmer aus begehbar\\n- sehr geräumige Küche inkl EBK siehe Fotos                                                                                                                                                                                                                                                                                                                                                                                                                                                                                                                                                                                                   0.000372\n",
       "Balkon, Keller, Fahrstuhl, Vollbad, Einbauküche, Laminat\\n\\nBemerkungen:\\nWohn- und Esszimmer: Couch und Couchtisch(anders als im Bild), Esstisch und Stühle\\nKüche: Einbauküche mit Backofen, Kühl- und Gefrierschrank, kochfeld, Dunstabzug\\nElternzimmer: Bett 180cmx200cm wie in Bild, Kleiderschrank 250cm breit wie im Bild, zwei Nachttische und zwei Kommoden.\\nKinderzimmer: Bett 140cmx 200cm und Schreibtisch und Stuhl.                                                                                                                                                                                                                                                                                                                                                                                                                                                                                        0.000372\n",
       "Name: proportion, Length: 189527, dtype: float64"
      ]
     },
     "execution_count": 22,
     "metadata": {},
     "output_type": "execute_result"
    }
   ],
   "source": [
    "(\n",
    "    data['facilities']\n",
    "    .value_counts(normalize = True,dropna=False)*100\n",
    ")"
   ]
  },
  {
   "cell_type": "code",
   "execution_count": 23,
   "metadata": {},
   "outputs": [
    {
     "data": {
      "text/plain": [
       "0     Die Wohnung ist mit Laminat ausgelegt. Das Bad...\n",
       "1                                                   NaN\n",
       "2     * 9 m² Balkon\\n* Bad mit bodengleicher Dusche,...\n",
       "3                                                   NaN\n",
       "4     Diese Wohnung wurde neu saniert und ist wie fo...\n",
       "5     helle ebenerdige 2 Zi. Wohnung mit Terrasse, h...\n",
       "6                                                   NaN\n",
       "7     Rollläden; Warmwasserbereiter; Kellerraum; Gas...\n",
       "8                     Parkett, Einbauküche, kein Balkon\n",
       "9     In Ihrem neuen Zuhause können Sie nach wenigen...\n",
       "10                                                  NaN\n",
       "11    - Wohnzimmer mit Laminatboden\\n- Tageslichtbad...\n",
       "12    Die Charakteristiken des Jugendstils wurden li...\n",
       "13    Die Wohnung wird vor der Neuvermietung hochwer...\n",
       "14    Fußbodenheizung, hochwertiger Bodenbelag Parke...\n",
       "15    Die Wohnung verfügt über eine separate Küche m...\n",
       "16                         Fliesenböden in allen Räumen\n",
       "17                                                  NaN\n",
       "18    • Balkon\\n • Wanne\\n • Isolierverglasung\\n • g...\n",
       "19    Moderne Architektur gepaart mit hochwertigen M...\n",
       "Name: facilities, dtype: object"
      ]
     },
     "execution_count": 23,
     "metadata": {},
     "output_type": "execute_result"
    }
   ],
   "source": [
    "(\n",
    "    data['facilities']\n",
    "    .head(20)\n",
    ")"
   ]
  },
  {
   "cell_type": "markdown",
   "metadata": {},
   "source": [
    "- droping the facilities column for now , as we need the NLP analysis on the column to extract the features from the description of the facility. This is out of scope for this project."
   ]
  },
  {
   "cell_type": "markdown",
   "metadata": {},
   "source": [
    "#### heatingType"
   ]
  },
  {
   "cell_type": "code",
   "execution_count": 24,
   "metadata": {},
   "outputs": [
    {
     "data": {
      "text/plain": [
       "heatingType\n",
       "central_heating                   47.973591\n",
       "NaN                               16.684397\n",
       "district_heating                   9.227450\n",
       "gas_heating                        7.422354\n",
       "self_contained_central_heating     7.099498\n",
       "floor_heating                      6.582481\n",
       "oil_heating                        1.875395\n",
       "heat_pump                          1.018040\n",
       "combined_heat_and_power_plant      0.735726\n",
       "night_storage_heater               0.498791\n",
       "wood_pellet_heating                0.357448\n",
       "electric_heating                   0.335131\n",
       "stove_heating                      0.127952\n",
       "solar_heating                      0.061744\n",
       "Name: proportion, dtype: float64"
      ]
     },
     "execution_count": 24,
     "metadata": {},
     "output_type": "execute_result"
    }
   ],
   "source": [
    "(\n",
    "\n",
    "    data['heatingType']\n",
    "    .value_counts(normalize = True,dropna=False)*100\n",
    ")"
   ]
  },
  {
   "cell_type": "code",
   "execution_count": 25,
   "metadata": {},
   "outputs": [
    {
     "name": "stdout",
     "output_type": "stream",
     "text": [
      "nan_count: 0.16684396503626558 \n",
      "\n",
      "heatingType\n",
      "central_heating                   57.483827\n",
      "district_heating                  11.060571\n",
      "gas_heating                        8.939276\n",
      "self_contained_central_heating     8.534911\n",
      "floor_heating                      7.918989\n",
      "oil_heating                        2.276996\n",
      "heat_pump                          1.226869\n",
      "combined_heat_and_power_plant      0.882566\n",
      "night_storage_heater               0.609418\n",
      "wood_pellet_heating                0.429997\n",
      "electric_heating                   0.403601\n",
      "stove_heating                      0.155319\n",
      "solar_heating                      0.077660\n",
      "Name: proportion, dtype: float64\n"
     ]
    }
   ],
   "source": [
    "# Get the normalized value counts for 'heatingType' including NaN\n",
    "value_counts = data['heatingType'].value_counts(normalize=True, dropna=False)\n",
    "\n",
    "# Separate the NaN values\n",
    "nan_count = value_counts.get(np.nan, 0) \n",
    "print(f\"nan_count: {nan_count} \\n\" )\n",
    "\n",
    "# Remove the NaN category from value_counts to distribute its proportion\n",
    "non_nan_value_counts = value_counts.dropna()\n",
    "\n",
    "# Normalize the remaining proportions (ensure sum is 1)\n",
    "normalized_non_nan_counts = non_nan_value_counts / non_nan_value_counts.sum()\n",
    "\n",
    "# If there are NaN values, distribute them according to the normalized proportions\n",
    "if nan_count > 0:\n",
    "    # Calculate how many NaN values need to be distributed\n",
    "    nan_indices = data['heatingType'][data['heatingType'].isna()].index\n",
    "    num_nans = len(nan_indices)\n",
    "\n",
    "    # Sample NaN values based on the normalized proportions\n",
    "    sampled_values = np.random.choice(\n",
    "        normalized_non_nan_counts.index, \n",
    "        size=num_nans, \n",
    "        p=normalized_non_nan_counts.values, \n",
    "        replace=True\n",
    "    )\n",
    "\n",
    "    # Assign the sampled values to the NaN indices\n",
    "    data.loc[nan_indices, 'heatingType'] = sampled_values\n",
    "\n",
    "# Now drop the NaN values (in case there are any left)\n",
    "data = data.dropna(subset=['heatingType'])\n",
    "\n",
    "# Verify the result\n",
    "print(data['heatingType'].value_counts(normalize=True) * 100)"
   ]
  },
  {
   "cell_type": "markdown",
   "metadata": {},
   "source": [
    "#### typeOfFlat"
   ]
  },
  {
   "cell_type": "code",
   "execution_count": 26,
   "metadata": {},
   "outputs": [
    {
     "data": {
      "text/plain": [
       "typeOfFlat\n",
       "apartment              49.098880\n",
       "NaN                    13.274062\n",
       "roof_storey            13.013156\n",
       "ground_floor           11.772515\n",
       "other                   3.510752\n",
       "maisonette              3.495449\n",
       "raised_ground_floor     2.119764\n",
       "penthouse               1.335516\n",
       "terraced_flat           1.272394\n",
       "half_basement           0.749817\n",
       "loft                    0.357693\n",
       "Name: proportion, dtype: float64"
      ]
     },
     "execution_count": 26,
     "metadata": {},
     "output_type": "execute_result"
    }
   ],
   "source": [
    "(\n",
    "    data['typeOfFlat']\n",
    "    .value_counts(normalize = True,dropna=False)*100\n",
    ")"
   ]
  },
  {
   "cell_type": "markdown",
   "metadata": {},
   "source": [
    "- 13.27% NaN values "
   ]
  },
  {
   "cell_type": "code",
   "execution_count": 27,
   "metadata": {},
   "outputs": [
    {
     "name": "stdout",
     "output_type": "stream",
     "text": [
      "nan_count: 0.1327406205886066 \n",
      "\n",
      "typeOfFlat\n",
      "apartment              56.632260\n",
      "roof_storey            15.031356\n",
      "ground_floor           13.551591\n",
      "other                   4.047443\n",
      "maisonette              4.027188\n",
      "raised_ground_floor     2.441086\n",
      "penthouse               1.544814\n",
      "terraced_flat           1.463795\n",
      "half_basement           0.855763\n",
      "loft                    0.404705\n",
      "Name: proportion, dtype: float64\n"
     ]
    }
   ],
   "source": [
    "# Get the normalized value counts for 'heatingType' including NaN\n",
    "value_counts = data['typeOfFlat'].value_counts(normalize=True, dropna=False)\n",
    "\n",
    "# Separate the NaN values\n",
    "nan_count = value_counts.get(np.nan, 0) \n",
    "print(f\"nan_count: {nan_count} \\n\" )\n",
    "\n",
    "# Remove the NaN category from value_counts to distribute its proportion\n",
    "non_nan_value_counts = value_counts.dropna()\n",
    "\n",
    "# Normalize the remaining proportions (ensure sum is 1)\n",
    "normalized_non_nan_counts = non_nan_value_counts / non_nan_value_counts.sum()\n",
    "\n",
    "# If there are NaN values, distribute them according to the normalized proportions\n",
    "if nan_count > 0:\n",
    "    # Calculate how many NaN values need to be distributed\n",
    "    nan_indices = data['typeOfFlat'][data['typeOfFlat'].isna()].index\n",
    "    num_nans = len(nan_indices)\n",
    "\n",
    "    # Sample NaN values based on the normalized proportions\n",
    "    sampled_values = np.random.choice(\n",
    "        normalized_non_nan_counts.index, \n",
    "        size=num_nans, \n",
    "        p=normalized_non_nan_counts.values, \n",
    "        replace=True\n",
    "    )\n",
    "\n",
    "    # Assign the sampled values to the NaN indices\n",
    "    data.loc[nan_indices, 'typeOfFlat'] = sampled_values\n",
    "\n",
    "# Now drop the NaN values (in case there are any left)\n",
    "data = data.dropna(subset=['typeOfFlat'])\n",
    "\n",
    "# Verify the result\n",
    "print(data['typeOfFlat'].value_counts(normalize=True) * 100)"
   ]
  },
  {
   "cell_type": "markdown",
   "metadata": {},
   "source": [
    "#### telekomTvOffer"
   ]
  },
  {
   "cell_type": "code",
   "execution_count": 28,
   "metadata": {},
   "outputs": [
    {
     "data": {
      "text/plain": [
       "telekomTvOffer\n",
       "ONE_YEAR_FREE    84.710007\n",
       "NaN              12.099092\n",
       "NONE              1.841623\n",
       "ON_DEMAND         1.349277\n",
       "Name: proportion, dtype: float64"
      ]
     },
     "execution_count": 28,
     "metadata": {},
     "output_type": "execute_result"
    }
   ],
   "source": [
    "(\n",
    "    data['telekomTvOffer']\n",
    "    .value_counts(normalize = True,dropna=False)*100\n",
    ")"
   ]
  },
  {
   "cell_type": "code",
   "execution_count": 29,
   "metadata": {},
   "outputs": [
    {
     "data": {
      "text/plain": [
       "telekomTvOffer\n",
       "ONE_YEAR_FREE    84.710007\n",
       "unknown          13.940716\n",
       "ON_DEMAND         1.349277\n",
       "Name: proportion, dtype: float64"
      ]
     },
     "execution_count": 29,
     "metadata": {},
     "output_type": "execute_result"
    }
   ],
   "source": [
    "data['telekomTvOffer'] = data['telekomTvOffer'].fillna(\"unknown\")\n",
    "data['telekomTvOffer'] = data['telekomTvOffer'].replace(\"NONE\",\"unknown\")\n",
    "\n",
    "(\n",
    "    data['telekomTvOffer']\n",
    "    .value_counts(normalize = True,dropna=False)*100\n",
    ")\n"
   ]
  },
  {
   "cell_type": "markdown",
   "metadata": {},
   "source": [
    "#### description"
   ]
  },
  {
   "cell_type": "code",
   "execution_count": 30,
   "metadata": {},
   "outputs": [
    {
     "data": {
      "text/plain": [
       "description\n",
       "NaN                                                                                                                                                                                                                                                                                                                                                                                                                                                                                                                                                                                                                                                                                                                                                                                                                                                7.085654\n",
       "saniertes Mehrfamilienhaus                                                                                                                                                                                                                                                                                                                                                                                                                                                                                                                                                                                                                                                                                                                                                                                                                         0.073229\n",
       "+ MEIN GUENTZ - Quartier der Generationen\\r\\n+ bis 2020 fertiggestellter Neubau in Johannstadt-Nord\\r\\n+ Wohnen und Nahversorger in einem Areal\\r\\n  (REWE-Supermarkt, Drogerie ROSSMANN, Bäckerei Schwerdtner, TUI-Reisecenter)\\r\\n+ Kleinst- bis Familienwohnungen mit optimalen Grundrissen\\r\\n+ Innenbereich mit begrünten Erholungsflächen und einem Spielplatz sowie Ruhezonen zum Verweilen                                                                                                                                                                                                                                                                                                                                                                                                                                                 0.072060\n",
       "Das Objekt ist ein hochwertig saniertes und denkmalgeschütztes Mehrfamilienhaus.\\r\\n                                                                                                                                                                                                                                                                                                                                                                                                                                                                                                                                                                                                                                                                                                                                                               0.070892\n",
       "-saniertes Mehrfamilienhaus\\n-unterkellert                                                                                                                                                                                                                                                                                                                                                                                                                                                                                                                                                                                                                                                                                                                                                                                                         0.060764\n",
       "                                                                                                                                                                                                                                                                                                                                                                                                                                                                                                                                                                                                                                                                                                                                                                                                                                                     ...   \n",
       "Es handelt sich um ein sehr gepflegtes Mehrfamilienhaus in typischer Bauweise der Stadt. Das Haus steht in Mitten schönster Natur mit bestem Ausblick über die Stadt. Nur 3 min zu Bus, 15min zur Bahn, Ärzten, Einkaufen, 5min zum Schwimmbad und 3 Sekunden bis zur schönen Natur des Saaletals. In der Stadt gibts alles, was nötig ist, Kindergärten, Schulen, Gymnasium, Schwimmbad, Vereine, Wirtshäuser usw..\\nJena ist mit dem Auto 20 min entfernt. Ein Zug fährt alle 30min sowohl nach Jena, als auch zurück.                                                                                                                                                                                                                                                                                                                           0.000390\n",
       "Neu Renovierte 2-Zimmer Wohnung im Dachgeschoss in unserem ruhigen 5-Parteien MFH.                                                                                                                                                                                                                                                                                                                                                                                                                                                                                                                                                                                                                                                                                                                                                                 0.000390\n",
       "neu renovierte 3 Zimmerwohnung plus Küche und Balkon,  neues Bad mit Wanne, neue Einbauküche, abgeschlossener Kellerraum, Gartenbenutzung möglich                                                                                                                                                                                                                                                                                                                                                                                                                                                                                                                                                                                                                                                                                                  0.000390\n",
       "Das zweigeschossige L-förmige Wohnensemble mit gut durchdachten Grundrissen, die auf Ihre Bedürfnisse zugeschnitten sind, bildet mit seinen 2- bis 5-Zimmer-Wohnungen eine harmonische Ergänzung zur bestehenden Bebauung: eine moderne Architektursprache in ansprechender Umsetzung. \\nIntelligent geplant greifen Wohnen, Essen, Schlafen ineinander und bieten Freiraum und Flexibilität für ein besonderes Wohngefühl.\\nDie 2-Zimmer-Wohnung mit 66,09 m² liegt im 2. Obergeschoss. Die Wohnung hat einen schönen Wohn-/Essbereich mit offener Küche, ein Schlafzimmer und einen herrlichen Balkon. Ein Wannen-/Duschbad ergänzt die Wohnung.\\nIm Untergeschoss des L-förmigen Gebäudes befinden sich die gesicherte Tiefgarage sowie Kellerräume. Diese sind von jeder Etage aus über das Treppenhaus oder über den Fahrstuhl erreichbar.    0.000390\n",
       "Schöne, helle, gut geschnittene und teilmöblierte Drei-Zimmer-Wohnung in gepflegter Wohnanlage.\\nBalkon, Einbauküche und Wannenbad. Schöne Aussicht auf Frankfurter Skyline und Taunus.                                                                                                                                                                                                                                                                                                                                                                                                                                                                                                                                                                                                                                                            0.000390\n",
       "Name: proportion, Length: 204471, dtype: float64"
      ]
     },
     "execution_count": 30,
     "metadata": {},
     "output_type": "execute_result"
    }
   ],
   "source": [
    "(\n",
    "    data['description']\n",
    "    .value_counts(normalize = True,dropna=False)*100\n",
    ")"
   ]
  },
  {
   "cell_type": "markdown",
   "metadata": {},
   "source": [
    "- droping the description column for now , as we need the NLP analysis on the column to extract the features from the description of the property. This is out of scope for this project."
   ]
  },
  {
   "cell_type": "code",
   "execution_count": 31,
   "metadata": {},
   "outputs": [
    {
     "data": {
      "text/plain": [
       "regio1\n",
       "Nordrhein_Westfalen       23.648191\n",
       "Sachsen                   21.447825\n",
       "Bayern                     7.994781\n",
       "Sachsen_Anhalt             7.376621\n",
       "Hessen                     6.648230\n",
       "Niedersachsen              6.205352\n",
       "Baden_Württemberg          6.008258\n",
       "Berlin                     3.923188\n",
       "Rheinland_Pfalz            3.135979\n",
       "Thüringen                  3.074826\n",
       "Brandenburg                2.553266\n",
       "Schleswig_Holstein         2.510420\n",
       "Mecklenburg_Vorpommern     2.428622\n",
       "Hamburg                    1.411989\n",
       "Bremen                     1.101157\n",
       "Saarland                   0.531297\n",
       "Name: proportion, dtype: float64"
      ]
     },
     "execution_count": 31,
     "metadata": {},
     "output_type": "execute_result"
    }
   ],
   "source": [
    "(\n",
    "    data\n",
    "    .regio1\n",
    "    .value_counts(normalize = True,dropna=False)*100\n",
    ")"
   ]
  },
  {
   "cell_type": "markdown",
   "metadata": {},
   "source": [
    "#### geo_bln"
   ]
  },
  {
   "cell_type": "code",
   "execution_count": 32,
   "metadata": {},
   "outputs": [
    {
     "data": {
      "text/plain": [
       "geo_bln\n",
       "Nordrhein_Westfalen       23.648191\n",
       "Sachsen                   21.447825\n",
       "Bayern                     7.994781\n",
       "Sachsen_Anhalt             7.376621\n",
       "Hessen                     6.648230\n",
       "Niedersachsen              6.205352\n",
       "Baden_Württemberg          6.008258\n",
       "Berlin                     3.923188\n",
       "Rheinland_Pfalz            3.135979\n",
       "Thüringen                  3.074826\n",
       "Brandenburg                2.553266\n",
       "Schleswig_Holstein         2.510420\n",
       "Mecklenburg_Vorpommern     2.428622\n",
       "Hamburg                    1.411989\n",
       "Bremen                     1.101157\n",
       "Saarland                   0.531297\n",
       "Name: proportion, dtype: float64"
      ]
     },
     "execution_count": 32,
     "metadata": {},
     "output_type": "execute_result"
    }
   ],
   "source": [
    "(\n",
    "    data\n",
    "    .geo_bln\n",
    "    .value_counts(normalize = True,dropna=False)*100\n",
    ")"
   ]
  },
  {
   "cell_type": "markdown",
   "metadata": {},
   "source": [
    "#### geo_krs"
   ]
  },
  {
   "cell_type": "code",
   "execution_count": 33,
   "metadata": {},
   "outputs": [
    {
     "data": {
      "text/plain": [
       "geo_krs\n",
       "Leipzig                         5.079266\n",
       "Chemnitz                        4.632883\n",
       "Berlin                          3.923188\n",
       "Dresden                         2.777626\n",
       "Magdeburg                       1.818253\n",
       "                                  ...   \n",
       "Schwabach                       0.011296\n",
       "Freyung_Grafenau_Kreis          0.010906\n",
       "Haßberge_Kreis                  0.008959\n",
       "Neustadt_a.d._Waldnaab_Kreis    0.005843\n",
       "Kronach_Kreis                   0.004674\n",
       "Name: proportion, Length: 419, dtype: float64"
      ]
     },
     "execution_count": 33,
     "metadata": {},
     "output_type": "execute_result"
    }
   ],
   "source": [
    "(\n",
    "    data\n",
    "    .geo_krs\n",
    "    .value_counts(normalize = True,dropna=False)*100\n",
    "    \n",
    ")"
   ]
  },
  {
   "cell_type": "code",
   "execution_count": 34,
   "metadata": {},
   "outputs": [
    {
     "data": {
      "text/plain": [
       "Index(['regio1', 'heatingType', 'telekomTvOffer', 'firingTypes', 'geo_bln',\n",
       "       'houseNumber', 'geo_krs', 'condition', 'interiorQual', 'petsAllowed',\n",
       "       'street', 'streetPlain', 'typeOfFlat', 'regio2', 'regio3',\n",
       "       'description', 'facilities', 'energyEfficiencyClass', 'date'],\n",
       "      dtype='object')"
      ]
     },
     "execution_count": 34,
     "metadata": {},
     "output_type": "execute_result"
    }
   ],
   "source": [
    "(\n",
    "    data\n",
    "    .select_dtypes(include = 'object')\n",
    "    .columns\n",
    ")"
   ]
  },
  {
   "cell_type": "markdown",
   "metadata": {},
   "source": [
    "#### street"
   ]
  },
  {
   "cell_type": "code",
   "execution_count": 35,
   "metadata": {},
   "outputs": [
    {
     "data": {
      "text/plain": [
       "street\n",
       "no_information                  26.374401\n",
       "Hauptstra&szlig;e                0.354848\n",
       "Bahnhofstra&szlig;e              0.319012\n",
       "Leipziger Stra&szlig;e           0.165933\n",
       "Goethestra&szlig;e               0.155027\n",
       "                                  ...    \n",
       "Angelburger Str.                 0.000390\n",
       "Cornrad-Fromann-Stra&szlig;e     0.000390\n",
       "Hansingstra&szlig;e              0.000390\n",
       "Langendreerstr.                  0.000390\n",
       "Robert-Di&szlig;mann-Str.        0.000390\n",
       "Name: proportion, Length: 51301, dtype: float64"
      ]
     },
     "execution_count": 35,
     "metadata": {},
     "output_type": "execute_result"
    }
   ],
   "source": [
    "(\n",
    "    data\n",
    "    .street\n",
    "    .value_counts(normalize = True,dropna=False)*100\n",
    ")"
   ]
  },
  {
   "cell_type": "code",
   "execution_count": 36,
   "metadata": {},
   "outputs": [
    {
     "data": {
      "text/plain": [
       "Index(['regio1', 'heatingType', 'telekomTvOffer', 'firingTypes', 'geo_bln',\n",
       "       'houseNumber', 'geo_krs', 'condition', 'interiorQual', 'petsAllowed',\n",
       "       'street', 'streetPlain', 'typeOfFlat', 'regio2', 'regio3',\n",
       "       'description', 'facilities', 'energyEfficiencyClass', 'date'],\n",
       "      dtype='object')"
      ]
     },
     "execution_count": 36,
     "metadata": {},
     "output_type": "execute_result"
    }
   ],
   "source": [
    "(\n",
    "    data\n",
    "    .select_dtypes(include = 'object')\n",
    "    .columns\n",
    ")"
   ]
  },
  {
   "cell_type": "markdown",
   "metadata": {},
   "source": [
    "#### regio1"
   ]
  },
  {
   "cell_type": "code",
   "execution_count": 37,
   "metadata": {},
   "outputs": [
    {
     "data": {
      "text/plain": [
       "regio1\n",
       "Nordrhein_Westfalen       60712\n",
       "Sachsen                   55063\n",
       "Bayern                    20525\n",
       "Sachsen_Anhalt            18938\n",
       "Hessen                    17068\n",
       "Niedersachsen             15931\n",
       "Baden_Württemberg         15425\n",
       "Berlin                    10072\n",
       "Rheinland_Pfalz            8051\n",
       "Thüringen                  7894\n",
       "Brandenburg                6555\n",
       "Schleswig_Holstein         6445\n",
       "Mecklenburg_Vorpommern     6235\n",
       "Hamburg                    3625\n",
       "Bremen                     2827\n",
       "Saarland                   1364\n",
       "Name: count, dtype: int64"
      ]
     },
     "execution_count": 37,
     "metadata": {},
     "output_type": "execute_result"
    }
   ],
   "source": [
    "data.regio1.value_counts()"
   ]
  },
  {
   "cell_type": "markdown",
   "metadata": {},
   "source": [
    "- regio1 refers to the german state names"
   ]
  },
  {
   "cell_type": "markdown",
   "metadata": {},
   "source": [
    "#### regio2"
   ]
  },
  {
   "cell_type": "code",
   "execution_count": 38,
   "metadata": {},
   "outputs": [
    {
     "data": {
      "text/plain": [
       "regio2\n",
       "Leipzig                         5.079266\n",
       "Chemnitz                        4.632883\n",
       "Berlin                          3.923188\n",
       "Dresden                         2.777626\n",
       "Magdeburg                       1.818253\n",
       "                                  ...   \n",
       "Schwabach                       0.011296\n",
       "Freyung_Grafenau_Kreis          0.010906\n",
       "Haßberge_Kreis                  0.008959\n",
       "Neustadt_a.d._Waldnaab_Kreis    0.005843\n",
       "Kronach_Kreis                   0.004674\n",
       "Name: proportion, Length: 419, dtype: float64"
      ]
     },
     "execution_count": 38,
     "metadata": {},
     "output_type": "execute_result"
    }
   ],
   "source": [
    "(\n",
    "    data\n",
    "    .regio2\n",
    "    .value_counts(normalize = True,dropna=False)*100\n",
    ")"
   ]
  },
  {
   "cell_type": "markdown",
   "metadata": {},
   "source": [
    "#### regio3"
   ]
  },
  {
   "cell_type": "code",
   "execution_count": 39,
   "metadata": {},
   "outputs": [
    {
     "data": {
      "text/plain": [
       "regio3\n",
       "Innenstadt          1.779301\n",
       "Stadtmitte          1.003778\n",
       "Altstadt            0.876018\n",
       "Sonnenberg          0.706189\n",
       "Kaßberg             0.631013\n",
       "                      ...   \n",
       "Bothenheilingen     0.000390\n",
       "Mammendorf          0.000390\n",
       "Vorderweidenthal    0.000390\n",
       "Altusried           0.000390\n",
       "Eberfing            0.000390\n",
       "Name: proportion, Length: 8634, dtype: float64"
      ]
     },
     "execution_count": 39,
     "metadata": {},
     "output_type": "execute_result"
    }
   ],
   "source": [
    "(\n",
    "    data\n",
    "    .regio3\n",
    "    .value_counts(normalize = True,dropna=False)*100\n",
    ")"
   ]
  },
  {
   "cell_type": "code",
   "execution_count": 40,
   "metadata": {},
   "outputs": [],
   "source": [
    "data = data.rename(columns={'regio1': 'stateName',\n",
    "                            'regio2': 'cityName',\n",
    "                            'regio3':'cityDistrict'})"
   ]
  },
  {
   "cell_type": "markdown",
   "metadata": {},
   "source": [
    "#### Drop the categorical columns after analysis "
   ]
  },
  {
   "cell_type": "code",
   "execution_count": 41,
   "metadata": {},
   "outputs": [
    {
     "data": {
      "text/plain": [
       "(256730, 49)"
      ]
     },
     "execution_count": 41,
     "metadata": {},
     "output_type": "execute_result"
    }
   ],
   "source": [
    "data.shape"
   ]
  },
  {
   "cell_type": "code",
   "execution_count": 117,
   "metadata": {},
   "outputs": [],
   "source": [
    "data.drop(['energyEfficiencyClass'],axis=1, inplace= True)\n",
    "data.drop(['houseNumber'],axis=1, inplace= True)\n",
    "data.drop(['streetPlain'],axis=1, inplace= True)\n",
    "data.drop(['facilities'],axis=1, inplace= True)\n",
    "data.drop(['description'],axis=1, inplace= True)\n",
    "data.drop(['date'],axis=1, inplace= True)\n",
    "data.drop(['street'],axis=1, inplace= True)\n",
    "data.drop(['geo_bln'],axis=1, inplace= True) # geo_bln has same information as stateName\n",
    "data.drop(['geo_krs'],axis=1, inplace= True) # geo_krs has same information as cityName\n",
    "data.drop(['noRoomsRange'],axis=1, inplace= True) # noRooms has same information as noRoomsRange"
   ]
  },
  {
   "cell_type": "code",
   "execution_count": 43,
   "metadata": {},
   "outputs": [
    {
     "data": {
      "text/plain": [
       "(256730, 40)"
      ]
     },
     "execution_count": 43,
     "metadata": {},
     "output_type": "execute_result"
    }
   ],
   "source": [
    "data.shape"
   ]
  },
  {
   "cell_type": "code",
   "execution_count": 44,
   "metadata": {},
   "outputs": [
    {
     "data": {
      "text/html": [
       "<div>\n",
       "<style scoped>\n",
       "    .dataframe tbody tr th:only-of-type {\n",
       "        vertical-align: middle;\n",
       "    }\n",
       "\n",
       "    .dataframe tbody tr th {\n",
       "        vertical-align: top;\n",
       "    }\n",
       "\n",
       "    .dataframe thead th {\n",
       "        text-align: right;\n",
       "    }\n",
       "</style>\n",
       "<table border=\"1\" class=\"dataframe\">\n",
       "  <thead>\n",
       "    <tr style=\"text-align: right;\">\n",
       "      <th></th>\n",
       "      <th>stateName</th>\n",
       "      <th>heatingType</th>\n",
       "      <th>telekomTvOffer</th>\n",
       "      <th>firingTypes</th>\n",
       "      <th>condition</th>\n",
       "      <th>interiorQual</th>\n",
       "      <th>petsAllowed</th>\n",
       "      <th>typeOfFlat</th>\n",
       "      <th>cityName</th>\n",
       "      <th>cityDistrict</th>\n",
       "    </tr>\n",
       "  </thead>\n",
       "  <tbody>\n",
       "    <tr>\n",
       "      <th>0</th>\n",
       "      <td>Nordrhein_Westfalen</td>\n",
       "      <td>central_heating</td>\n",
       "      <td>ONE_YEAR_FREE</td>\n",
       "      <td>oil</td>\n",
       "      <td>well_kept</td>\n",
       "      <td>normal</td>\n",
       "      <td>unknown</td>\n",
       "      <td>ground_floor</td>\n",
       "      <td>Dortmund</td>\n",
       "      <td>Schüren</td>\n",
       "    </tr>\n",
       "    <tr>\n",
       "      <th>1</th>\n",
       "      <td>Rheinland_Pfalz</td>\n",
       "      <td>self_contained_central_heating</td>\n",
       "      <td>ONE_YEAR_FREE</td>\n",
       "      <td>gas</td>\n",
       "      <td>refurbished</td>\n",
       "      <td>normal</td>\n",
       "      <td>no</td>\n",
       "      <td>ground_floor</td>\n",
       "      <td>Rhein_Pfalz_Kreis</td>\n",
       "      <td>Böhl_Iggelheim</td>\n",
       "    </tr>\n",
       "  </tbody>\n",
       "</table>\n",
       "</div>"
      ],
      "text/plain": [
       "             stateName                     heatingType telekomTvOffer  \\\n",
       "0  Nordrhein_Westfalen                 central_heating  ONE_YEAR_FREE   \n",
       "1      Rheinland_Pfalz  self_contained_central_heating  ONE_YEAR_FREE   \n",
       "\n",
       "  firingTypes    condition interiorQual petsAllowed    typeOfFlat  \\\n",
       "0         oil    well_kept       normal     unknown  ground_floor   \n",
       "1         gas  refurbished       normal          no  ground_floor   \n",
       "\n",
       "            cityName    cityDistrict  \n",
       "0           Dortmund         Schüren  \n",
       "1  Rhein_Pfalz_Kreis  Böhl_Iggelheim  "
      ]
     },
     "execution_count": 44,
     "metadata": {},
     "output_type": "execute_result"
    }
   ],
   "source": [
    "(\n",
    "    data\n",
    "    .select_dtypes(include=['object'])\n",
    "    .head(2)\n",
    ")"
   ]
  },
  {
   "cell_type": "code",
   "execution_count": 45,
   "metadata": {},
   "outputs": [
    {
     "data": {
      "text/plain": [
       "10"
      ]
     },
     "execution_count": 45,
     "metadata": {},
     "output_type": "execute_result"
    }
   ],
   "source": [
    "(\n",
    "    data\n",
    "    .select_dtypes(include=['object'])\n",
    "    .columns\n",
    "    .nunique()\n",
    ")"
   ]
  },
  {
   "cell_type": "code",
   "execution_count": 46,
   "metadata": {},
   "outputs": [
    {
     "data": {
      "text/plain": [
       "stateName         0\n",
       "heatingType       0\n",
       "telekomTvOffer    0\n",
       "firingTypes       0\n",
       "condition         0\n",
       "interiorQual      0\n",
       "petsAllowed       0\n",
       "typeOfFlat        0\n",
       "cityName          0\n",
       "cityDistrict      0\n",
       "dtype: int64"
      ]
     },
     "execution_count": 46,
     "metadata": {},
     "output_type": "execute_result"
    }
   ],
   "source": [
    "(\n",
    "    data\n",
    "    .select_dtypes(include=['object'])\n",
    "    .isna()\n",
    "    .sum()\n",
    ")"
   ]
  },
  {
   "cell_type": "markdown",
   "metadata": {},
   "source": [
    "### 4.2 Numerical Features"
   ]
  },
  {
   "cell_type": "code",
   "execution_count": 47,
   "metadata": {},
   "outputs": [
    {
     "data": {
      "text/plain": [
       "(256730, 40)"
      ]
     },
     "execution_count": 47,
     "metadata": {},
     "output_type": "execute_result"
    }
   ],
   "source": [
    "data.shape"
   ]
  },
  {
   "cell_type": "code",
   "execution_count": 48,
   "metadata": {},
   "outputs": [
    {
     "data": {
      "text/html": [
       "<div>\n",
       "<style scoped>\n",
       "    .dataframe tbody tr th:only-of-type {\n",
       "        vertical-align: middle;\n",
       "    }\n",
       "\n",
       "    .dataframe tbody tr th {\n",
       "        vertical-align: top;\n",
       "    }\n",
       "\n",
       "    .dataframe thead th {\n",
       "        text-align: right;\n",
       "    }\n",
       "</style>\n",
       "<table border=\"1\" class=\"dataframe\">\n",
       "  <thead>\n",
       "    <tr style=\"text-align: right;\">\n",
       "      <th></th>\n",
       "      <th>serviceCharge</th>\n",
       "      <th>telekomHybridUploadSpeed</th>\n",
       "      <th>picturecount</th>\n",
       "      <th>pricetrend</th>\n",
       "      <th>telekomUploadSpeed</th>\n",
       "      <th>totalRent</th>\n",
       "      <th>yearConstructed</th>\n",
       "      <th>scoutId</th>\n",
       "      <th>noParkSpaces</th>\n",
       "      <th>yearConstructedRange</th>\n",
       "      <th>baseRent</th>\n",
       "      <th>livingSpace</th>\n",
       "      <th>baseRentRange</th>\n",
       "      <th>geo_plz</th>\n",
       "      <th>noRooms</th>\n",
       "      <th>thermalChar</th>\n",
       "      <th>floor</th>\n",
       "      <th>numberOfFloors</th>\n",
       "      <th>noRoomsRange</th>\n",
       "      <th>livingSpaceRange</th>\n",
       "      <th>heatingCosts</th>\n",
       "      <th>lastRefurbish</th>\n",
       "      <th>electricityBasePrice</th>\n",
       "      <th>electricityKwhPrice</th>\n",
       "    </tr>\n",
       "  </thead>\n",
       "  <tbody>\n",
       "    <tr>\n",
       "      <th>count</th>\n",
       "      <td>250473.000000</td>\n",
       "      <td>42888.0</td>\n",
       "      <td>256730.000000</td>\n",
       "      <td>254943.000000</td>\n",
       "      <td>224960.000000</td>\n",
       "      <td>2.183560e+05</td>\n",
       "      <td>203519.000000</td>\n",
       "      <td>2.567300e+05</td>\n",
       "      <td>89834.000000</td>\n",
       "      <td>203519.000000</td>\n",
       "      <td>2.567300e+05</td>\n",
       "      <td>256730.000000</td>\n",
       "      <td>256730.000000</td>\n",
       "      <td>256730.000000</td>\n",
       "      <td>256730.000000</td>\n",
       "      <td>155647.000000</td>\n",
       "      <td>208525.000000</td>\n",
       "      <td>165910.000000</td>\n",
       "      <td>256730.000000</td>\n",
       "      <td>256730.000000</td>\n",
       "      <td>81205.000000</td>\n",
       "      <td>78623.000000</td>\n",
       "      <td>44676.000000</td>\n",
       "      <td>44676.000000</td>\n",
       "    </tr>\n",
       "    <tr>\n",
       "      <th>mean</th>\n",
       "      <td>151.893569</td>\n",
       "      <td>10.0</td>\n",
       "      <td>9.834791</td>\n",
       "      <td>3.397688</td>\n",
       "      <td>28.822001</td>\n",
       "      <td>9.025312e+02</td>\n",
       "      <td>1966.405854</td>\n",
       "      <td>1.069114e+08</td>\n",
       "      <td>1.327137</td>\n",
       "      <td>3.718945</td>\n",
       "      <td>6.933801e+02</td>\n",
       "      <td>74.551131</td>\n",
       "      <td>3.776532</td>\n",
       "      <td>37362.000534</td>\n",
       "      <td>2.646273</td>\n",
       "      <td>114.859115</td>\n",
       "      <td>2.117871</td>\n",
       "      <td>3.566397</td>\n",
       "      <td>2.576022</td>\n",
       "      <td>3.080509</td>\n",
       "      <td>76.955355</td>\n",
       "      <td>2013.924780</td>\n",
       "      <td>89.113688</td>\n",
       "      <td>0.199715</td>\n",
       "    </tr>\n",
       "    <tr>\n",
       "      <th>std</th>\n",
       "      <td>314.540228</td>\n",
       "      <td>0.0</td>\n",
       "      <td>6.412359</td>\n",
       "      <td>1.963005</td>\n",
       "      <td>16.326997</td>\n",
       "      <td>3.392163e+04</td>\n",
       "      <td>47.169460</td>\n",
       "      <td>1.257833e+07</td>\n",
       "      <td>8.465680</td>\n",
       "      <td>2.740687</td>\n",
       "      <td>1.989393e+04</td>\n",
       "      <td>260.017094</td>\n",
       "      <td>2.211117</td>\n",
       "      <td>27715.185340</td>\n",
       "      <td>2.679652</td>\n",
       "      <td>61.566227</td>\n",
       "      <td>3.686622</td>\n",
       "      <td>6.462244</td>\n",
       "      <td>0.937463</td>\n",
       "      <td>1.408555</td>\n",
       "      <td>140.770696</td>\n",
       "      <td>11.026686</td>\n",
       "      <td>5.395695</td>\n",
       "      <td>0.009673</td>\n",
       "    </tr>\n",
       "    <tr>\n",
       "      <th>min</th>\n",
       "      <td>0.000000</td>\n",
       "      <td>10.0</td>\n",
       "      <td>0.000000</td>\n",
       "      <td>-12.330000</td>\n",
       "      <td>1.000000</td>\n",
       "      <td>0.000000e+00</td>\n",
       "      <td>1000.000000</td>\n",
       "      <td>2.887174e+07</td>\n",
       "      <td>0.000000</td>\n",
       "      <td>1.000000</td>\n",
       "      <td>0.000000e+00</td>\n",
       "      <td>0.000000</td>\n",
       "      <td>1.000000</td>\n",
       "      <td>852.000000</td>\n",
       "      <td>1.000000</td>\n",
       "      <td>0.100000</td>\n",
       "      <td>-1.000000</td>\n",
       "      <td>0.000000</td>\n",
       "      <td>1.000000</td>\n",
       "      <td>1.000000</td>\n",
       "      <td>0.000000</td>\n",
       "      <td>1015.000000</td>\n",
       "      <td>71.430000</td>\n",
       "      <td>0.170500</td>\n",
       "    </tr>\n",
       "    <tr>\n",
       "      <th>25%</th>\n",
       "      <td>95.000000</td>\n",
       "      <td>10.0</td>\n",
       "      <td>6.000000</td>\n",
       "      <td>2.000000</td>\n",
       "      <td>10.000000</td>\n",
       "      <td>4.700000e+02</td>\n",
       "      <td>1950.000000</td>\n",
       "      <td>1.066746e+08</td>\n",
       "      <td>1.000000</td>\n",
       "      <td>1.000000</td>\n",
       "      <td>3.400000e+02</td>\n",
       "      <td>54.220000</td>\n",
       "      <td>2.000000</td>\n",
       "      <td>9130.000000</td>\n",
       "      <td>2.000000</td>\n",
       "      <td>79.000000</td>\n",
       "      <td>1.000000</td>\n",
       "      <td>2.000000</td>\n",
       "      <td>2.000000</td>\n",
       "      <td>2.000000</td>\n",
       "      <td>54.000000</td>\n",
       "      <td>2012.000000</td>\n",
       "      <td>90.760000</td>\n",
       "      <td>0.191500</td>\n",
       "    </tr>\n",
       "    <tr>\n",
       "      <th>50%</th>\n",
       "      <td>135.000000</td>\n",
       "      <td>10.0</td>\n",
       "      <td>9.000000</td>\n",
       "      <td>3.390000</td>\n",
       "      <td>40.000000</td>\n",
       "      <td>6.500000e+02</td>\n",
       "      <td>1973.000000</td>\n",
       "      <td>1.111515e+08</td>\n",
       "      <td>1.000000</td>\n",
       "      <td>3.000000</td>\n",
       "      <td>4.947000e+02</td>\n",
       "      <td>67.680000</td>\n",
       "      <td>3.000000</td>\n",
       "      <td>38820.000000</td>\n",
       "      <td>3.000000</td>\n",
       "      <td>107.000000</td>\n",
       "      <td>2.000000</td>\n",
       "      <td>3.000000</td>\n",
       "      <td>3.000000</td>\n",
       "      <td>3.000000</td>\n",
       "      <td>70.000000</td>\n",
       "      <td>2017.000000</td>\n",
       "      <td>90.760000</td>\n",
       "      <td>0.198500</td>\n",
       "    </tr>\n",
       "    <tr>\n",
       "      <th>75%</th>\n",
       "      <td>190.000000</td>\n",
       "      <td>10.0</td>\n",
       "      <td>13.000000</td>\n",
       "      <td>4.580000</td>\n",
       "      <td>40.000000</td>\n",
       "      <td>9.890975e+02</td>\n",
       "      <td>1996.000000</td>\n",
       "      <td>1.137670e+08</td>\n",
       "      <td>1.000000</td>\n",
       "      <td>5.000000</td>\n",
       "      <td>8.000000e+02</td>\n",
       "      <td>87.000000</td>\n",
       "      <td>5.000000</td>\n",
       "      <td>57072.000000</td>\n",
       "      <td>3.000000</td>\n",
       "      <td>140.800000</td>\n",
       "      <td>3.000000</td>\n",
       "      <td>4.000000</td>\n",
       "      <td>3.000000</td>\n",
       "      <td>4.000000</td>\n",
       "      <td>90.000000</td>\n",
       "      <td>2019.000000</td>\n",
       "      <td>90.760000</td>\n",
       "      <td>0.205500</td>\n",
       "    </tr>\n",
       "    <tr>\n",
       "      <th>max</th>\n",
       "      <td>146118.000000</td>\n",
       "      <td>10.0</td>\n",
       "      <td>121.000000</td>\n",
       "      <td>14.920000</td>\n",
       "      <td>100.000000</td>\n",
       "      <td>1.575154e+07</td>\n",
       "      <td>2090.000000</td>\n",
       "      <td>1.157117e+08</td>\n",
       "      <td>2241.000000</td>\n",
       "      <td>9.000000</td>\n",
       "      <td>9.999999e+06</td>\n",
       "      <td>111111.000000</td>\n",
       "      <td>9.000000</td>\n",
       "      <td>99998.000000</td>\n",
       "      <td>999.990000</td>\n",
       "      <td>1983.000000</td>\n",
       "      <td>999.000000</td>\n",
       "      <td>999.000000</td>\n",
       "      <td>5.000000</td>\n",
       "      <td>7.000000</td>\n",
       "      <td>12613.000000</td>\n",
       "      <td>2919.000000</td>\n",
       "      <td>90.760000</td>\n",
       "      <td>0.227600</td>\n",
       "    </tr>\n",
       "  </tbody>\n",
       "</table>\n",
       "</div>"
      ],
      "text/plain": [
       "       serviceCharge  telekomHybridUploadSpeed   picturecount     pricetrend  \\\n",
       "count  250473.000000                   42888.0  256730.000000  254943.000000   \n",
       "mean      151.893569                      10.0       9.834791       3.397688   \n",
       "std       314.540228                       0.0       6.412359       1.963005   \n",
       "min         0.000000                      10.0       0.000000     -12.330000   \n",
       "25%        95.000000                      10.0       6.000000       2.000000   \n",
       "50%       135.000000                      10.0       9.000000       3.390000   \n",
       "75%       190.000000                      10.0      13.000000       4.580000   \n",
       "max    146118.000000                      10.0     121.000000      14.920000   \n",
       "\n",
       "       telekomUploadSpeed     totalRent  yearConstructed       scoutId  \\\n",
       "count       224960.000000  2.183560e+05    203519.000000  2.567300e+05   \n",
       "mean            28.822001  9.025312e+02      1966.405854  1.069114e+08   \n",
       "std             16.326997  3.392163e+04        47.169460  1.257833e+07   \n",
       "min              1.000000  0.000000e+00      1000.000000  2.887174e+07   \n",
       "25%             10.000000  4.700000e+02      1950.000000  1.066746e+08   \n",
       "50%             40.000000  6.500000e+02      1973.000000  1.111515e+08   \n",
       "75%             40.000000  9.890975e+02      1996.000000  1.137670e+08   \n",
       "max            100.000000  1.575154e+07      2090.000000  1.157117e+08   \n",
       "\n",
       "       noParkSpaces  yearConstructedRange      baseRent    livingSpace  \\\n",
       "count  89834.000000         203519.000000  2.567300e+05  256730.000000   \n",
       "mean       1.327137              3.718945  6.933801e+02      74.551131   \n",
       "std        8.465680              2.740687  1.989393e+04     260.017094   \n",
       "min        0.000000              1.000000  0.000000e+00       0.000000   \n",
       "25%        1.000000              1.000000  3.400000e+02      54.220000   \n",
       "50%        1.000000              3.000000  4.947000e+02      67.680000   \n",
       "75%        1.000000              5.000000  8.000000e+02      87.000000   \n",
       "max     2241.000000              9.000000  9.999999e+06  111111.000000   \n",
       "\n",
       "       baseRentRange        geo_plz        noRooms    thermalChar  \\\n",
       "count  256730.000000  256730.000000  256730.000000  155647.000000   \n",
       "mean        3.776532   37362.000534       2.646273     114.859115   \n",
       "std         2.211117   27715.185340       2.679652      61.566227   \n",
       "min         1.000000     852.000000       1.000000       0.100000   \n",
       "25%         2.000000    9130.000000       2.000000      79.000000   \n",
       "50%         3.000000   38820.000000       3.000000     107.000000   \n",
       "75%         5.000000   57072.000000       3.000000     140.800000   \n",
       "max         9.000000   99998.000000     999.990000    1983.000000   \n",
       "\n",
       "               floor  numberOfFloors   noRoomsRange  livingSpaceRange  \\\n",
       "count  208525.000000   165910.000000  256730.000000     256730.000000   \n",
       "mean        2.117871        3.566397       2.576022          3.080509   \n",
       "std         3.686622        6.462244       0.937463          1.408555   \n",
       "min        -1.000000        0.000000       1.000000          1.000000   \n",
       "25%         1.000000        2.000000       2.000000          2.000000   \n",
       "50%         2.000000        3.000000       3.000000          3.000000   \n",
       "75%         3.000000        4.000000       3.000000          4.000000   \n",
       "max       999.000000      999.000000       5.000000          7.000000   \n",
       "\n",
       "       heatingCosts  lastRefurbish  electricityBasePrice  electricityKwhPrice  \n",
       "count  81205.000000   78623.000000          44676.000000         44676.000000  \n",
       "mean      76.955355    2013.924780             89.113688             0.199715  \n",
       "std      140.770696      11.026686              5.395695             0.009673  \n",
       "min        0.000000    1015.000000             71.430000             0.170500  \n",
       "25%       54.000000    2012.000000             90.760000             0.191500  \n",
       "50%       70.000000    2017.000000             90.760000             0.198500  \n",
       "75%       90.000000    2019.000000             90.760000             0.205500  \n",
       "max    12613.000000    2919.000000             90.760000             0.227600  "
      ]
     },
     "execution_count": 48,
     "metadata": {},
     "output_type": "execute_result"
    }
   ],
   "source": [
    "(\n",
    "    data\n",
    "    .select_dtypes(include=['number'])\n",
    "    .describe()\n",
    ")"
   ]
  },
  {
   "cell_type": "code",
   "execution_count": 49,
   "metadata": {},
   "outputs": [
    {
     "data": {
      "text/plain": [
       "telekomHybridUploadSpeed    83.294512\n",
       "electricityKwhPrice         82.598060\n",
       "electricityBasePrice        82.598060\n",
       "lastRefurbish               69.375219\n",
       "heatingCosts                68.369493\n",
       "noParkSpaces                65.008375\n",
       "thermalChar                 39.373272\n",
       "numberOfFloors              35.375687\n",
       "yearConstructed             20.726444\n",
       "yearConstructedRange        20.726444\n",
       "floor                       18.776536\n",
       "totalRent                   14.947221\n",
       "telekomUploadSpeed          12.374869\n",
       "serviceCharge                2.437191\n",
       "pricetrend                   0.696062\n",
       "noRooms                      0.000000\n",
       "geo_plz                      0.000000\n",
       "livingSpace                  0.000000\n",
       "baseRent                     0.000000\n",
       "noRoomsRange                 0.000000\n",
       "livingSpaceRange             0.000000\n",
       "scoutId                      0.000000\n",
       "picturecount                 0.000000\n",
       "baseRentRange                0.000000\n",
       "dtype: float64"
      ]
     },
     "execution_count": 49,
     "metadata": {},
     "output_type": "execute_result"
    }
   ],
   "source": [
    "(\n",
    "    data\n",
    "    .select_dtypes(include=['number'])\n",
    "    .isna()\n",
    "    .sum()\n",
    "    .div(len(data))\n",
    "    .mul(100)\n",
    "    .sort_values(ascending=False)\n",
    ")"
   ]
  },
  {
   "cell_type": "code",
   "execution_count": 50,
   "metadata": {},
   "outputs": [
    {
     "name": "stdout",
     "output_type": "stream",
     "text": [
      "size of dataframe: (256730, 40)\n",
      "size of dataframe: (256730, 31)\n"
     ]
    }
   ],
   "source": [
    "print(f'size of dataframe: {data.shape}')\n",
    "# drop the columns which has more than 25% null values \n",
    "data = (\n",
    "    data\n",
    "    .dropna(axis=1, thresh=int(0.75 * len(data)))\n",
    ")\n",
    "\n",
    "# drop scoutId colum \n",
    "data = data.drop('scoutId', axis=1)\n",
    "\n",
    "print(f'size of dataframe: {data.shape}')\n"
   ]
  },
  {
   "cell_type": "code",
   "execution_count": 51,
   "metadata": {},
   "outputs": [
    {
     "data": {
      "text/plain": [
       "yearConstructed         20.726444\n",
       "yearConstructedRange    20.726444\n",
       "floor                   18.776536\n",
       "totalRent               14.947221\n",
       "telekomUploadSpeed      12.374869\n",
       "serviceCharge            2.437191\n",
       "pricetrend               0.696062\n",
       "picturecount             0.000000\n",
       "baseRent                 0.000000\n",
       "livingSpace              0.000000\n",
       "baseRentRange            0.000000\n",
       "geo_plz                  0.000000\n",
       "noRooms                  0.000000\n",
       "noRoomsRange             0.000000\n",
       "livingSpaceRange         0.000000\n",
       "dtype: float64"
      ]
     },
     "execution_count": 51,
     "metadata": {},
     "output_type": "execute_result"
    }
   ],
   "source": [
    "(\n",
    "    data\n",
    "    .select_dtypes(include=['number'])\n",
    "    .isna()\n",
    "    .sum()\n",
    "    .div(len(data))\n",
    "    .mul(100)\n",
    "    .sort_values(ascending=False)\n",
    ")"
   ]
  },
  {
   "cell_type": "code",
   "execution_count": 52,
   "metadata": {},
   "outputs": [
    {
     "data": {
      "image/png": "[encoded data removed]",
      "text/plain": [
       "<Figure size 1800x1200 with 16 Axes>"
      ]
     },
     "metadata": {},
     "output_type": "display_data"
    }
   ],
   "source": [
    "(\n",
    "    data\n",
    "    .select_dtypes(include=['number'])\n",
    "    .hist(figsize=(18, 12))\n",
    ");"
   ]
  },
  {
   "cell_type": "markdown",
   "metadata": {},
   "source": [
    "#### serviceCharge"
   ]
  },
  {
   "cell_type": "code",
   "execution_count": 53,
   "metadata": {},
   "outputs": [
    {
     "data": {
      "text/plain": [
       "<Axes: >"
      ]
     },
     "execution_count": 53,
     "metadata": {},
     "output_type": "execute_result"
    },
    {
     "data": {
      "image/png": "[encoded data removed]",
      "text/plain": [
       "<Figure size 640x480 with 1 Axes>"
      ]
     },
     "metadata": {},
     "output_type": "display_data"
    }
   ],
   "source": [
    "# Applying log transformation to the serviceCharge\n",
    "(\n",
    "    data\n",
    "    .serviceCharge\n",
    "    .apply(lambda x: np.log1p(x))\n",
    "    .hist(bins =50)\n",
    ")"
   ]
  },
  {
   "cell_type": "code",
   "execution_count": 54,
   "metadata": {},
   "outputs": [
    {
     "name": "stderr",
     "output_type": "stream",
     "text": [
      "/var/folders/yj/2fr85zvn2sbbpv3jsq4y3kwh0000gn/T/ipykernel_14709/4046236808.py:5: FutureWarning: A value is trying to be set on a copy of a DataFrame or Series through chained assignment using an inplace method.\n",
      "The behavior will change in pandas 3.0. This inplace method will never work because the intermediate object on which we are setting values always behaves as a copy.\n",
      "\n",
      "For example, when doing 'df[col].method(value, inplace=True)', try using 'df.method({col: value}, inplace=True)' or df[col] = df[col].method(value) instead, to perform the operation inplace on the original object.\n",
      "\n",
      "\n",
      "  data['serviceCharge'].fillna(data['serviceCharge'].mean(), inplace=True);\n"
     ]
    },
    {
     "data": {
      "text/plain": [
       "0"
      ]
     },
     "execution_count": 54,
     "metadata": {},
     "output_type": "execute_result"
    }
   ],
   "source": [
    "# Applying log transformation to the serviceCharge\n",
    "data['serviceCharge'] = np.log1p(data['serviceCharge'])\n",
    "\n",
    "# Fill NA values with mean values\n",
    "data['serviceCharge'].fillna(data['serviceCharge'].mean(), inplace=True);\n",
    "(\n",
    "    data\n",
    "    .serviceCharge\n",
    "    .isna()\n",
    "    .sum()\n",
    ")"
   ]
  },
  {
   "cell_type": "markdown",
   "metadata": {},
   "source": [
    "#### yearConstructed"
   ]
  },
  {
   "cell_type": "code",
   "execution_count": 55,
   "metadata": {},
   "outputs": [
    {
     "data": {
      "text/plain": [
       "170"
      ]
     },
     "execution_count": 55,
     "metadata": {},
     "output_type": "execute_result"
    }
   ],
   "source": [
    "(\n",
    "    data\n",
    "    .yearConstructed\n",
    "    .value_counts()\n",
    "    .nunique()\n",
    ")"
   ]
  },
  {
   "cell_type": "code",
   "execution_count": 56,
   "metadata": {},
   "outputs": [
    {
     "data": {
      "text/plain": [
       "20.726"
      ]
     },
     "execution_count": 56,
     "metadata": {},
     "output_type": "execute_result"
    }
   ],
   "source": [
    "# percentage of null values\n",
    "(\n",
    "    data\n",
    "    .yearConstructed\n",
    "    .isna()\n",
    "    .sum()/len(data)*100\n",
    ").round(3)"
   ]
  },
  {
   "cell_type": "code",
   "execution_count": 57,
   "metadata": {},
   "outputs": [
    {
     "data": {
      "text/plain": [
       "count    203519.000000\n",
       "mean       1966.405854\n",
       "std          47.169460\n",
       "min        1000.000000\n",
       "25%        1950.000000\n",
       "50%        1973.000000\n",
       "75%        1996.000000\n",
       "max        2090.000000\n",
       "Name: yearConstructed, dtype: float64"
      ]
     },
     "execution_count": 57,
     "metadata": {},
     "output_type": "execute_result"
    }
   ],
   "source": [
    "(\n",
    "    data\n",
    "    .yearConstructed\n",
    "    .describe()\n",
    ")"
   ]
  },
  {
   "cell_type": "code",
   "execution_count": 58,
   "metadata": {},
   "outputs": [
    {
     "data": {
      "image/png": "[encoded data removed]",
      "text/plain": [
       "<Figure size 640x480 with 1 Axes>"
      ]
     },
     "metadata": {},
     "output_type": "display_data"
    }
   ],
   "source": [
    "sns.boxplot(data['yearConstructed']);"
   ]
  },
  {
   "cell_type": "code",
   "execution_count": 59,
   "metadata": {},
   "outputs": [],
   "source": [
    "def percent_of_outliers(data, column):\n",
    "    # Calculate Q1 and Q3\n",
    "    Q1 = data[column].quantile(0.25)\n",
    "    Q3 = data[column].quantile(0.75)\n",
    "    \n",
    "    # Calculate the IQR \n",
    "    IQR = Q3 - Q1\n",
    "    \n",
    "    # Define the bounds for outliers\n",
    "    lower_bound = Q1 - 1.5 * IQR\n",
    "    upper_bound = Q3 + 1.5 * IQR\n",
    "    \n",
    "    # Identify the outliers\n",
    "    outliers = data[(data[column] < lower_bound) | (data[column] > upper_bound)]\n",
    "    \n",
    "    # Calculate the percentage of outliers\n",
    "    outlier_percentage = (len(outliers) / len(data)) * 100\n",
    "    \n",
    "    return outlier_percentage\n",
    "\n",
    "\n",
    "def remove_outliers(data, column):\n",
    "    # Calculate Q1 and Q3 \n",
    "    Q1 = data[column].quantile(0.25)\n",
    "    Q3 = data[column].quantile(0.75)\n",
    "    \n",
    "    # Calculate the IQR \n",
    "    IQR = Q3 - Q1\n",
    "    \n",
    "    # Define the bounds for outliers\n",
    "    lower_bound = Q1 - 1.5 * IQR\n",
    "    upper_bound = Q3 + 1.5 * IQR\n",
    "    \n",
    "    # remove outliers \n",
    "    filtered_data = data[(data[column] >= lower_bound) & (data[column] <= upper_bound)]\n",
    "    \n",
    "    return filtered_data"
   ]
  },
  {
   "cell_type": "code",
   "execution_count": 60,
   "metadata": {},
   "outputs": [
    {
     "name": "stdout",
     "output_type": "stream",
     "text": [
      "Percentage of outliers: 1.20%\n"
     ]
    },
    {
     "data": {
      "text/plain": [
       "count    200444.000000\n",
       "mean       1969.112076\n",
       "std          37.177061\n",
       "min        1881.000000\n",
       "25%        1952.000000\n",
       "50%        1973.000000\n",
       "75%        1997.000000\n",
       "max        2029.000000\n",
       "Name: yearConstructed, dtype: float64"
      ]
     },
     "execution_count": 60,
     "metadata": {},
     "output_type": "execute_result"
    }
   ],
   "source": [
    "outlier_percentage = percent_of_outliers(data, 'yearConstructed')\n",
    "print(f\"Percentage of outliers: {outlier_percentage:.2f}%\")\n",
    "\n",
    "data = remove_outliers(data, 'yearConstructed')\n",
    "\n",
    "(\n",
    "    data\n",
    "    .yearConstructed\n",
    "    .describe()\n",
    ")"
   ]
  },
  {
   "cell_type": "code",
   "execution_count": 61,
   "metadata": {},
   "outputs": [
    {
     "data": {
      "image/png": "[encoded data removed]",
      "text/plain": [
       "<Figure size 640x480 with 1 Axes>"
      ]
     },
     "metadata": {},
     "output_type": "display_data"
    }
   ],
   "source": [
    "sns.boxplot(data['yearConstructed']);"
   ]
  },
  {
   "cell_type": "code",
   "execution_count": 62,
   "metadata": {},
   "outputs": [
    {
     "name": "stdout",
     "output_type": "stream",
     "text": [
      "median yearConstructed: 1973.0\n"
     ]
    },
    {
     "data": {
      "text/plain": [
       "0"
      ]
     },
     "execution_count": 62,
     "metadata": {},
     "output_type": "execute_result"
    }
   ],
   "source": [
    "print(f\"median yearConstructed: {np.median(data['yearConstructed'])}\")\n",
    "\n",
    "(\n",
    "    data\n",
    "    .yearConstructed\n",
    "    .isna()\n",
    "    .sum()\n",
    ")"
   ]
  },
  {
   "cell_type": "code",
   "execution_count": 63,
   "metadata": {},
   "outputs": [
    {
     "data": {
      "text/plain": [
       "yearConstructed_category\n",
       "1973-1997    25.667019\n",
       "1997-2030    25.123725\n",
       "1881-1952    24.937638\n",
       "1952-1973    24.271617\n",
       "Name: proportion, dtype: float64"
      ]
     },
     "execution_count": 63,
     "metadata": {},
     "output_type": "execute_result"
    }
   ],
   "source": [
    "# categoriging the years\n",
    "bin_edges = [1881, 1952, 1973, 1997, 2030]\n",
    "\n",
    "# defining the categories names\n",
    "category_names = ['1881-1952', '1952-1973', '1973-1997', '1997-2030']\n",
    "\n",
    "# categorize years constructed\n",
    "\n",
    "data['yearConstructed_category'] = pd.cut(data['yearConstructed'], \n",
    "                               bins=bin_edges, \n",
    "                               labels=category_names, \n",
    "                               right=False) \n",
    "# change column type into string\n",
    "data['yearConstructed_category'] = data['yearConstructed_category'].astype(object)\n",
    "\n",
    "# droping the old column\n",
    "data =  data.drop(columns='yearConstructed', axis=1)\n",
    "\n",
    "# checking the new column\n",
    "(\n",
    "    data\n",
    "    .yearConstructed_category\n",
    "    .value_counts(normalize=True) * 100\n",
    ")\n",
    "\n"
   ]
  },
  {
   "cell_type": "code",
   "execution_count": 64,
   "metadata": {},
   "outputs": [
    {
     "data": {
      "text/plain": [
       "0"
      ]
     },
     "execution_count": 64,
     "metadata": {},
     "output_type": "execute_result"
    }
   ],
   "source": [
    "(\n",
    "    data\n",
    "    .yearConstructed_category\n",
    "    .isna()\n",
    "    .sum()\n",
    ")"
   ]
  },
  {
   "cell_type": "markdown",
   "metadata": {},
   "source": [
    "#### yearConstructedRange"
   ]
  },
  {
   "cell_type": "code",
   "execution_count": 65,
   "metadata": {},
   "outputs": [
    {
     "data": {
      "text/plain": [
       "9"
      ]
     },
     "execution_count": 65,
     "metadata": {},
     "output_type": "execute_result"
    }
   ],
   "source": [
    "(\n",
    "    data\n",
    "    .yearConstructedRange\n",
    "    .nunique()\n",
    ")"
   ]
  },
  {
   "cell_type": "code",
   "execution_count": 66,
   "metadata": {},
   "outputs": [
    {
     "data": {
      "text/plain": [
       "count    200444.000000\n",
       "mean          3.760616\n",
       "std           2.740683\n",
       "min           1.000000\n",
       "25%           2.000000\n",
       "50%           3.000000\n",
       "75%           5.000000\n",
       "max           9.000000\n",
       "Name: yearConstructedRange, dtype: float64"
      ]
     },
     "execution_count": 66,
     "metadata": {},
     "output_type": "execute_result"
    }
   ],
   "source": [
    "(\n",
    "    data\n",
    "    .yearConstructedRange\n",
    "    .describe()\n",
    ")"
   ]
  },
  {
   "cell_type": "code",
   "execution_count": 67,
   "metadata": {},
   "outputs": [
    {
     "data": {
      "image/png": "[encoded data removed]",
      "text/plain": [
       "<Figure size 640x480 with 1 Axes>"
      ]
     },
     "metadata": {},
     "output_type": "display_data"
    }
   ],
   "source": [
    "(\n",
    "    data\n",
    "    .yearConstructedRange\n",
    "    .hist()\n",
    ");"
   ]
  },
  {
   "cell_type": "code",
   "execution_count": 68,
   "metadata": {},
   "outputs": [],
   "source": [
    "# fillna with median values\n",
    "data.yearConstructedRange = data.yearConstructedRange.fillna(np.median(data.yearConstructedRange))\n",
    "\n",
    "# changing data type \n",
    "data.yearConstructedRange = data.yearConstructedRange.astype(object)\n"
   ]
  },
  {
   "cell_type": "markdown",
   "metadata": {},
   "source": [
    "#### floor "
   ]
  },
  {
   "cell_type": "code",
   "execution_count": 69,
   "metadata": {},
   "outputs": [
    {
     "data": {
      "text/plain": [
       "16.9049709644589"
      ]
     },
     "execution_count": 69,
     "metadata": {},
     "output_type": "execute_result"
    }
   ],
   "source": [
    "(\n",
    "    data\n",
    "    .floor\n",
    "    .isna()\n",
    "    .sum()/ len(data) * 100\n",
    ")"
   ]
  },
  {
   "cell_type": "code",
   "execution_count": 70,
   "metadata": {},
   "outputs": [
    {
     "data": {
      "text/plain": [
       "count    166559.000000\n",
       "mean          2.148590\n",
       "std           3.084752\n",
       "min          -1.000000\n",
       "25%           1.000000\n",
       "50%           2.000000\n",
       "75%           3.000000\n",
       "max         650.000000\n",
       "Name: floor, dtype: float64"
      ]
     },
     "execution_count": 70,
     "metadata": {},
     "output_type": "execute_result"
    }
   ],
   "source": [
    "(\n",
    "    data\n",
    "    .floor\n",
    "    .describe()\n",
    ")"
   ]
  },
  {
   "cell_type": "code",
   "execution_count": 71,
   "metadata": {},
   "outputs": [
    {
     "data": {
      "text/plain": [
       "<Axes: ylabel='floor'>"
      ]
     },
     "execution_count": 71,
     "metadata": {},
     "output_type": "execute_result"
    },
    {
     "data": {
      "image/png": "[encoded data removed]",
      "text/plain": [
       "<Figure size 640x480 with 1 Axes>"
      ]
     },
     "metadata": {},
     "output_type": "display_data"
    }
   ],
   "source": [
    "sns.boxplot(data.floor)"
   ]
  },
  {
   "cell_type": "code",
   "execution_count": 72,
   "metadata": {},
   "outputs": [
    {
     "name": "stdout",
     "output_type": "stream",
     "text": [
      "Percentage of outliers: 1.39%\n"
     ]
    }
   ],
   "source": [
    "# percent of outiers \n",
    "outlier_percentage = percent_of_outliers(data, 'floor')\n",
    "print(f\"Percentage of outliers: {outlier_percentage:.2f}%\")"
   ]
  },
  {
   "cell_type": "code",
   "execution_count": 73,
   "metadata": {},
   "outputs": [],
   "source": [
    "# fillna values with median values\n",
    "data['floor'] = data['floor'].fillna(data['floor'].median())"
   ]
  },
  {
   "cell_type": "code",
   "execution_count": 74,
   "metadata": {},
   "outputs": [
    {
     "name": "stdout",
     "output_type": "stream",
     "text": [
      "floor_category\n",
      "floor_0_3                 153858\n",
      "floor_4_5                  22059\n",
      "ground_floor_and_below     19606\n",
      "floor_6_45                  4899\n",
      "floor_above_45                22\n",
      "Name: count, dtype: int64\n"
     ]
    }
   ],
   "source": [
    "# Define floor thresholds and category labels\n",
    "floor_thresholds = [-float('inf'), 0, 3.0, 5.0, 45.0, float('inf')]\n",
    "floor_labels = ['ground_floor_and_below', 'floor_0_3', 'floor_4_5', 'floor_6_45', 'floor_above_45']\n",
    "\n",
    "# Categorize the 'floor' column using defined bins and labels\n",
    "data['floor_category'] = pd.cut(\n",
    "    data['floor'], \n",
    "    bins=floor_thresholds, \n",
    "    labels=floor_labels\n",
    ")\n",
    "\n",
    "# Display category counts\n",
    "category_counts = data['floor_category'].value_counts()\n",
    "print(category_counts)\n"
   ]
  },
  {
   "cell_type": "code",
   "execution_count": 75,
   "metadata": {},
   "outputs": [],
   "source": [
    "#change datatype \n",
    "data['floor_category'] = data['floor_category'].astype(object)\n",
    "\n",
    "# drop old column\n",
    "data =  data.drop(columns='floor', axis=1)"
   ]
  },
  {
   "cell_type": "markdown",
   "metadata": {},
   "source": [
    "#### totalRent"
   ]
  },
  {
   "cell_type": "code",
   "execution_count": 76,
   "metadata": {},
   "outputs": [
    {
     "data": {
      "text/plain": [
       "15.391830137095647"
      ]
     },
     "execution_count": 76,
     "metadata": {},
     "output_type": "execute_result"
    }
   ],
   "source": [
    "(\n",
    "    data\n",
    "    .totalRent\n",
    "    .isna()\n",
    "    .sum()/ len(data) * 100\n",
    ")"
   ]
  },
  {
   "cell_type": "code",
   "execution_count": 77,
   "metadata": {},
   "outputs": [
    {
     "data": {
      "text/plain": [
       "count    1.695920e+05\n",
       "mean     9.251413e+02\n",
       "std      3.827105e+04\n",
       "min      0.000000e+00\n",
       "25%      4.702400e+02\n",
       "50%      6.550000e+02\n",
       "75%      1.000000e+03\n",
       "max      1.575154e+07\n",
       "Name: totalRent, dtype: float64"
      ]
     },
     "execution_count": 77,
     "metadata": {},
     "output_type": "execute_result"
    }
   ],
   "source": [
    "(\n",
    "    data\n",
    "    .totalRent\n",
    "    .describe()\n",
    ")"
   ]
  },
  {
   "cell_type": "code",
   "execution_count": 78,
   "metadata": {},
   "outputs": [
    {
     "data": {
      "text/plain": [
       "<Axes: ylabel='totalRent'>"
      ]
     },
     "execution_count": 78,
     "metadata": {},
     "output_type": "execute_result"
    },
    {
     "data": {
      "image/png": "[encoded data removed]",
      "text/plain": [
       "<Figure size 640x480 with 1 Axes>"
      ]
     },
     "metadata": {},
     "output_type": "display_data"
    }
   ],
   "source": [
    "sns.boxplot(data.totalRent)"
   ]
  },
  {
   "cell_type": "code",
   "execution_count": 79,
   "metadata": {},
   "outputs": [
    {
     "name": "stdout",
     "output_type": "stream",
     "text": [
      "Percentage of outliers: 4.57%\n"
     ]
    }
   ],
   "source": [
    "# Percentage of outliers\n",
    "outlier_percentage = percent_of_outliers(data, 'totalRent')\n",
    "print(f\"Percentage of outliers: {outlier_percentage:.2f}%\")"
   ]
  },
  {
   "cell_type": "code",
   "execution_count": 80,
   "metadata": {},
   "outputs": [
    {
     "data": {
      "text/plain": [
       "<Axes: ylabel='totalRent'>"
      ]
     },
     "execution_count": 80,
     "metadata": {},
     "output_type": "execute_result"
    },
    {
     "data": {
      "image/png": "[encoded data removed]",
      "text/plain": [
       "<Figure size 640x480 with 1 Axes>"
      ]
     },
     "metadata": {},
     "output_type": "display_data"
    }
   ],
   "source": [
    "# Remove the top 10 maximum values from 'totalRent' column\n",
    "top_10_max_values = data['totalRent'].nlargest(10)\n",
    "data = data[~data['totalRent'].isin(top_10_max_values)]\n",
    "\n",
    "# fillna values with median values\n",
    "data['totalRent'] = data['totalRent'].fillna(data['totalRent'].median())\n",
    "\n",
    "# Create the boxplot for the cleaned data\n",
    "sns.boxplot(data['totalRent'])\n",
    "\n"
   ]
  },
  {
   "cell_type": "markdown",
   "metadata": {},
   "source": [
    "#### pricetrend"
   ]
  },
  {
   "cell_type": "code",
   "execution_count": 81,
   "metadata": {},
   "outputs": [
    {
     "data": {
      "text/plain": [
       "0.7254258259576718"
      ]
     },
     "execution_count": 81,
     "metadata": {},
     "output_type": "execute_result"
    }
   ],
   "source": [
    "(\n",
    "    data\n",
    "    .pricetrend\n",
    "    .isna()\n",
    "    .sum()/len(data)*100\n",
    ")"
   ]
  },
  {
   "cell_type": "code",
   "execution_count": 82,
   "metadata": {},
   "outputs": [
    {
     "data": {
      "text/plain": [
       "<Axes: xlabel='pricetrend'>"
      ]
     },
     "execution_count": 82,
     "metadata": {},
     "output_type": "execute_result"
    },
    {
     "data": {
      "image/png": "[encoded data removed]",
      "text/plain": [
       "<Figure size 640x480 with 1 Axes>"
      ]
     },
     "metadata": {},
     "output_type": "display_data"
    }
   ],
   "source": [
    "sns.boxenplot(x = data['pricetrend'])"
   ]
  },
  {
   "cell_type": "code",
   "execution_count": 83,
   "metadata": {},
   "outputs": [
    {
     "name": "stdout",
     "output_type": "stream",
     "text": [
      "Percentage of outliers: 2.02%\n"
     ]
    }
   ],
   "source": [
    "# perecent of outliers\n",
    "outlier_percentage = percent_of_outliers(data, 'pricetrend')\n",
    "print(f\"Percentage of outliers: {outlier_percentage:.2f}%\")"
   ]
  },
  {
   "cell_type": "code",
   "execution_count": 84,
   "metadata": {},
   "outputs": [
    {
     "name": "stdout",
     "output_type": "stream",
     "text": [
      "median_price_trend = 3.39\n",
      "mean_price_trend = 3.421149814051664\n"
     ]
    }
   ],
   "source": [
    "# mean and median values\n",
    "mean_price_trend = data['pricetrend'].mean()\n",
    "median_price_trend = data['pricetrend'].median()\n",
    "\n",
    "print(f\"median_price_trend = {median_price_trend}\")\n",
    "print(f\"mean_price_trend = {mean_price_trend}\")"
   ]
  },
  {
   "cell_type": "code",
   "execution_count": 85,
   "metadata": {},
   "outputs": [],
   "source": [
    "# fillna values with median values\n",
    "data['pricetrend'] = data['pricetrend'].fillna(median_price_trend)"
   ]
  },
  {
   "cell_type": "markdown",
   "metadata": {},
   "source": [
    "#### pictureCount"
   ]
  },
  {
   "cell_type": "code",
   "execution_count": 86,
   "metadata": {},
   "outputs": [
    {
     "data": {
      "text/plain": [
       "0.0"
      ]
     },
     "execution_count": 86,
     "metadata": {},
     "output_type": "execute_result"
    }
   ],
   "source": [
    "(\n",
    "    data\n",
    "    .picturecount\n",
    "    .isna()\n",
    "    .sum()/len(data) * 100\n",
    ")"
   ]
  },
  {
   "cell_type": "code",
   "execution_count": 87,
   "metadata": {},
   "outputs": [
    {
     "data": {
      "image/png": "[encoded data removed]",
      "text/plain": [
       "<Figure size 640x480 with 1 Axes>"
      ]
     },
     "metadata": {},
     "output_type": "display_data"
    }
   ],
   "source": [
    "sns.boxplot(data['picturecount']);"
   ]
  },
  {
   "cell_type": "markdown",
   "metadata": {},
   "source": [
    "#### baseRent"
   ]
  },
  {
   "cell_type": "code",
   "execution_count": 88,
   "metadata": {},
   "outputs": [
    {
     "data": {
      "image/png": "[encoded data removed]",
      "text/plain": [
       "<Figure size 640x480 with 1 Axes>"
      ]
     },
     "metadata": {},
     "output_type": "display_data"
    }
   ],
   "source": [
    "sns.boxplot(data['baseRent']);"
   ]
  },
  {
   "cell_type": "code",
   "execution_count": 89,
   "metadata": {},
   "outputs": [
    {
     "name": "stdout",
     "output_type": "stream",
     "text": [
      "Percentage of outliers: 5.28%\n"
     ]
    }
   ],
   "source": [
    "# percent of outliers\n",
    "outlier_percentage = percent_of_outliers(data, 'baseRent')\n",
    "print(f\"Percentage of outliers: {outlier_percentage:.2f}%\")"
   ]
  },
  {
   "cell_type": "code",
   "execution_count": 90,
   "metadata": {},
   "outputs": [
    {
     "data": {
      "text/plain": [
       "<Axes: ylabel='baseRent'>"
      ]
     },
     "execution_count": 90,
     "metadata": {},
     "output_type": "execute_result"
    },
    {
     "data": {
      "image/png": "[encoded data removed]",
      "text/plain": [
       "<Figure size 640x480 with 1 Axes>"
      ]
     },
     "metadata": {},
     "output_type": "display_data"
    }
   ],
   "source": [
    "# fillna values with median values\n",
    "data['baseRent'] = data['baseRent'].fillna(np.median(data['totalRent']))\n",
    "\n",
    "# Remove the top 10 maximum values from 'baseRent' column\n",
    "top_10_max_values = data['baseRent'].nlargest(10)\n",
    "data = data[~data['baseRent'].isin(top_10_max_values)]\n",
    "\n",
    "# Create the boxplot for the cleaned data\n",
    "sns.boxplot(data['baseRent'])"
   ]
  },
  {
   "cell_type": "markdown",
   "metadata": {},
   "source": [
    "#### livingSpace"
   ]
  },
  {
   "cell_type": "code",
   "execution_count": 91,
   "metadata": {},
   "outputs": [
    {
     "data": {
      "image/png": "[encoded data removed]",
      "text/plain": [
       "<Figure size 640x480 with 1 Axes>"
      ]
     },
     "metadata": {},
     "output_type": "display_data"
    }
   ],
   "source": [
    "sns.boxplot(data['livingSpace']);"
   ]
  },
  {
   "cell_type": "code",
   "execution_count": 92,
   "metadata": {},
   "outputs": [
    {
     "data": {
      "text/plain": [
       "<Axes: ylabel='livingSpace'>"
      ]
     },
     "execution_count": 92,
     "metadata": {},
     "output_type": "execute_result"
    },
    {
     "data": {
      "image/png": "[encoded data removed]",
      "text/plain": [
       "<Figure size 640x480 with 1 Axes>"
      ]
     },
     "metadata": {},
     "output_type": "display_data"
    }
   ],
   "source": [
    "# fillna values with median values\n",
    "data['livingSpace'] = data['livingSpace'].fillna(np.median(data['livingSpace']))\n",
    "\n",
    "# Remove the top 10 maximum values from 'baseRent' column\n",
    "top_10_max_values = data['livingSpace'].nlargest(10)\n",
    "data = data[~data['livingSpace'].isin(top_10_max_values)]\n",
    "\n",
    "# Create the boxplot for the cleaned data\n",
    "sns.boxplot(data['livingSpace'])"
   ]
  },
  {
   "cell_type": "markdown",
   "metadata": {},
   "source": [
    "#### baseRentRange"
   ]
  },
  {
   "cell_type": "code",
   "execution_count": 93,
   "metadata": {},
   "outputs": [
    {
     "data": {
      "image/png": "[encoded data removed]",
      "text/plain": [
       "<Figure size 640x480 with 1 Axes>"
      ]
     },
     "metadata": {},
     "output_type": "display_data"
    }
   ],
   "source": [
    "sns.boxplot(data['baseRentRange']);"
   ]
  },
  {
   "cell_type": "markdown",
   "metadata": {},
   "source": [
    "#### telekomUploadSpeed"
   ]
  },
  {
   "cell_type": "code",
   "execution_count": 94,
   "metadata": {},
   "outputs": [
    {
     "data": {
      "text/plain": [
       "12.661790094504378"
      ]
     },
     "execution_count": 94,
     "metadata": {},
     "output_type": "execute_result"
    }
   ],
   "source": [
    "(\n",
    "    data\n",
    "    .telekomUploadSpeed\n",
    "    .isna()\n",
    "    .sum()/len(data) * 100\n",
    ")"
   ]
  },
  {
   "cell_type": "code",
   "execution_count": 95,
   "metadata": {},
   "outputs": [
    {
     "data": {
      "image/png": "[encoded data removed]",
      "text/plain": [
       "<Figure size 640x480 with 1 Axes>"
      ]
     },
     "metadata": {},
     "output_type": "display_data"
    }
   ],
   "source": [
    "sns.boxplot(data['telekomUploadSpeed']);"
   ]
  },
  {
   "cell_type": "code",
   "execution_count": 96,
   "metadata": {},
   "outputs": [
    {
     "data": {
      "text/plain": [
       "<Axes: ylabel='telekomUploadSpeed'>"
      ]
     },
     "execution_count": 96,
     "metadata": {},
     "output_type": "execute_result"
    },
    {
     "data": {
      "image/png": "[encoded data removed]",
      "text/plain": [
       "<Figure size 640x480 with 1 Axes>"
      ]
     },
     "metadata": {},
     "output_type": "display_data"
    }
   ],
   "source": [
    "# Remove the top 10 maximum values from 'baseRent' column\n",
    "top_10_max_values = data['telekomUploadSpeed'].nlargest(1)\n",
    "data = data[~data['telekomUploadSpeed'].isin(top_10_max_values)]\n",
    "\n",
    "\n",
    "# fillna values with median values\n",
    "data['telekomUploadSpeed'] = data['telekomUploadSpeed'].fillna(data['telekomUploadSpeed'].median())\n",
    "\n",
    "# Create the boxplot for the cleaned data\n",
    "sns.boxplot(data['telekomUploadSpeed'])"
   ]
  },
  {
   "cell_type": "markdown",
   "metadata": {},
   "source": [
    "#### geo_plz"
   ]
  },
  {
   "cell_type": "code",
   "execution_count": 97,
   "metadata": {},
   "outputs": [
    {
     "data": {
      "text/plain": [
       "0     44269\n",
       "2      1097\n",
       "3      9599\n",
       "4     28213\n",
       "5     24891\n",
       "7     28717\n",
       "8     79211\n",
       "9     45888\n",
       "11     9669\n",
       "12    76833\n",
       "Name: geo_plz, dtype: int64"
      ]
     },
     "execution_count": 97,
     "metadata": {},
     "output_type": "execute_result"
    }
   ],
   "source": [
    "(\n",
    "    data\n",
    "    .geo_plz\n",
    "    .head(10)\n",
    ")"
   ]
  },
  {
   "cell_type": "code",
   "execution_count": 98,
   "metadata": {},
   "outputs": [
    {
     "name": "stdout",
     "output_type": "stream",
     "text": [
      "0.26651688759080355\n"
     ]
    }
   ],
   "source": [
    "four_digit_values = data[data['geo_plz'].astype(str).str.len() == 4]\n",
    "print(len(four_digit_values)/len(data))"
   ]
  },
  {
   "cell_type": "code",
   "execution_count": 99,
   "metadata": {},
   "outputs": [
    {
     "name": "stdout",
     "output_type": "stream",
     "text": [
      "0    44269\n",
      "2    01097\n",
      "3    09599\n",
      "4    28213\n",
      "5    24891\n",
      "Name: geo_plz, dtype: object\n"
     ]
    }
   ],
   "source": [
    "# Adding a leading zero\n",
    "data['geo_plz'] = data['geo_plz'].astype(str).str.zfill(5)\n",
    "\n",
    "# Verify transformation\n",
    "print(data['geo_plz'].head())"
   ]
  },
  {
   "cell_type": "code",
   "execution_count": 100,
   "metadata": {},
   "outputs": [],
   "source": [
    "# changing the datatype\n",
    "data['geo_plz'] = data['geo_plz'].astype('object')"
   ]
  },
  {
   "cell_type": "markdown",
   "metadata": {},
   "source": [
    "#### noRooms"
   ]
  },
  {
   "cell_type": "code",
   "execution_count": 106,
   "metadata": {},
   "outputs": [
    {
     "data": {
      "text/plain": [
       "<Axes: ylabel='noRooms'>"
      ]
     },
     "execution_count": 106,
     "metadata": {},
     "output_type": "execute_result"
    },
    {
     "data": {
      "image/png": "[encoded data removed]",
      "text/plain": [
       "<Figure size 640x480 with 1 Axes>"
      ]
     },
     "metadata": {},
     "output_type": "display_data"
    }
   ],
   "source": [
    "sns.boxplot(data['noRooms'])"
   ]
  },
  {
   "cell_type": "code",
   "execution_count": 108,
   "metadata": {},
   "outputs": [
    {
     "data": {
      "text/plain": [
       "<Axes: ylabel='noRooms'>"
      ]
     },
     "execution_count": 108,
     "metadata": {},
     "output_type": "execute_result"
    },
    {
     "data": {
      "image/png": "[encoded data removed]",
      "text/plain": [
       "<Figure size 640x480 with 1 Axes>"
      ]
     },
     "metadata": {},
     "output_type": "display_data"
    }
   ],
   "source": [
    "# Remove the top 10 maximum values from 'baseRent' column\n",
    "top_10_max_values = data['noRooms'].nlargest(10)\n",
    "data = data[~data['noRooms'].isin(top_10_max_values)]\n",
    "\n",
    "\n",
    "# fillna values with median values\n",
    "data['noRooms'] = data['noRooms'].fillna(data['noRooms'].median())\n",
    "\n",
    "# Create the boxplot for the cleaned data\n",
    "sns.boxplot(data['noRooms'])"
   ]
  },
  {
   "cell_type": "code",
   "execution_count": 112,
   "metadata": {},
   "outputs": [],
   "source": [
    "# changing datatype\n",
    "data['noRooms'] = data['noRooms'].astype('int').astype('object')"
   ]
  },
  {
   "cell_type": "markdown",
   "metadata": {},
   "source": [
    "#### livingSpaceRange"
   ]
  },
  {
   "cell_type": "code",
   "execution_count": 119,
   "metadata": {},
   "outputs": [
    {
     "data": {
      "text/plain": [
       "<Axes: ylabel='livingSpaceRange'>"
      ]
     },
     "execution_count": 119,
     "metadata": {},
     "output_type": "execute_result"
    },
    {
     "data": {
      "image/png": "[encoded data removed]",
      "text/plain": [
       "<Figure size 640x480 with 1 Axes>"
      ]
     },
     "metadata": {},
     "output_type": "display_data"
    }
   ],
   "source": [
    "sns.boxplot(data['livingSpaceRange'])"
   ]
  },
  {
   "cell_type": "code",
   "execution_count": 121,
   "metadata": {},
   "outputs": [],
   "source": [
    "data['livingSpaceRange'] = data['livingSpaceRange'].astype('int').astype('object')"
   ]
  },
  {
   "cell_type": "markdown",
   "metadata": {},
   "source": [
    "#### livingSpace"
   ]
  },
  {
   "cell_type": "code",
   "execution_count": 122,
   "metadata": {},
   "outputs": [
    {
     "data": {
      "text/plain": [
       "<Axes: ylabel='livingSpace'>"
      ]
     },
     "execution_count": 122,
     "metadata": {},
     "output_type": "execute_result"
    },
    {
     "data": {
      "image/png": "[encoded data removed]",
      "text/plain": [
       "<Figure size 640x480 with 1 Axes>"
      ]
     },
     "metadata": {},
     "output_type": "display_data"
    }
   ],
   "source": [
    "sns.boxplot(data['livingSpace'])"
   ]
  },
  {
   "cell_type": "code",
   "execution_count": 125,
   "metadata": {},
   "outputs": [
    {
     "name": "stdout",
     "output_type": "stream",
     "text": [
      "Percentage of outliers: 4.25%\n"
     ]
    }
   ],
   "source": [
    "# percentage of outliers\n",
    "outlier_percentage = percent_of_outliers(data, 'livingSpace')\n",
    "print(f\"Percentage of outliers: {outlier_percentage:.2f}%\")"
   ]
  },
  {
   "cell_type": "code",
   "execution_count": 126,
   "metadata": {},
   "outputs": [
    {
     "data": {
      "text/plain": [
       "count    200225.000000\n",
       "mean         73.682346\n",
       "std          31.117045\n",
       "min           1.000000\n",
       "25%          55.000000\n",
       "50%          67.690000\n",
       "75%          87.000000\n",
       "max         400.000000\n",
       "Name: livingSpace, dtype: float64"
      ]
     },
     "execution_count": 126,
     "metadata": {},
     "output_type": "execute_result"
    }
   ],
   "source": [
    "(\n",
    "    data\n",
    "    .livingSpace\n",
    "    .describe()\n",
    ")"
   ]
  },
  {
   "cell_type": "code",
   "execution_count": 127,
   "metadata": {},
   "outputs": [],
   "source": [
    "# living space can not be less than 1\n",
    "data = data[data['livingSpace'] >= 1]"
   ]
  },
  {
   "cell_type": "code",
   "execution_count": 129,
   "metadata": {},
   "outputs": [
    {
     "data": {
      "text/plain": [
       "<Axes: ylabel='livingSpace'>"
      ]
     },
     "execution_count": 129,
     "metadata": {},
     "output_type": "execute_result"
    },
    {
     "data": {
      "image/png": "[encoded data removed]",
      "text/plain": [
       "<Figure size 640x480 with 1 Axes>"
      ]
     },
     "metadata": {},
     "output_type": "display_data"
    }
   ],
   "source": [
    "# fillna values with median values\n",
    "data['livingSpace'] = data['livingSpace'].fillna(data['livingSpace'].median())\n",
    "\n",
    "# Create the boxplot for the cleaned data\n",
    "sns.boxplot(data['livingSpace'])"
   ]
  },
  {
   "cell_type": "code",
   "execution_count": 130,
   "metadata": {},
   "outputs": [
    {
     "data": {
      "text/html": [
       "<div>\n",
       "<style scoped>\n",
       "    .dataframe tbody tr th:only-of-type {\n",
       "        vertical-align: middle;\n",
       "    }\n",
       "\n",
       "    .dataframe tbody tr th {\n",
       "        vertical-align: top;\n",
       "    }\n",
       "\n",
       "    .dataframe thead th {\n",
       "        text-align: right;\n",
       "    }\n",
       "</style>\n",
       "<table border=\"1\" class=\"dataframe\">\n",
       "  <thead>\n",
       "    <tr style=\"text-align: right;\">\n",
       "      <th></th>\n",
       "      <th>stateName</th>\n",
       "      <th>serviceCharge</th>\n",
       "      <th>heatingType</th>\n",
       "      <th>telekomTvOffer</th>\n",
       "      <th>newlyConst</th>\n",
       "      <th>balcony</th>\n",
       "      <th>picturecount</th>\n",
       "      <th>pricetrend</th>\n",
       "      <th>telekomUploadSpeed</th>\n",
       "      <th>totalRent</th>\n",
       "      <th>firingTypes</th>\n",
       "      <th>hasKitchen</th>\n",
       "      <th>cellar</th>\n",
       "      <th>yearConstructedRange</th>\n",
       "      <th>baseRent</th>\n",
       "      <th>livingSpace</th>\n",
       "      <th>condition</th>\n",
       "      <th>interiorQual</th>\n",
       "      <th>petsAllowed</th>\n",
       "      <th>lift</th>\n",
       "      <th>baseRentRange</th>\n",
       "      <th>typeOfFlat</th>\n",
       "      <th>geo_plz</th>\n",
       "      <th>noRooms</th>\n",
       "      <th>garden</th>\n",
       "      <th>livingSpaceRange</th>\n",
       "      <th>cityName</th>\n",
       "      <th>cityDistrict</th>\n",
       "      <th>yearConstructed_category</th>\n",
       "      <th>floor_category</th>\n",
       "    </tr>\n",
       "  </thead>\n",
       "  <tbody>\n",
       "    <tr>\n",
       "      <th>0</th>\n",
       "      <td>Nordrhein_Westfalen</td>\n",
       "      <td>5.505332</td>\n",
       "      <td>central_heating</td>\n",
       "      <td>ONE_YEAR_FREE</td>\n",
       "      <td>False</td>\n",
       "      <td>False</td>\n",
       "      <td>6</td>\n",
       "      <td>4.62</td>\n",
       "      <td>10.0</td>\n",
       "      <td>840.00</td>\n",
       "      <td>oil</td>\n",
       "      <td>False</td>\n",
       "      <td>True</td>\n",
       "      <td>2.0</td>\n",
       "      <td>595.00</td>\n",
       "      <td>86.00</td>\n",
       "      <td>well_kept</td>\n",
       "      <td>normal</td>\n",
       "      <td>unknown</td>\n",
       "      <td>False</td>\n",
       "      <td>4</td>\n",
       "      <td>ground_floor</td>\n",
       "      <td>44269</td>\n",
       "      <td>4</td>\n",
       "      <td>True</td>\n",
       "      <td>4</td>\n",
       "      <td>Dortmund</td>\n",
       "      <td>Schüren</td>\n",
       "      <td>1952-1973</td>\n",
       "      <td>floor_0_3</td>\n",
       "    </tr>\n",
       "    <tr>\n",
       "      <th>2</th>\n",
       "      <td>Sachsen</td>\n",
       "      <td>5.545177</td>\n",
       "      <td>floor_heating</td>\n",
       "      <td>ONE_YEAR_FREE</td>\n",
       "      <td>True</td>\n",
       "      <td>True</td>\n",
       "      <td>8</td>\n",
       "      <td>2.72</td>\n",
       "      <td>2.4</td>\n",
       "      <td>1300.00</td>\n",
       "      <td>district_heating</td>\n",
       "      <td>False</td>\n",
       "      <td>True</td>\n",
       "      <td>9.0</td>\n",
       "      <td>965.00</td>\n",
       "      <td>83.80</td>\n",
       "      <td>first_time_use</td>\n",
       "      <td>sophisticated</td>\n",
       "      <td>unknown</td>\n",
       "      <td>True</td>\n",
       "      <td>6</td>\n",
       "      <td>apartment</td>\n",
       "      <td>01097</td>\n",
       "      <td>3</td>\n",
       "      <td>False</td>\n",
       "      <td>4</td>\n",
       "      <td>Dresden</td>\n",
       "      <td>Äußere_Neustadt_Antonstadt</td>\n",
       "      <td>1997-2030</td>\n",
       "      <td>floor_0_3</td>\n",
       "    </tr>\n",
       "    <tr>\n",
       "      <th>3</th>\n",
       "      <td>Sachsen</td>\n",
       "      <td>4.080077</td>\n",
       "      <td>district_heating</td>\n",
       "      <td>ONE_YEAR_FREE</td>\n",
       "      <td>False</td>\n",
       "      <td>True</td>\n",
       "      <td>9</td>\n",
       "      <td>1.53</td>\n",
       "      <td>40.0</td>\n",
       "      <td>655.00</td>\n",
       "      <td>district_heating</td>\n",
       "      <td>False</td>\n",
       "      <td>False</td>\n",
       "      <td>2.0</td>\n",
       "      <td>343.00</td>\n",
       "      <td>58.15</td>\n",
       "      <td>unknown</td>\n",
       "      <td>unknown</td>\n",
       "      <td>unknown</td>\n",
       "      <td>False</td>\n",
       "      <td>2</td>\n",
       "      <td>other</td>\n",
       "      <td>09599</td>\n",
       "      <td>3</td>\n",
       "      <td>False</td>\n",
       "      <td>2</td>\n",
       "      <td>Mittelsachsen_Kreis</td>\n",
       "      <td>Freiberg</td>\n",
       "      <td>1952-1973</td>\n",
       "      <td>floor_0_3</td>\n",
       "    </tr>\n",
       "    <tr>\n",
       "      <th>4</th>\n",
       "      <td>Bremen</td>\n",
       "      <td>4.934474</td>\n",
       "      <td>self_contained_central_heating</td>\n",
       "      <td>unknown</td>\n",
       "      <td>False</td>\n",
       "      <td>True</td>\n",
       "      <td>19</td>\n",
       "      <td>2.46</td>\n",
       "      <td>40.0</td>\n",
       "      <td>903.00</td>\n",
       "      <td>gas</td>\n",
       "      <td>False</td>\n",
       "      <td>False</td>\n",
       "      <td>1.0</td>\n",
       "      <td>765.00</td>\n",
       "      <td>84.97</td>\n",
       "      <td>refurbished</td>\n",
       "      <td>unknown</td>\n",
       "      <td>unknown</td>\n",
       "      <td>False</td>\n",
       "      <td>5</td>\n",
       "      <td>apartment</td>\n",
       "      <td>28213</td>\n",
       "      <td>3</td>\n",
       "      <td>False</td>\n",
       "      <td>4</td>\n",
       "      <td>Bremen</td>\n",
       "      <td>Neu_Schwachhausen</td>\n",
       "      <td>1881-1952</td>\n",
       "      <td>floor_0_3</td>\n",
       "    </tr>\n",
       "    <tr>\n",
       "      <th>5</th>\n",
       "      <td>Schleswig_Holstein</td>\n",
       "      <td>4.962845</td>\n",
       "      <td>gas_heating</td>\n",
       "      <td>unknown</td>\n",
       "      <td>False</td>\n",
       "      <td>True</td>\n",
       "      <td>5</td>\n",
       "      <td>4.48</td>\n",
       "      <td>2.4</td>\n",
       "      <td>655.00</td>\n",
       "      <td>gas</td>\n",
       "      <td>True</td>\n",
       "      <td>False</td>\n",
       "      <td>5.0</td>\n",
       "      <td>315.20</td>\n",
       "      <td>53.43</td>\n",
       "      <td>well_kept</td>\n",
       "      <td>unknown</td>\n",
       "      <td>no</td>\n",
       "      <td>False</td>\n",
       "      <td>2</td>\n",
       "      <td>apartment</td>\n",
       "      <td>24891</td>\n",
       "      <td>2</td>\n",
       "      <td>False</td>\n",
       "      <td>2</td>\n",
       "      <td>Schleswig_Flensburg_Kreis</td>\n",
       "      <td>Struxdorf</td>\n",
       "      <td>1997-2030</td>\n",
       "      <td>floor_0_3</td>\n",
       "    </tr>\n",
       "    <tr>\n",
       "      <th>7</th>\n",
       "      <td>Bremen</td>\n",
       "      <td>4.488636</td>\n",
       "      <td>central_heating</td>\n",
       "      <td>ONE_YEAR_FREE</td>\n",
       "      <td>False</td>\n",
       "      <td>True</td>\n",
       "      <td>5</td>\n",
       "      <td>1.89</td>\n",
       "      <td>2.4</td>\n",
       "      <td>584.25</td>\n",
       "      <td>gas:electricity</td>\n",
       "      <td>False</td>\n",
       "      <td>True</td>\n",
       "      <td>2.0</td>\n",
       "      <td>452.25</td>\n",
       "      <td>60.30</td>\n",
       "      <td>unknown</td>\n",
       "      <td>unknown</td>\n",
       "      <td>unknown</td>\n",
       "      <td>False</td>\n",
       "      <td>3</td>\n",
       "      <td>ground_floor</td>\n",
       "      <td>28717</td>\n",
       "      <td>3</td>\n",
       "      <td>False</td>\n",
       "      <td>2</td>\n",
       "      <td>Bremen</td>\n",
       "      <td>St._Magnus</td>\n",
       "      <td>1952-1973</td>\n",
       "      <td>floor_0_3</td>\n",
       "    </tr>\n",
       "    <tr>\n",
       "      <th>8</th>\n",
       "      <td>Baden_Württemberg</td>\n",
       "      <td>4.709530</td>\n",
       "      <td>oil_heating</td>\n",
       "      <td>ONE_YEAR_FREE</td>\n",
       "      <td>False</td>\n",
       "      <td>False</td>\n",
       "      <td>5</td>\n",
       "      <td>3.77</td>\n",
       "      <td>40.0</td>\n",
       "      <td>690.00</td>\n",
       "      <td>oil</td>\n",
       "      <td>True</td>\n",
       "      <td>True</td>\n",
       "      <td>2.0</td>\n",
       "      <td>580.00</td>\n",
       "      <td>53.00</td>\n",
       "      <td>well_kept</td>\n",
       "      <td>sophisticated</td>\n",
       "      <td>no</td>\n",
       "      <td>False</td>\n",
       "      <td>4</td>\n",
       "      <td>roof_storey</td>\n",
       "      <td>79211</td>\n",
       "      <td>2</td>\n",
       "      <td>False</td>\n",
       "      <td>2</td>\n",
       "      <td>Emmendingen_Kreis</td>\n",
       "      <td>Denzlingen</td>\n",
       "      <td>1952-1973</td>\n",
       "      <td>floor_0_3</td>\n",
       "    </tr>\n",
       "    <tr>\n",
       "      <th>9</th>\n",
       "      <td>Nordrhein_Westfalen</td>\n",
       "      <td>4.564348</td>\n",
       "      <td>self_contained_central_heating</td>\n",
       "      <td>ONE_YEAR_FREE</td>\n",
       "      <td>False</td>\n",
       "      <td>False</td>\n",
       "      <td>7</td>\n",
       "      <td>1.92</td>\n",
       "      <td>40.0</td>\n",
       "      <td>655.00</td>\n",
       "      <td>gas</td>\n",
       "      <td>False</td>\n",
       "      <td>True</td>\n",
       "      <td>2.0</td>\n",
       "      <td>300.00</td>\n",
       "      <td>60.00</td>\n",
       "      <td>well_kept</td>\n",
       "      <td>normal</td>\n",
       "      <td>negotiable</td>\n",
       "      <td>False</td>\n",
       "      <td>1</td>\n",
       "      <td>apartment</td>\n",
       "      <td>45888</td>\n",
       "      <td>2</td>\n",
       "      <td>False</td>\n",
       "      <td>2</td>\n",
       "      <td>Gelsenkirchen</td>\n",
       "      <td>Bulmke_Hüllen</td>\n",
       "      <td>1952-1973</td>\n",
       "      <td>floor_0_3</td>\n",
       "    </tr>\n",
       "    <tr>\n",
       "      <th>11</th>\n",
       "      <td>Sachsen</td>\n",
       "      <td>5.049856</td>\n",
       "      <td>central_heating</td>\n",
       "      <td>ONE_YEAR_FREE</td>\n",
       "      <td>False</td>\n",
       "      <td>False</td>\n",
       "      <td>9</td>\n",
       "      <td>0.98</td>\n",
       "      <td>2.4</td>\n",
       "      <td>555.00</td>\n",
       "      <td>gas</td>\n",
       "      <td>False</td>\n",
       "      <td>True</td>\n",
       "      <td>1.0</td>\n",
       "      <td>400.00</td>\n",
       "      <td>80.00</td>\n",
       "      <td>well_kept</td>\n",
       "      <td>normal</td>\n",
       "      <td>negotiable</td>\n",
       "      <td>False</td>\n",
       "      <td>2</td>\n",
       "      <td>apartment</td>\n",
       "      <td>09669</td>\n",
       "      <td>3</td>\n",
       "      <td>True</td>\n",
       "      <td>3</td>\n",
       "      <td>Mittelsachsen_Kreis</td>\n",
       "      <td>Frankenberg/Sachsen</td>\n",
       "      <td>1881-1952</td>\n",
       "      <td>floor_0_3</td>\n",
       "    </tr>\n",
       "    <tr>\n",
       "      <th>12</th>\n",
       "      <td>Rheinland_Pfalz</td>\n",
       "      <td>5.602119</td>\n",
       "      <td>oil_heating</td>\n",
       "      <td>unknown</td>\n",
       "      <td>False</td>\n",
       "      <td>False</td>\n",
       "      <td>4</td>\n",
       "      <td>2.77</td>\n",
       "      <td>2.4</td>\n",
       "      <td>920.00</td>\n",
       "      <td>district_heating</td>\n",
       "      <td>False</td>\n",
       "      <td>False</td>\n",
       "      <td>1.0</td>\n",
       "      <td>650.00</td>\n",
       "      <td>100.00</td>\n",
       "      <td>mint_condition</td>\n",
       "      <td>sophisticated</td>\n",
       "      <td>no</td>\n",
       "      <td>False</td>\n",
       "      <td>5</td>\n",
       "      <td>ground_floor</td>\n",
       "      <td>76833</td>\n",
       "      <td>4</td>\n",
       "      <td>True</td>\n",
       "      <td>4</td>\n",
       "      <td>Südliche_Weinstraße_Kreis</td>\n",
       "      <td>Frankweiler</td>\n",
       "      <td>1881-1952</td>\n",
       "      <td>floor_0_3</td>\n",
       "    </tr>\n",
       "    <tr>\n",
       "      <th>13</th>\n",
       "      <td>Nordrhein_Westfalen</td>\n",
       "      <td>5.303305</td>\n",
       "      <td>central_heating</td>\n",
       "      <td>ONE_YEAR_FREE</td>\n",
       "      <td>False</td>\n",
       "      <td>False</td>\n",
       "      <td>3</td>\n",
       "      <td>3.45</td>\n",
       "      <td>40.0</td>\n",
       "      <td>1150.00</td>\n",
       "      <td>oil</td>\n",
       "      <td>False</td>\n",
       "      <td>False</td>\n",
       "      <td>2.0</td>\n",
       "      <td>950.00</td>\n",
       "      <td>123.44</td>\n",
       "      <td>first_time_use_after_refurbishment</td>\n",
       "      <td>sophisticated</td>\n",
       "      <td>unknown</td>\n",
       "      <td>False</td>\n",
       "      <td>6</td>\n",
       "      <td>apartment</td>\n",
       "      <td>59065</td>\n",
       "      <td>4</td>\n",
       "      <td>False</td>\n",
       "      <td>6</td>\n",
       "      <td>Hamm</td>\n",
       "      <td>Mitte</td>\n",
       "      <td>1881-1952</td>\n",
       "      <td>floor_4_5</td>\n",
       "    </tr>\n",
       "    <tr>\n",
       "      <th>14</th>\n",
       "      <td>Nordrhein_Westfalen</td>\n",
       "      <td>5.375278</td>\n",
       "      <td>gas_heating</td>\n",
       "      <td>ONE_YEAR_FREE</td>\n",
       "      <td>True</td>\n",
       "      <td>True</td>\n",
       "      <td>12</td>\n",
       "      <td>3.76</td>\n",
       "      <td>2.4</td>\n",
       "      <td>1320.65</td>\n",
       "      <td>gas</td>\n",
       "      <td>False</td>\n",
       "      <td>True</td>\n",
       "      <td>9.0</td>\n",
       "      <td>972.60</td>\n",
       "      <td>87.00</td>\n",
       "      <td>first_time_use</td>\n",
       "      <td>sophisticated</td>\n",
       "      <td>negotiable</td>\n",
       "      <td>True</td>\n",
       "      <td>6</td>\n",
       "      <td>ground_floor</td>\n",
       "      <td>44229</td>\n",
       "      <td>3</td>\n",
       "      <td>False</td>\n",
       "      <td>4</td>\n",
       "      <td>Dortmund</td>\n",
       "      <td>Kirchhörde</td>\n",
       "      <td>1997-2030</td>\n",
       "      <td>ground_floor_and_below</td>\n",
       "    </tr>\n",
       "    <tr>\n",
       "      <th>15</th>\n",
       "      <td>Thüringen</td>\n",
       "      <td>4.394449</td>\n",
       "      <td>district_heating</td>\n",
       "      <td>ONE_YEAR_FREE</td>\n",
       "      <td>False</td>\n",
       "      <td>True</td>\n",
       "      <td>5</td>\n",
       "      <td>1.67</td>\n",
       "      <td>2.4</td>\n",
       "      <td>300.00</td>\n",
       "      <td>district_heating</td>\n",
       "      <td>False</td>\n",
       "      <td>True</td>\n",
       "      <td>4.0</td>\n",
       "      <td>220.00</td>\n",
       "      <td>36.63</td>\n",
       "      <td>first_time_use_after_refurbishment</td>\n",
       "      <td>unknown</td>\n",
       "      <td>unknown</td>\n",
       "      <td>False</td>\n",
       "      <td>1</td>\n",
       "      <td>apartment</td>\n",
       "      <td>99427</td>\n",
       "      <td>1</td>\n",
       "      <td>False</td>\n",
       "      <td>1</td>\n",
       "      <td>Weimar</td>\n",
       "      <td>Schöndorf</td>\n",
       "      <td>1973-1997</td>\n",
       "      <td>floor_4_5</td>\n",
       "    </tr>\n",
       "    <tr>\n",
       "      <th>17</th>\n",
       "      <td>Sachsen</td>\n",
       "      <td>3.931826</td>\n",
       "      <td>central_heating</td>\n",
       "      <td>ONE_YEAR_FREE</td>\n",
       "      <td>False</td>\n",
       "      <td>False</td>\n",
       "      <td>12</td>\n",
       "      <td>1.96</td>\n",
       "      <td>40.0</td>\n",
       "      <td>325.00</td>\n",
       "      <td>gas</td>\n",
       "      <td>False</td>\n",
       "      <td>False</td>\n",
       "      <td>1.0</td>\n",
       "      <td>200.00</td>\n",
       "      <td>50.00</td>\n",
       "      <td>refurbished</td>\n",
       "      <td>normal</td>\n",
       "      <td>unknown</td>\n",
       "      <td>False</td>\n",
       "      <td>1</td>\n",
       "      <td>roof_storey</td>\n",
       "      <td>04720</td>\n",
       "      <td>2</td>\n",
       "      <td>True</td>\n",
       "      <td>2</td>\n",
       "      <td>Mittelsachsen_Kreis</td>\n",
       "      <td>Döbeln</td>\n",
       "      <td>1881-1952</td>\n",
       "      <td>floor_0_3</td>\n",
       "    </tr>\n",
       "    <tr>\n",
       "      <th>18</th>\n",
       "      <td>Nordrhein_Westfalen</td>\n",
       "      <td>4.804021</td>\n",
       "      <td>central_heating</td>\n",
       "      <td>ONE_YEAR_FREE</td>\n",
       "      <td>False</td>\n",
       "      <td>True</td>\n",
       "      <td>5</td>\n",
       "      <td>3.12</td>\n",
       "      <td>40.0</td>\n",
       "      <td>655.00</td>\n",
       "      <td>gas</td>\n",
       "      <td>False</td>\n",
       "      <td>True</td>\n",
       "      <td>1.0</td>\n",
       "      <td>329.00</td>\n",
       "      <td>65.00</td>\n",
       "      <td>well_kept</td>\n",
       "      <td>unknown</td>\n",
       "      <td>negotiable</td>\n",
       "      <td>False</td>\n",
       "      <td>2</td>\n",
       "      <td>apartment</td>\n",
       "      <td>47166</td>\n",
       "      <td>2</td>\n",
       "      <td>False</td>\n",
       "      <td>3</td>\n",
       "      <td>Duisburg</td>\n",
       "      <td>Obermarxloh</td>\n",
       "      <td>1881-1952</td>\n",
       "      <td>floor_0_3</td>\n",
       "    </tr>\n",
       "    <tr>\n",
       "      <th>19</th>\n",
       "      <td>Niedersachsen</td>\n",
       "      <td>5.673323</td>\n",
       "      <td>district_heating</td>\n",
       "      <td>ONE_YEAR_FREE</td>\n",
       "      <td>False</td>\n",
       "      <td>True</td>\n",
       "      <td>35</td>\n",
       "      <td>2.35</td>\n",
       "      <td>5.0</td>\n",
       "      <td>1878.48</td>\n",
       "      <td>district_heating</td>\n",
       "      <td>False</td>\n",
       "      <td>True</td>\n",
       "      <td>8.0</td>\n",
       "      <td>1343.48</td>\n",
       "      <td>127.95</td>\n",
       "      <td>mint_condition</td>\n",
       "      <td>sophisticated</td>\n",
       "      <td>negotiable</td>\n",
       "      <td>True</td>\n",
       "      <td>7</td>\n",
       "      <td>apartment</td>\n",
       "      <td>37073</td>\n",
       "      <td>5</td>\n",
       "      <td>False</td>\n",
       "      <td>6</td>\n",
       "      <td>Göttingen_Kreis</td>\n",
       "      <td>Göttingen</td>\n",
       "      <td>1997-2030</td>\n",
       "      <td>floor_0_3</td>\n",
       "    </tr>\n",
       "    <tr>\n",
       "      <th>20</th>\n",
       "      <td>Schleswig_Holstein</td>\n",
       "      <td>4.948760</td>\n",
       "      <td>central_heating</td>\n",
       "      <td>ONE_YEAR_FREE</td>\n",
       "      <td>False</td>\n",
       "      <td>True</td>\n",
       "      <td>15</td>\n",
       "      <td>5.00</td>\n",
       "      <td>10.0</td>\n",
       "      <td>1450.00</td>\n",
       "      <td>gas</td>\n",
       "      <td>False</td>\n",
       "      <td>True</td>\n",
       "      <td>3.0</td>\n",
       "      <td>1150.00</td>\n",
       "      <td>160.00</td>\n",
       "      <td>well_kept</td>\n",
       "      <td>sophisticated</td>\n",
       "      <td>negotiable</td>\n",
       "      <td>False</td>\n",
       "      <td>7</td>\n",
       "      <td>ground_floor</td>\n",
       "      <td>24539</td>\n",
       "      <td>4</td>\n",
       "      <td>True</td>\n",
       "      <td>7</td>\n",
       "      <td>Neumünster</td>\n",
       "      <td>Wittorf</td>\n",
       "      <td>1973-1997</td>\n",
       "      <td>ground_floor_and_below</td>\n",
       "    </tr>\n",
       "    <tr>\n",
       "      <th>24</th>\n",
       "      <td>Hamburg</td>\n",
       "      <td>4.948760</td>\n",
       "      <td>central_heating</td>\n",
       "      <td>ONE_YEAR_FREE</td>\n",
       "      <td>False</td>\n",
       "      <td>True</td>\n",
       "      <td>9</td>\n",
       "      <td>6.30</td>\n",
       "      <td>40.0</td>\n",
       "      <td>760.00</td>\n",
       "      <td>district_heating</td>\n",
       "      <td>False</td>\n",
       "      <td>True</td>\n",
       "      <td>2.0</td>\n",
       "      <td>620.00</td>\n",
       "      <td>55.89</td>\n",
       "      <td>fully_renovated</td>\n",
       "      <td>normal</td>\n",
       "      <td>negotiable</td>\n",
       "      <td>False</td>\n",
       "      <td>5</td>\n",
       "      <td>apartment</td>\n",
       "      <td>22111</td>\n",
       "      <td>3</td>\n",
       "      <td>False</td>\n",
       "      <td>2</td>\n",
       "      <td>Hamburg</td>\n",
       "      <td>Horn</td>\n",
       "      <td>1952-1973</td>\n",
       "      <td>floor_0_3</td>\n",
       "    </tr>\n",
       "    <tr>\n",
       "      <th>25</th>\n",
       "      <td>Niedersachsen</td>\n",
       "      <td>4.394449</td>\n",
       "      <td>district_heating</td>\n",
       "      <td>ONE_YEAR_FREE</td>\n",
       "      <td>False</td>\n",
       "      <td>False</td>\n",
       "      <td>7</td>\n",
       "      <td>0.59</td>\n",
       "      <td>40.0</td>\n",
       "      <td>396.00</td>\n",
       "      <td>district_heating</td>\n",
       "      <td>False</td>\n",
       "      <td>False</td>\n",
       "      <td>1.0</td>\n",
       "      <td>316.00</td>\n",
       "      <td>31.00</td>\n",
       "      <td>unknown</td>\n",
       "      <td>unknown</td>\n",
       "      <td>no</td>\n",
       "      <td>False</td>\n",
       "      <td>2</td>\n",
       "      <td>roof_storey</td>\n",
       "      <td>38118</td>\n",
       "      <td>1</td>\n",
       "      <td>False</td>\n",
       "      <td>1</td>\n",
       "      <td>Braunschweig</td>\n",
       "      <td>Westliches_Ringgebiet</td>\n",
       "      <td>1881-1952</td>\n",
       "      <td>floor_0_3</td>\n",
       "    </tr>\n",
       "    <tr>\n",
       "      <th>26</th>\n",
       "      <td>Baden_Württemberg</td>\n",
       "      <td>3.044522</td>\n",
       "      <td>central_heating</td>\n",
       "      <td>ONE_YEAR_FREE</td>\n",
       "      <td>False</td>\n",
       "      <td>False</td>\n",
       "      <td>7</td>\n",
       "      <td>4.65</td>\n",
       "      <td>10.0</td>\n",
       "      <td>355.00</td>\n",
       "      <td>electricity</td>\n",
       "      <td>False</td>\n",
       "      <td>False</td>\n",
       "      <td>1.0</td>\n",
       "      <td>335.00</td>\n",
       "      <td>12.00</td>\n",
       "      <td>unknown</td>\n",
       "      <td>unknown</td>\n",
       "      <td>unknown</td>\n",
       "      <td>False</td>\n",
       "      <td>2</td>\n",
       "      <td>other</td>\n",
       "      <td>72622</td>\n",
       "      <td>1</td>\n",
       "      <td>False</td>\n",
       "      <td>1</td>\n",
       "      <td>Esslingen_Kreis</td>\n",
       "      <td>Nürtingen</td>\n",
       "      <td>1881-1952</td>\n",
       "      <td>floor_0_3</td>\n",
       "    </tr>\n",
       "    <tr>\n",
       "      <th>27</th>\n",
       "      <td>Sachsen_Anhalt</td>\n",
       "      <td>4.999372</td>\n",
       "      <td>district_heating</td>\n",
       "      <td>ONE_YEAR_FREE</td>\n",
       "      <td>False</td>\n",
       "      <td>True</td>\n",
       "      <td>14</td>\n",
       "      <td>1.08</td>\n",
       "      <td>40.0</td>\n",
       "      <td>447.62</td>\n",
       "      <td>district_heating</td>\n",
       "      <td>False</td>\n",
       "      <td>True</td>\n",
       "      <td>3.0</td>\n",
       "      <td>300.30</td>\n",
       "      <td>56.66</td>\n",
       "      <td>unknown</td>\n",
       "      <td>unknown</td>\n",
       "      <td>yes</td>\n",
       "      <td>True</td>\n",
       "      <td>1</td>\n",
       "      <td>apartment</td>\n",
       "      <td>39128</td>\n",
       "      <td>3</td>\n",
       "      <td>False</td>\n",
       "      <td>2</td>\n",
       "      <td>Magdeburg</td>\n",
       "      <td>Kannenstieg</td>\n",
       "      <td>1973-1997</td>\n",
       "      <td>floor_6_45</td>\n",
       "    </tr>\n",
       "    <tr>\n",
       "      <th>29</th>\n",
       "      <td>Mecklenburg_Vorpommern</td>\n",
       "      <td>4.654151</td>\n",
       "      <td>district_heating</td>\n",
       "      <td>ONE_YEAR_FREE</td>\n",
       "      <td>True</td>\n",
       "      <td>True</td>\n",
       "      <td>13</td>\n",
       "      <td>3.72</td>\n",
       "      <td>40.0</td>\n",
       "      <td>624.10</td>\n",
       "      <td>district_heating</td>\n",
       "      <td>False</td>\n",
       "      <td>True</td>\n",
       "      <td>9.0</td>\n",
       "      <td>520.08</td>\n",
       "      <td>47.28</td>\n",
       "      <td>first_time_use</td>\n",
       "      <td>unknown</td>\n",
       "      <td>unknown</td>\n",
       "      <td>True</td>\n",
       "      <td>4</td>\n",
       "      <td>raised_ground_floor</td>\n",
       "      <td>19055</td>\n",
       "      <td>2</td>\n",
       "      <td>False</td>\n",
       "      <td>2</td>\n",
       "      <td>Schwerin</td>\n",
       "      <td>Paulsstadt</td>\n",
       "      <td>1997-2030</td>\n",
       "      <td>floor_0_3</td>\n",
       "    </tr>\n",
       "    <tr>\n",
       "      <th>30</th>\n",
       "      <td>Bayern</td>\n",
       "      <td>5.141664</td>\n",
       "      <td>floor_heating</td>\n",
       "      <td>ONE_YEAR_FREE</td>\n",
       "      <td>False</td>\n",
       "      <td>True</td>\n",
       "      <td>15</td>\n",
       "      <td>6.49</td>\n",
       "      <td>2.4</td>\n",
       "      <td>970.00</td>\n",
       "      <td>oil</td>\n",
       "      <td>True</td>\n",
       "      <td>True</td>\n",
       "      <td>3.0</td>\n",
       "      <td>800.00</td>\n",
       "      <td>106.08</td>\n",
       "      <td>unknown</td>\n",
       "      <td>unknown</td>\n",
       "      <td>negotiable</td>\n",
       "      <td>False</td>\n",
       "      <td>5</td>\n",
       "      <td>ground_floor</td>\n",
       "      <td>94036</td>\n",
       "      <td>2</td>\n",
       "      <td>False</td>\n",
       "      <td>5</td>\n",
       "      <td>Passau</td>\n",
       "      <td>Haidenhof_Süd</td>\n",
       "      <td>1973-1997</td>\n",
       "      <td>floor_0_3</td>\n",
       "    </tr>\n",
       "    <tr>\n",
       "      <th>31</th>\n",
       "      <td>Nordrhein_Westfalen</td>\n",
       "      <td>4.875197</td>\n",
       "      <td>district_heating</td>\n",
       "      <td>ONE_YEAR_FREE</td>\n",
       "      <td>False</td>\n",
       "      <td>True</td>\n",
       "      <td>14</td>\n",
       "      <td>3.90</td>\n",
       "      <td>40.0</td>\n",
       "      <td>445.18</td>\n",
       "      <td>district_heating</td>\n",
       "      <td>False</td>\n",
       "      <td>True</td>\n",
       "      <td>3.0</td>\n",
       "      <td>315.18</td>\n",
       "      <td>60.00</td>\n",
       "      <td>unknown</td>\n",
       "      <td>unknown</td>\n",
       "      <td>negotiable</td>\n",
       "      <td>True</td>\n",
       "      <td>2</td>\n",
       "      <td>terraced_flat</td>\n",
       "      <td>40699</td>\n",
       "      <td>2</td>\n",
       "      <td>True</td>\n",
       "      <td>2</td>\n",
       "      <td>Mettmann_Kreis</td>\n",
       "      <td>Erkrath</td>\n",
       "      <td>1973-1997</td>\n",
       "      <td>ground_floor_and_below</td>\n",
       "    </tr>\n",
       "    <tr>\n",
       "      <th>33</th>\n",
       "      <td>Sachsen</td>\n",
       "      <td>4.394449</td>\n",
       "      <td>central_heating</td>\n",
       "      <td>ONE_YEAR_FREE</td>\n",
       "      <td>False</td>\n",
       "      <td>False</td>\n",
       "      <td>4</td>\n",
       "      <td>1.94</td>\n",
       "      <td>40.0</td>\n",
       "      <td>245.00</td>\n",
       "      <td>gas</td>\n",
       "      <td>True</td>\n",
       "      <td>False</td>\n",
       "      <td>1.0</td>\n",
       "      <td>165.00</td>\n",
       "      <td>35.00</td>\n",
       "      <td>fully_renovated</td>\n",
       "      <td>normal</td>\n",
       "      <td>unknown</td>\n",
       "      <td>False</td>\n",
       "      <td>1</td>\n",
       "      <td>ground_floor</td>\n",
       "      <td>08468</td>\n",
       "      <td>2</td>\n",
       "      <td>False</td>\n",
       "      <td>1</td>\n",
       "      <td>Vogtlandkreis</td>\n",
       "      <td>Reichenbach_im_Vogtland</td>\n",
       "      <td>1881-1952</td>\n",
       "      <td>floor_0_3</td>\n",
       "    </tr>\n",
       "    <tr>\n",
       "      <th>35</th>\n",
       "      <td>Sachsen</td>\n",
       "      <td>4.948760</td>\n",
       "      <td>central_heating</td>\n",
       "      <td>ONE_YEAR_FREE</td>\n",
       "      <td>False</td>\n",
       "      <td>False</td>\n",
       "      <td>14</td>\n",
       "      <td>1.64</td>\n",
       "      <td>2.4</td>\n",
       "      <td>548.00</td>\n",
       "      <td>natural_gas_light</td>\n",
       "      <td>False</td>\n",
       "      <td>True</td>\n",
       "      <td>5.0</td>\n",
       "      <td>408.00</td>\n",
       "      <td>58.22</td>\n",
       "      <td>unknown</td>\n",
       "      <td>unknown</td>\n",
       "      <td>unknown</td>\n",
       "      <td>False</td>\n",
       "      <td>3</td>\n",
       "      <td>apartment</td>\n",
       "      <td>01705</td>\n",
       "      <td>2</td>\n",
       "      <td>False</td>\n",
       "      <td>2</td>\n",
       "      <td>Sächsische_Schweiz_Osterzgebirge_Kreis</td>\n",
       "      <td>Freital</td>\n",
       "      <td>1973-1997</td>\n",
       "      <td>floor_0_3</td>\n",
       "    </tr>\n",
       "    <tr>\n",
       "      <th>36</th>\n",
       "      <td>Sachsen</td>\n",
       "      <td>4.948760</td>\n",
       "      <td>district_heating</td>\n",
       "      <td>ONE_YEAR_FREE</td>\n",
       "      <td>False</td>\n",
       "      <td>True</td>\n",
       "      <td>9</td>\n",
       "      <td>2.10</td>\n",
       "      <td>40.0</td>\n",
       "      <td>546.00</td>\n",
       "      <td>district_heating</td>\n",
       "      <td>False</td>\n",
       "      <td>True</td>\n",
       "      <td>2.0</td>\n",
       "      <td>406.00</td>\n",
       "      <td>74.00</td>\n",
       "      <td>refurbished</td>\n",
       "      <td>unknown</td>\n",
       "      <td>negotiable</td>\n",
       "      <td>False</td>\n",
       "      <td>3</td>\n",
       "      <td>apartment</td>\n",
       "      <td>02708</td>\n",
       "      <td>3</td>\n",
       "      <td>False</td>\n",
       "      <td>3</td>\n",
       "      <td>Görlitz_Kreis</td>\n",
       "      <td>Löbau</td>\n",
       "      <td>1952-1973</td>\n",
       "      <td>floor_0_3</td>\n",
       "    </tr>\n",
       "    <tr>\n",
       "      <th>39</th>\n",
       "      <td>Sachsen</td>\n",
       "      <td>4.651099</td>\n",
       "      <td>central_heating</td>\n",
       "      <td>ONE_YEAR_FREE</td>\n",
       "      <td>False</td>\n",
       "      <td>True</td>\n",
       "      <td>9</td>\n",
       "      <td>0.74</td>\n",
       "      <td>40.0</td>\n",
       "      <td>655.00</td>\n",
       "      <td>district_heating</td>\n",
       "      <td>False</td>\n",
       "      <td>True</td>\n",
       "      <td>1.0</td>\n",
       "      <td>246.00</td>\n",
       "      <td>43.93</td>\n",
       "      <td>well_kept</td>\n",
       "      <td>normal</td>\n",
       "      <td>negotiable</td>\n",
       "      <td>False</td>\n",
       "      <td>1</td>\n",
       "      <td>ground_floor</td>\n",
       "      <td>01589</td>\n",
       "      <td>2</td>\n",
       "      <td>True</td>\n",
       "      <td>2</td>\n",
       "      <td>Meißen_Kreis</td>\n",
       "      <td>Riesa</td>\n",
       "      <td>1881-1952</td>\n",
       "      <td>floor_0_3</td>\n",
       "    </tr>\n",
       "    <tr>\n",
       "      <th>42</th>\n",
       "      <td>Nordrhein_Westfalen</td>\n",
       "      <td>5.303305</td>\n",
       "      <td>district_heating</td>\n",
       "      <td>ONE_YEAR_FREE</td>\n",
       "      <td>False</td>\n",
       "      <td>True</td>\n",
       "      <td>8</td>\n",
       "      <td>3.70</td>\n",
       "      <td>40.0</td>\n",
       "      <td>753.98</td>\n",
       "      <td>gas</td>\n",
       "      <td>True</td>\n",
       "      <td>True</td>\n",
       "      <td>5.0</td>\n",
       "      <td>553.98</td>\n",
       "      <td>87.33</td>\n",
       "      <td>well_kept</td>\n",
       "      <td>sophisticated</td>\n",
       "      <td>no</td>\n",
       "      <td>True</td>\n",
       "      <td>4</td>\n",
       "      <td>apartment</td>\n",
       "      <td>59759</td>\n",
       "      <td>3</td>\n",
       "      <td>True</td>\n",
       "      <td>4</td>\n",
       "      <td>Hochsauerlandkreis</td>\n",
       "      <td>Arnsberg</td>\n",
       "      <td>1973-1997</td>\n",
       "      <td>floor_0_3</td>\n",
       "    </tr>\n",
       "    <tr>\n",
       "      <th>43</th>\n",
       "      <td>Nordrhein_Westfalen</td>\n",
       "      <td>5.081404</td>\n",
       "      <td>central_heating</td>\n",
       "      <td>ONE_YEAR_FREE</td>\n",
       "      <td>False</td>\n",
       "      <td>False</td>\n",
       "      <td>10</td>\n",
       "      <td>3.03</td>\n",
       "      <td>40.0</td>\n",
       "      <td>655.00</td>\n",
       "      <td>district_heating</td>\n",
       "      <td>True</td>\n",
       "      <td>False</td>\n",
       "      <td>3.0</td>\n",
       "      <td>400.00</td>\n",
       "      <td>65.00</td>\n",
       "      <td>well_kept</td>\n",
       "      <td>unknown</td>\n",
       "      <td>negotiable</td>\n",
       "      <td>False</td>\n",
       "      <td>2</td>\n",
       "      <td>roof_storey</td>\n",
       "      <td>59425</td>\n",
       "      <td>2</td>\n",
       "      <td>False</td>\n",
       "      <td>3</td>\n",
       "      <td>Unna_Kreis</td>\n",
       "      <td>Unna</td>\n",
       "      <td>1973-1997</td>\n",
       "      <td>floor_0_3</td>\n",
       "    </tr>\n",
       "  </tbody>\n",
       "</table>\n",
       "</div>"
      ],
      "text/plain": [
       "                 stateName  serviceCharge                     heatingType  \\\n",
       "0      Nordrhein_Westfalen       5.505332                 central_heating   \n",
       "2                  Sachsen       5.545177                   floor_heating   \n",
       "3                  Sachsen       4.080077                district_heating   \n",
       "4                   Bremen       4.934474  self_contained_central_heating   \n",
       "5       Schleswig_Holstein       4.962845                     gas_heating   \n",
       "7                   Bremen       4.488636                 central_heating   \n",
       "8        Baden_Württemberg       4.709530                     oil_heating   \n",
       "9      Nordrhein_Westfalen       4.564348  self_contained_central_heating   \n",
       "11                 Sachsen       5.049856                 central_heating   \n",
       "12         Rheinland_Pfalz       5.602119                     oil_heating   \n",
       "13     Nordrhein_Westfalen       5.303305                 central_heating   \n",
       "14     Nordrhein_Westfalen       5.375278                     gas_heating   \n",
       "15               Thüringen       4.394449                district_heating   \n",
       "17                 Sachsen       3.931826                 central_heating   \n",
       "18     Nordrhein_Westfalen       4.804021                 central_heating   \n",
       "19           Niedersachsen       5.673323                district_heating   \n",
       "20      Schleswig_Holstein       4.948760                 central_heating   \n",
       "24                 Hamburg       4.948760                 central_heating   \n",
       "25           Niedersachsen       4.394449                district_heating   \n",
       "26       Baden_Württemberg       3.044522                 central_heating   \n",
       "27          Sachsen_Anhalt       4.999372                district_heating   \n",
       "29  Mecklenburg_Vorpommern       4.654151                district_heating   \n",
       "30                  Bayern       5.141664                   floor_heating   \n",
       "31     Nordrhein_Westfalen       4.875197                district_heating   \n",
       "33                 Sachsen       4.394449                 central_heating   \n",
       "35                 Sachsen       4.948760                 central_heating   \n",
       "36                 Sachsen       4.948760                district_heating   \n",
       "39                 Sachsen       4.651099                 central_heating   \n",
       "42     Nordrhein_Westfalen       5.303305                district_heating   \n",
       "43     Nordrhein_Westfalen       5.081404                 central_heating   \n",
       "\n",
       "   telekomTvOffer  newlyConst  balcony  picturecount  pricetrend  \\\n",
       "0   ONE_YEAR_FREE       False    False             6        4.62   \n",
       "2   ONE_YEAR_FREE        True     True             8        2.72   \n",
       "3   ONE_YEAR_FREE       False     True             9        1.53   \n",
       "4         unknown       False     True            19        2.46   \n",
       "5         unknown       False     True             5        4.48   \n",
       "7   ONE_YEAR_FREE       False     True             5        1.89   \n",
       "8   ONE_YEAR_FREE       False    False             5        3.77   \n",
       "9   ONE_YEAR_FREE       False    False             7        1.92   \n",
       "11  ONE_YEAR_FREE       False    False             9        0.98   \n",
       "12        unknown       False    False             4        2.77   \n",
       "13  ONE_YEAR_FREE       False    False             3        3.45   \n",
       "14  ONE_YEAR_FREE        True     True            12        3.76   \n",
       "15  ONE_YEAR_FREE       False     True             5        1.67   \n",
       "17  ONE_YEAR_FREE       False    False            12        1.96   \n",
       "18  ONE_YEAR_FREE       False     True             5        3.12   \n",
       "19  ONE_YEAR_FREE       False     True            35        2.35   \n",
       "20  ONE_YEAR_FREE       False     True            15        5.00   \n",
       "24  ONE_YEAR_FREE       False     True             9        6.30   \n",
       "25  ONE_YEAR_FREE       False    False             7        0.59   \n",
       "26  ONE_YEAR_FREE       False    False             7        4.65   \n",
       "27  ONE_YEAR_FREE       False     True            14        1.08   \n",
       "29  ONE_YEAR_FREE        True     True            13        3.72   \n",
       "30  ONE_YEAR_FREE       False     True            15        6.49   \n",
       "31  ONE_YEAR_FREE       False     True            14        3.90   \n",
       "33  ONE_YEAR_FREE       False    False             4        1.94   \n",
       "35  ONE_YEAR_FREE       False    False            14        1.64   \n",
       "36  ONE_YEAR_FREE       False     True             9        2.10   \n",
       "39  ONE_YEAR_FREE       False     True             9        0.74   \n",
       "42  ONE_YEAR_FREE       False     True             8        3.70   \n",
       "43  ONE_YEAR_FREE       False    False            10        3.03   \n",
       "\n",
       "    telekomUploadSpeed  totalRent        firingTypes  hasKitchen  cellar  \\\n",
       "0                 10.0     840.00                oil       False    True   \n",
       "2                  2.4    1300.00   district_heating       False    True   \n",
       "3                 40.0     655.00   district_heating       False   False   \n",
       "4                 40.0     903.00                gas       False   False   \n",
       "5                  2.4     655.00                gas        True   False   \n",
       "7                  2.4     584.25    gas:electricity       False    True   \n",
       "8                 40.0     690.00                oil        True    True   \n",
       "9                 40.0     655.00                gas       False    True   \n",
       "11                 2.4     555.00                gas       False    True   \n",
       "12                 2.4     920.00   district_heating       False   False   \n",
       "13                40.0    1150.00                oil       False   False   \n",
       "14                 2.4    1320.65                gas       False    True   \n",
       "15                 2.4     300.00   district_heating       False    True   \n",
       "17                40.0     325.00                gas       False   False   \n",
       "18                40.0     655.00                gas       False    True   \n",
       "19                 5.0    1878.48   district_heating       False    True   \n",
       "20                10.0    1450.00                gas       False    True   \n",
       "24                40.0     760.00   district_heating       False    True   \n",
       "25                40.0     396.00   district_heating       False   False   \n",
       "26                10.0     355.00        electricity       False   False   \n",
       "27                40.0     447.62   district_heating       False    True   \n",
       "29                40.0     624.10   district_heating       False    True   \n",
       "30                 2.4     970.00                oil        True    True   \n",
       "31                40.0     445.18   district_heating       False    True   \n",
       "33                40.0     245.00                gas        True   False   \n",
       "35                 2.4     548.00  natural_gas_light       False    True   \n",
       "36                40.0     546.00   district_heating       False    True   \n",
       "39                40.0     655.00   district_heating       False    True   \n",
       "42                40.0     753.98                gas        True    True   \n",
       "43                40.0     655.00   district_heating        True   False   \n",
       "\n",
       "   yearConstructedRange  baseRent  livingSpace  \\\n",
       "0                   2.0    595.00        86.00   \n",
       "2                   9.0    965.00        83.80   \n",
       "3                   2.0    343.00        58.15   \n",
       "4                   1.0    765.00        84.97   \n",
       "5                   5.0    315.20        53.43   \n",
       "7                   2.0    452.25        60.30   \n",
       "8                   2.0    580.00        53.00   \n",
       "9                   2.0    300.00        60.00   \n",
       "11                  1.0    400.00        80.00   \n",
       "12                  1.0    650.00       100.00   \n",
       "13                  2.0    950.00       123.44   \n",
       "14                  9.0    972.60        87.00   \n",
       "15                  4.0    220.00        36.63   \n",
       "17                  1.0    200.00        50.00   \n",
       "18                  1.0    329.00        65.00   \n",
       "19                  8.0   1343.48       127.95   \n",
       "20                  3.0   1150.00       160.00   \n",
       "24                  2.0    620.00        55.89   \n",
       "25                  1.0    316.00        31.00   \n",
       "26                  1.0    335.00        12.00   \n",
       "27                  3.0    300.30        56.66   \n",
       "29                  9.0    520.08        47.28   \n",
       "30                  3.0    800.00       106.08   \n",
       "31                  3.0    315.18        60.00   \n",
       "33                  1.0    165.00        35.00   \n",
       "35                  5.0    408.00        58.22   \n",
       "36                  2.0    406.00        74.00   \n",
       "39                  1.0    246.00        43.93   \n",
       "42                  5.0    553.98        87.33   \n",
       "43                  3.0    400.00        65.00   \n",
       "\n",
       "                             condition   interiorQual petsAllowed   lift  \\\n",
       "0                            well_kept         normal     unknown  False   \n",
       "2                       first_time_use  sophisticated     unknown   True   \n",
       "3                              unknown        unknown     unknown  False   \n",
       "4                          refurbished        unknown     unknown  False   \n",
       "5                            well_kept        unknown          no  False   \n",
       "7                              unknown        unknown     unknown  False   \n",
       "8                            well_kept  sophisticated          no  False   \n",
       "9                            well_kept         normal  negotiable  False   \n",
       "11                           well_kept         normal  negotiable  False   \n",
       "12                      mint_condition  sophisticated          no  False   \n",
       "13  first_time_use_after_refurbishment  sophisticated     unknown  False   \n",
       "14                      first_time_use  sophisticated  negotiable   True   \n",
       "15  first_time_use_after_refurbishment        unknown     unknown  False   \n",
       "17                         refurbished         normal     unknown  False   \n",
       "18                           well_kept        unknown  negotiable  False   \n",
       "19                      mint_condition  sophisticated  negotiable   True   \n",
       "20                           well_kept  sophisticated  negotiable  False   \n",
       "24                     fully_renovated         normal  negotiable  False   \n",
       "25                             unknown        unknown          no  False   \n",
       "26                             unknown        unknown     unknown  False   \n",
       "27                             unknown        unknown         yes   True   \n",
       "29                      first_time_use        unknown     unknown   True   \n",
       "30                             unknown        unknown  negotiable  False   \n",
       "31                             unknown        unknown  negotiable   True   \n",
       "33                     fully_renovated         normal     unknown  False   \n",
       "35                             unknown        unknown     unknown  False   \n",
       "36                         refurbished        unknown  negotiable  False   \n",
       "39                           well_kept         normal  negotiable  False   \n",
       "42                           well_kept  sophisticated          no   True   \n",
       "43                           well_kept        unknown  negotiable  False   \n",
       "\n",
       "    baseRentRange           typeOfFlat geo_plz noRooms  garden  \\\n",
       "0               4         ground_floor   44269       4    True   \n",
       "2               6            apartment   01097       3   False   \n",
       "3               2                other   09599       3   False   \n",
       "4               5            apartment   28213       3   False   \n",
       "5               2            apartment   24891       2   False   \n",
       "7               3         ground_floor   28717       3   False   \n",
       "8               4          roof_storey   79211       2   False   \n",
       "9               1            apartment   45888       2   False   \n",
       "11              2            apartment   09669       3    True   \n",
       "12              5         ground_floor   76833       4    True   \n",
       "13              6            apartment   59065       4   False   \n",
       "14              6         ground_floor   44229       3   False   \n",
       "15              1            apartment   99427       1   False   \n",
       "17              1          roof_storey   04720       2    True   \n",
       "18              2            apartment   47166       2   False   \n",
       "19              7            apartment   37073       5   False   \n",
       "20              7         ground_floor   24539       4    True   \n",
       "24              5            apartment   22111       3   False   \n",
       "25              2          roof_storey   38118       1   False   \n",
       "26              2                other   72622       1   False   \n",
       "27              1            apartment   39128       3   False   \n",
       "29              4  raised_ground_floor   19055       2   False   \n",
       "30              5         ground_floor   94036       2   False   \n",
       "31              2        terraced_flat   40699       2    True   \n",
       "33              1         ground_floor   08468       2   False   \n",
       "35              3            apartment   01705       2   False   \n",
       "36              3            apartment   02708       3   False   \n",
       "39              1         ground_floor   01589       2    True   \n",
       "42              4            apartment   59759       3    True   \n",
       "43              2          roof_storey   59425       2   False   \n",
       "\n",
       "   livingSpaceRange                                cityName  \\\n",
       "0                 4                                Dortmund   \n",
       "2                 4                                 Dresden   \n",
       "3                 2                     Mittelsachsen_Kreis   \n",
       "4                 4                                  Bremen   \n",
       "5                 2               Schleswig_Flensburg_Kreis   \n",
       "7                 2                                  Bremen   \n",
       "8                 2                       Emmendingen_Kreis   \n",
       "9                 2                           Gelsenkirchen   \n",
       "11                3                     Mittelsachsen_Kreis   \n",
       "12                4               Südliche_Weinstraße_Kreis   \n",
       "13                6                                    Hamm   \n",
       "14                4                                Dortmund   \n",
       "15                1                                  Weimar   \n",
       "17                2                     Mittelsachsen_Kreis   \n",
       "18                3                                Duisburg   \n",
       "19                6                         Göttingen_Kreis   \n",
       "20                7                              Neumünster   \n",
       "24                2                                 Hamburg   \n",
       "25                1                            Braunschweig   \n",
       "26                1                         Esslingen_Kreis   \n",
       "27                2                               Magdeburg   \n",
       "29                2                                Schwerin   \n",
       "30                5                                  Passau   \n",
       "31                2                          Mettmann_Kreis   \n",
       "33                1                           Vogtlandkreis   \n",
       "35                2  Sächsische_Schweiz_Osterzgebirge_Kreis   \n",
       "36                3                           Görlitz_Kreis   \n",
       "39                2                            Meißen_Kreis   \n",
       "42                4                      Hochsauerlandkreis   \n",
       "43                3                              Unna_Kreis   \n",
       "\n",
       "                  cityDistrict yearConstructed_category  \\\n",
       "0                      Schüren                1952-1973   \n",
       "2   Äußere_Neustadt_Antonstadt                1997-2030   \n",
       "3                     Freiberg                1952-1973   \n",
       "4            Neu_Schwachhausen                1881-1952   \n",
       "5                    Struxdorf                1997-2030   \n",
       "7                   St._Magnus                1952-1973   \n",
       "8                   Denzlingen                1952-1973   \n",
       "9                Bulmke_Hüllen                1952-1973   \n",
       "11         Frankenberg/Sachsen                1881-1952   \n",
       "12                 Frankweiler                1881-1952   \n",
       "13                       Mitte                1881-1952   \n",
       "14                  Kirchhörde                1997-2030   \n",
       "15                   Schöndorf                1973-1997   \n",
       "17                      Döbeln                1881-1952   \n",
       "18                 Obermarxloh                1881-1952   \n",
       "19                   Göttingen                1997-2030   \n",
       "20                     Wittorf                1973-1997   \n",
       "24                        Horn                1952-1973   \n",
       "25       Westliches_Ringgebiet                1881-1952   \n",
       "26                   Nürtingen                1881-1952   \n",
       "27                 Kannenstieg                1973-1997   \n",
       "29                  Paulsstadt                1997-2030   \n",
       "30               Haidenhof_Süd                1973-1997   \n",
       "31                     Erkrath                1973-1997   \n",
       "33     Reichenbach_im_Vogtland                1881-1952   \n",
       "35                     Freital                1973-1997   \n",
       "36                       Löbau                1952-1973   \n",
       "39                       Riesa                1881-1952   \n",
       "42                    Arnsberg                1973-1997   \n",
       "43                        Unna                1973-1997   \n",
       "\n",
       "            floor_category  \n",
       "0                floor_0_3  \n",
       "2                floor_0_3  \n",
       "3                floor_0_3  \n",
       "4                floor_0_3  \n",
       "5                floor_0_3  \n",
       "7                floor_0_3  \n",
       "8                floor_0_3  \n",
       "9                floor_0_3  \n",
       "11               floor_0_3  \n",
       "12               floor_0_3  \n",
       "13               floor_4_5  \n",
       "14  ground_floor_and_below  \n",
       "15               floor_4_5  \n",
       "17               floor_0_3  \n",
       "18               floor_0_3  \n",
       "19               floor_0_3  \n",
       "20  ground_floor_and_below  \n",
       "24               floor_0_3  \n",
       "25               floor_0_3  \n",
       "26               floor_0_3  \n",
       "27              floor_6_45  \n",
       "29               floor_0_3  \n",
       "30               floor_0_3  \n",
       "31  ground_floor_and_below  \n",
       "33               floor_0_3  \n",
       "35               floor_0_3  \n",
       "36               floor_0_3  \n",
       "39               floor_0_3  \n",
       "42               floor_0_3  \n",
       "43               floor_0_3  "
      ]
     },
     "execution_count": 130,
     "metadata": {},
     "output_type": "execute_result"
    }
   ],
   "source": [
    "data.head(30)"
   ]
  },
  {
   "cell_type": "code",
   "execution_count": 131,
   "metadata": {},
   "outputs": [
    {
     "data": {
      "text/plain": [
       "(200206, 30)"
      ]
     },
     "execution_count": 131,
     "metadata": {},
     "output_type": "execute_result"
    }
   ],
   "source": [
    "data.shape"
   ]
  },
  {
   "cell_type": "code",
   "execution_count": 132,
   "metadata": {},
   "outputs": [
    {
     "data": {
      "text/plain": [
       "stateName                   0\n",
       "serviceCharge               0\n",
       "heatingType                 0\n",
       "telekomTvOffer              0\n",
       "newlyConst                  0\n",
       "balcony                     0\n",
       "picturecount                0\n",
       "pricetrend                  0\n",
       "telekomUploadSpeed          0\n",
       "totalRent                   0\n",
       "firingTypes                 0\n",
       "hasKitchen                  0\n",
       "cellar                      0\n",
       "yearConstructedRange        0\n",
       "baseRent                    0\n",
       "livingSpace                 0\n",
       "condition                   0\n",
       "interiorQual                0\n",
       "petsAllowed                 0\n",
       "lift                        0\n",
       "baseRentRange               0\n",
       "typeOfFlat                  0\n",
       "geo_plz                     0\n",
       "noRooms                     0\n",
       "garden                      0\n",
       "livingSpaceRange            0\n",
       "cityName                    0\n",
       "cityDistrict                0\n",
       "yearConstructed_category    0\n",
       "floor_category              0\n",
       "dtype: int64"
      ]
     },
     "execution_count": 132,
     "metadata": {},
     "output_type": "execute_result"
    }
   ],
   "source": [
    "data.isna().sum()"
   ]
  },
  {
   "cell_type": "markdown",
   "metadata": {},
   "source": [
    "## 5 Export cleaned data"
   ]
  },
  {
   "cell_type": "code",
   "execution_count": 135,
   "metadata": {},
   "outputs": [],
   "source": [
    "def export_dataframe(dataframe, file_name):\n",
    "    # Define the path where the CSV will be saved\n",
    "    path = '/Users/sudhirjoon/Library/Mobile Documents/com~apple~CloudDocs/Uni_Mannheim/Sem2/Machine Learning zoomcamp/MLZoomcamp/Midterm Project/German Real State Project/Data'\n",
    "    \n",
    "    # Ensure the directory exists\n",
    "    os.makedirs(path, exist_ok=True)\n",
    "    \n",
    "    # Create the full file path\n",
    "    file_path = os.path.join(path, file_name)\n",
    "    \n",
    "    # Export the dataframe to CSV\n",
    "    dataframe.to_csv(file_path, index=False)\n",
    "    \n",
    "    print(f\"DataFrame exported to: {file_path}\")\n"
   ]
  },
  {
   "cell_type": "code",
   "execution_count": 136,
   "metadata": {},
   "outputs": [
    {
     "name": "stdout",
     "output_type": "stream",
     "text": [
      "DataFrame exported to: /Users/sudhirjoon/Library/Mobile Documents/com~apple~CloudDocs/Uni_Mannheim/Sem2/Machine Learning zoomcamp/MLZoomcamp/Midterm Project/German Real State Project/Data/cleaned_data.csv\n"
     ]
    }
   ],
   "source": [
    "export_dataframe(data, 'cleaned_data.csv')"
   ]
  },
  {
   "cell_type": "code",
   "execution_count": null,
   "metadata": {},
   "outputs": [],
   "source": []
  },
  {
   "cell_type": "code",
   "execution_count": null,
   "metadata": {},
   "outputs": [],
   "source": []
  }
 ],
 "metadata": {
  "kernelspec": {
   "display_name": "base",
   "language": "python",
   "name": "python3"
  },
  "language_info": {
   "codemirror_mode": {
    "name": "ipython",
    "version": 3
   },
   "file_extension": ".py",
   "mimetype": "text/x-python",
   "name": "python",
   "nbconvert_exporter": "python",
   "pygments_lexer": "ipython3",
   "version": "3.11.7"
  }
 },
 "nbformat": 4,
 "nbformat_minor": 2
}
