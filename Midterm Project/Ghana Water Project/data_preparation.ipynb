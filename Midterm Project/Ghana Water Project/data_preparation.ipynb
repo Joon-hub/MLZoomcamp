{
 "cells": [
  {
   "cell_type": "code",
   "execution_count": 50,
   "metadata": {},
   "outputs": [
    {
     "name": "stdout",
     "output_type": "stream",
     "text": [
      "(20000, 39) (20000, 1)\n"
     ]
    }
   ],
   "source": [
    "import pandas as pd \n",
    "import numpy as np\n",
    "\n",
    "train = pd.read_csv('water_train.csv').drop('id', axis= 1).sample(n =20000, random_state=2)\n",
    "test = pd.read_csv('water_train_label.csv').drop('id', axis= 1).sample(n =20000, random_state=2)\n",
    "print(train.shape, test.shape)"
   ]
  },
  {
   "cell_type": "code",
   "execution_count": 51,
   "metadata": {},
   "outputs": [
    {
     "data": {
      "text/plain": [
       "status_group\n",
       "functional                 10851\n",
       "non functional              7698\n",
       "functional needs repair     1451\n",
       "Name: count, dtype: int64"
      ]
     },
     "execution_count": 51,
     "metadata": {},
     "output_type": "execute_result"
    }
   ],
   "source": [
    "test.status_group.value_counts()"
   ]
  },
  {
   "cell_type": "code",
   "execution_count": 52,
   "metadata": {},
   "outputs": [
    {
     "data": {
      "text/html": [
       "<div>\n",
       "<style scoped>\n",
       "    .dataframe tbody tr th:only-of-type {\n",
       "        vertical-align: middle;\n",
       "    }\n",
       "\n",
       "    .dataframe tbody tr th {\n",
       "        vertical-align: top;\n",
       "    }\n",
       "\n",
       "    .dataframe thead th {\n",
       "        text-align: right;\n",
       "    }\n",
       "</style>\n",
       "<table border=\"1\" class=\"dataframe\">\n",
       "  <thead>\n",
       "    <tr style=\"text-align: right;\">\n",
       "      <th></th>\n",
       "      <th>amount_tsh</th>\n",
       "      <th>date_recorded</th>\n",
       "      <th>funder</th>\n",
       "      <th>gps_height</th>\n",
       "      <th>installer</th>\n",
       "      <th>longitude</th>\n",
       "      <th>latitude</th>\n",
       "      <th>wpt_name</th>\n",
       "      <th>num_private</th>\n",
       "      <th>basin</th>\n",
       "      <th>...</th>\n",
       "      <th>payment_type</th>\n",
       "      <th>water_quality</th>\n",
       "      <th>quality_group</th>\n",
       "      <th>quantity</th>\n",
       "      <th>quantity_group</th>\n",
       "      <th>source</th>\n",
       "      <th>source_type</th>\n",
       "      <th>source_class</th>\n",
       "      <th>waterpoint_type</th>\n",
       "      <th>waterpoint_type_group</th>\n",
       "    </tr>\n",
       "  </thead>\n",
       "  <tbody>\n",
       "    <tr>\n",
       "      <th>2099</th>\n",
       "      <td>0.0</td>\n",
       "      <td>2013-02-07</td>\n",
       "      <td>Fini Water</td>\n",
       "      <td>48</td>\n",
       "      <td>Fini water</td>\n",
       "      <td>40.177347</td>\n",
       "      <td>-10.483661</td>\n",
       "      <td>Kwa Namalili</td>\n",
       "      <td>0</td>\n",
       "      <td>Ruvuma / Southern Coast</td>\n",
       "      <td>...</td>\n",
       "      <td>unknown</td>\n",
       "      <td>milky</td>\n",
       "      <td>milky</td>\n",
       "      <td>enough</td>\n",
       "      <td>enough</td>\n",
       "      <td>shallow well</td>\n",
       "      <td>shallow well</td>\n",
       "      <td>groundwater</td>\n",
       "      <td>other</td>\n",
       "      <td>other</td>\n",
       "    </tr>\n",
       "    <tr>\n",
       "      <th>13681</th>\n",
       "      <td>0.0</td>\n",
       "      <td>2013-02-22</td>\n",
       "      <td>Jaica</td>\n",
       "      <td>1474</td>\n",
       "      <td>JAICA</td>\n",
       "      <td>34.563707</td>\n",
       "      <td>-1.722762</td>\n",
       "      <td>Baru</td>\n",
       "      <td>0</td>\n",
       "      <td>Lake Victoria</td>\n",
       "      <td>...</td>\n",
       "      <td>unknown</td>\n",
       "      <td>salty</td>\n",
       "      <td>salty</td>\n",
       "      <td>enough</td>\n",
       "      <td>enough</td>\n",
       "      <td>machine dbh</td>\n",
       "      <td>borehole</td>\n",
       "      <td>groundwater</td>\n",
       "      <td>hand pump</td>\n",
       "      <td>hand pump</td>\n",
       "    </tr>\n",
       "    <tr>\n",
       "      <th>55259</th>\n",
       "      <td>0.0</td>\n",
       "      <td>2013-03-17</td>\n",
       "      <td>Wfp</td>\n",
       "      <td>1909</td>\n",
       "      <td>Active MKM</td>\n",
       "      <td>35.369368</td>\n",
       "      <td>-1.867549</td>\n",
       "      <td>Shuleni</td>\n",
       "      <td>0</td>\n",
       "      <td>Lake Victoria</td>\n",
       "      <td>...</td>\n",
       "      <td>never pay</td>\n",
       "      <td>soft</td>\n",
       "      <td>good</td>\n",
       "      <td>seasonal</td>\n",
       "      <td>seasonal</td>\n",
       "      <td>rainwater harvesting</td>\n",
       "      <td>rainwater harvesting</td>\n",
       "      <td>surface</td>\n",
       "      <td>communal standpipe</td>\n",
       "      <td>communal standpipe</td>\n",
       "    </tr>\n",
       "    <tr>\n",
       "      <th>2649</th>\n",
       "      <td>500.0</td>\n",
       "      <td>2011-02-21</td>\n",
       "      <td>Adb</td>\n",
       "      <td>1772</td>\n",
       "      <td>DWE</td>\n",
       "      <td>34.865276</td>\n",
       "      <td>-9.045687</td>\n",
       "      <td>Dispensary</td>\n",
       "      <td>0</td>\n",
       "      <td>Rufiji</td>\n",
       "      <td>...</td>\n",
       "      <td>monthly</td>\n",
       "      <td>soft</td>\n",
       "      <td>good</td>\n",
       "      <td>enough</td>\n",
       "      <td>enough</td>\n",
       "      <td>hand dtw</td>\n",
       "      <td>borehole</td>\n",
       "      <td>groundwater</td>\n",
       "      <td>hand pump</td>\n",
       "      <td>hand pump</td>\n",
       "    </tr>\n",
       "    <tr>\n",
       "      <th>40353</th>\n",
       "      <td>0.0</td>\n",
       "      <td>2011-03-05</td>\n",
       "      <td>Tabea</td>\n",
       "      <td>46</td>\n",
       "      <td>DWE</td>\n",
       "      <td>38.758088</td>\n",
       "      <td>-6.781934</td>\n",
       "      <td>none</td>\n",
       "      <td>0</td>\n",
       "      <td>Wami / Ruvu</td>\n",
       "      <td>...</td>\n",
       "      <td>never pay</td>\n",
       "      <td>salty</td>\n",
       "      <td>salty</td>\n",
       "      <td>insufficient</td>\n",
       "      <td>insufficient</td>\n",
       "      <td>river</td>\n",
       "      <td>river/lake</td>\n",
       "      <td>surface</td>\n",
       "      <td>hand pump</td>\n",
       "      <td>hand pump</td>\n",
       "    </tr>\n",
       "  </tbody>\n",
       "</table>\n",
       "<p>5 rows × 39 columns</p>\n",
       "</div>"
      ],
      "text/plain": [
       "       amount_tsh date_recorded      funder  gps_height   installer  \\\n",
       "2099          0.0    2013-02-07  Fini Water          48  Fini water   \n",
       "13681         0.0    2013-02-22       Jaica        1474       JAICA   \n",
       "55259         0.0    2013-03-17         Wfp        1909  Active MKM   \n",
       "2649        500.0    2011-02-21         Adb        1772         DWE   \n",
       "40353         0.0    2011-03-05       Tabea          46         DWE   \n",
       "\n",
       "       longitude   latitude      wpt_name  num_private  \\\n",
       "2099   40.177347 -10.483661  Kwa Namalili            0   \n",
       "13681  34.563707  -1.722762          Baru            0   \n",
       "55259  35.369368  -1.867549       Shuleni            0   \n",
       "2649   34.865276  -9.045687    Dispensary            0   \n",
       "40353  38.758088  -6.781934          none            0   \n",
       "\n",
       "                         basin  ... payment_type water_quality  quality_group  \\\n",
       "2099   Ruvuma / Southern Coast  ...      unknown         milky          milky   \n",
       "13681            Lake Victoria  ...      unknown         salty          salty   \n",
       "55259            Lake Victoria  ...    never pay          soft           good   \n",
       "2649                    Rufiji  ...      monthly          soft           good   \n",
       "40353              Wami / Ruvu  ...    never pay         salty          salty   \n",
       "\n",
       "           quantity quantity_group                source  \\\n",
       "2099         enough         enough          shallow well   \n",
       "13681        enough         enough           machine dbh   \n",
       "55259      seasonal       seasonal  rainwater harvesting   \n",
       "2649         enough         enough              hand dtw   \n",
       "40353  insufficient   insufficient                 river   \n",
       "\n",
       "                source_type source_class     waterpoint_type  \\\n",
       "2099           shallow well  groundwater               other   \n",
       "13681              borehole  groundwater           hand pump   \n",
       "55259  rainwater harvesting      surface  communal standpipe   \n",
       "2649               borehole  groundwater           hand pump   \n",
       "40353            river/lake      surface           hand pump   \n",
       "\n",
       "      waterpoint_type_group  \n",
       "2099                  other  \n",
       "13681             hand pump  \n",
       "55259    communal standpipe  \n",
       "2649              hand pump  \n",
       "40353             hand pump  \n",
       "\n",
       "[5 rows x 39 columns]"
      ]
     },
     "execution_count": 52,
     "metadata": {},
     "output_type": "execute_result"
    }
   ],
   "source": [
    "train.head()"
   ]
  },
  {
   "cell_type": "code",
   "execution_count": 53,
   "metadata": {},
   "outputs": [],
   "source": [
    "from sklearn.model_selection import train_test_split\n",
    "\n",
    "X_full_train, X_test, y_full_train, y_test = train_test_split(train, test, test_size=0.2, random_state=42)\n",
    "X_train, X_val, y_train, y_val = train_test_split(X_full_train, y_full_train, test_size=0.25, random_state=42)"
   ]
  },
  {
   "cell_type": "code",
   "execution_count": 54,
   "metadata": {},
   "outputs": [],
   "source": [
    "# import dictvectorizer from sklearn.\n",
    "\n",
    "from sklearn.feature_extraction import DictVectorizer\n",
    "\n",
    "dv = DictVectorizer(sparse=False)\n",
    "X_train_dict = X_train.to_dict(orient='records')\n",
    "X_val_dict = X_test.to_dict(orient='records')\n",
    "X_test_dict = X_test.to_dict(orient='records')\n",
    "\n",
    "X_train_dv = dv.fit_transform(X_train_dict)\n",
    "X_val_dv = dv.transform(X_val_dict)\n",
    "X_test_dv = dv.transform(X_test_dict)"
   ]
  },
  {
   "cell_type": "code",
   "execution_count": 55,
   "metadata": {},
   "outputs": [
    {
     "data": {
      "text/plain": [
       "array(['amount_tsh', 'basin=Internal', 'basin=Lake Nyasa', ...,\n",
       "       'wpt_name=Zoza', 'wpt_name=Zuleha', 'wpt_name=none'], dtype=object)"
      ]
     },
     "execution_count": 55,
     "metadata": {},
     "output_type": "execute_result"
    }
   ],
   "source": [
    "dv.get_feature_names_out()"
   ]
  },
  {
   "cell_type": "code",
   "execution_count": 56,
   "metadata": {},
   "outputs": [
    {
     "data": {
      "text/plain": [
       "0.73925"
      ]
     },
     "execution_count": 56,
     "metadata": {},
     "output_type": "execute_result"
    }
   ],
   "source": [
    "# import decision tree classifier from sklearn.tree\n",
    "\n",
    "from sklearn.tree import DecisionTreeClassifier\n",
    "\n",
    "dt = DecisionTreeClassifier()\n",
    "dt.fit(X_train_dv, y_train)\n",
    "y_pred = dt.predict(X_test_dv)\n",
    "from sklearn.metrics import accuracy_score\n",
    "\n",
    "accuracy_score(y_test, y_pred)"
   ]
  },
  {
   "cell_type": "code",
   "execution_count": 62,
   "metadata": {},
   "outputs": [
    {
     "data": {
      "text/plain": [
       "0.73925"
      ]
     },
     "execution_count": 62,
     "metadata": {},
     "output_type": "execute_result"
    }
   ],
   "source": [
    "# import gridsearch cv \n",
    "from sklearn.model_selection import GridSearchCV\n",
    "\n",
    "param_grid = {'max_depth': [3, 5, 7, 9],\n",
    "              'min_samples_split': [2, 5, 10],\n",
    "              'min_samples_leaf': [1, 2, 4],}\n",
    "grid_search = GridSearchCV(dt, param_grid, cv=3,error_score='raise')\n",
    "grid_search.fit(X_train_dv, y_train)\n",
    "grid_search.best_params_\n",
    "\n",
    "accuracy_score(y_test, y_pred)"
   ]
  },
  {
   "cell_type": "code",
   "execution_count": 63,
   "metadata": {},
   "outputs": [
    {
     "data": {
      "text/plain": [
       "{'max_depth': 9, 'min_samples_leaf': 1, 'min_samples_split': 5}"
      ]
     },
     "execution_count": 63,
     "metadata": {},
     "output_type": "execute_result"
    }
   ],
   "source": [
    "grid_search.best_params_\n"
   ]
  },
  {
   "cell_type": "code",
   "execution_count": null,
   "metadata": {},
   "outputs": [],
   "source": []
  }
 ],
 "metadata": {
  "kernelspec": {
   "display_name": "base",
   "language": "python",
   "name": "python3"
  },
  "language_info": {
   "codemirror_mode": {
    "name": "ipython",
    "version": 3
   },
   "file_extension": ".py",
   "mimetype": "text/x-python",
   "name": "python",
   "nbconvert_exporter": "python",
   "pygments_lexer": "ipython3",
   "version": "3.11.7"
  }
 },
 "nbformat": 4,
 "nbformat_minor": 2
}
