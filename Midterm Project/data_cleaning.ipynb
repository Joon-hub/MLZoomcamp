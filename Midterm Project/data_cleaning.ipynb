{
 "cells": [
  {
   "cell_type": "code",
   "execution_count": 4,
   "metadata": {},
   "outputs": [],
   "source": [
    "import pandas as pd \n"
   ]
  },
  {
   "cell_type": "code",
   "execution_count": 7,
   "metadata": {},
   "outputs": [
    {
     "data": {
      "text/html": [
       "<div>\n",
       "<style scoped>\n",
       "    .dataframe tbody tr th:only-of-type {\n",
       "        vertical-align: middle;\n",
       "    }\n",
       "\n",
       "    .dataframe tbody tr th {\n",
       "        vertical-align: top;\n",
       "    }\n",
       "\n",
       "    .dataframe thead th {\n",
       "        text-align: right;\n",
       "    }\n",
       "</style>\n",
       "<table border=\"1\" class=\"dataframe\">\n",
       "  <thead>\n",
       "    <tr style=\"text-align: right;\">\n",
       "      <th></th>\n",
       "      <th>property_name</th>\n",
       "      <th>link</th>\n",
       "      <th>society</th>\n",
       "      <th>price</th>\n",
       "      <th>area</th>\n",
       "      <th>areaWithType</th>\n",
       "      <th>bedRoom</th>\n",
       "      <th>bathroom</th>\n",
       "      <th>balcony</th>\n",
       "      <th>additionalRoom</th>\n",
       "      <th>address</th>\n",
       "      <th>floorNum</th>\n",
       "      <th>facing</th>\n",
       "      <th>agePossession</th>\n",
       "      <th>nearbyLocations</th>\n",
       "      <th>description</th>\n",
       "      <th>furnishDetails</th>\n",
       "      <th>features</th>\n",
       "      <th>rating</th>\n",
       "      <th>property_id</th>\n",
       "    </tr>\n",
       "  </thead>\n",
       "  <tbody>\n",
       "    <tr>\n",
       "      <th>0</th>\n",
       "      <td>2 BHK Flat in Krishna Colony</td>\n",
       "      <td>https://www.99acres.com/2-bhk-bedroom-apartmen...</td>\n",
       "      <td>maa bhagwati residency</td>\n",
       "      <td>45 Lac</td>\n",
       "      <td>₹ 5,000/sq.ft.</td>\n",
       "      <td>Carpet area: 900 (83.61 sq.m.)</td>\n",
       "      <td>2 Bedrooms</td>\n",
       "      <td>2 Bathrooms</td>\n",
       "      <td>1 Balcony</td>\n",
       "      <td>NaN</td>\n",
       "      <td>Krishna Colony, Gurgaon, Haryana</td>\n",
       "      <td>4th   of 4 Floors</td>\n",
       "      <td>West</td>\n",
       "      <td>1 to 5 Year Old</td>\n",
       "      <td>['Chintapurni Mandir', 'State bank ATM', 'Pear...</td>\n",
       "      <td>So with lift.Maa bhagwati residency is one of ...</td>\n",
       "      <td>['3 Fan', '4 Light', '1 Wardrobe', 'No AC', 'N...</td>\n",
       "      <td>['Feng Shui / Vaastu Compliant', 'Security / F...</td>\n",
       "      <td>['Environment4 out of 5', 'Safety4 out of 5', ...</td>\n",
       "      <td>C68850746</td>\n",
       "    </tr>\n",
       "    <tr>\n",
       "      <th>1</th>\n",
       "      <td>2 BHK Flat in Ashok Vihar</td>\n",
       "      <td>https://www.99acres.com/2-bhk-bedroom-apartmen...</td>\n",
       "      <td>Apna Enclave</td>\n",
       "      <td>50 Lac</td>\n",
       "      <td>₹ 7,692/sq.ft.</td>\n",
       "      <td>Carpet area: 650 (60.39 sq.m.)</td>\n",
       "      <td>2 Bedrooms</td>\n",
       "      <td>2 Bathrooms</td>\n",
       "      <td>1 Balcony</td>\n",
       "      <td>NaN</td>\n",
       "      <td>46b, Ashok Vihar, Gurgaon, Haryana</td>\n",
       "      <td>1st   of 3 Floors</td>\n",
       "      <td>West</td>\n",
       "      <td>10+ Year Old</td>\n",
       "      <td>['Chintapurni Mandir', 'Sheetla Mata Mandir', ...</td>\n",
       "      <td>Property situated on main road, railway statio...</td>\n",
       "      <td>['3 Wardrobe', '4 Fan', '1 Exhaust Fan', '1 Ge...</td>\n",
       "      <td>['Security / Fire Alarm', 'Maintenance Staff',...</td>\n",
       "      <td>['Environment4 out of 5', 'Safety4 out of 5', ...</td>\n",
       "      <td>H68850564</td>\n",
       "    </tr>\n",
       "  </tbody>\n",
       "</table>\n",
       "</div>"
      ],
      "text/plain": [
       "                  property_name  \\\n",
       "0  2 BHK Flat in Krishna Colony   \n",
       "1     2 BHK Flat in Ashok Vihar   \n",
       "\n",
       "                                                link                 society  \\\n",
       "0  https://www.99acres.com/2-bhk-bedroom-apartmen...  maa bhagwati residency   \n",
       "1  https://www.99acres.com/2-bhk-bedroom-apartmen...            Apna Enclave   \n",
       "\n",
       "    price            area                    areaWithType     bedRoom  \\\n",
       "0  45 Lac  ₹ 5,000/sq.ft.  Carpet area: 900 (83.61 sq.m.)  2 Bedrooms   \n",
       "1  50 Lac  ₹ 7,692/sq.ft.  Carpet area: 650 (60.39 sq.m.)  2 Bedrooms   \n",
       "\n",
       "      bathroom    balcony additionalRoom                             address  \\\n",
       "0  2 Bathrooms  1 Balcony            NaN    Krishna Colony, Gurgaon, Haryana   \n",
       "1  2 Bathrooms  1 Balcony            NaN  46b, Ashok Vihar, Gurgaon, Haryana   \n",
       "\n",
       "            floorNum facing    agePossession  \\\n",
       "0  4th   of 4 Floors   West  1 to 5 Year Old   \n",
       "1  1st   of 3 Floors   West     10+ Year Old   \n",
       "\n",
       "                                     nearbyLocations  \\\n",
       "0  ['Chintapurni Mandir', 'State bank ATM', 'Pear...   \n",
       "1  ['Chintapurni Mandir', 'Sheetla Mata Mandir', ...   \n",
       "\n",
       "                                         description  \\\n",
       "0  So with lift.Maa bhagwati residency is one of ...   \n",
       "1  Property situated on main road, railway statio...   \n",
       "\n",
       "                                      furnishDetails  \\\n",
       "0  ['3 Fan', '4 Light', '1 Wardrobe', 'No AC', 'N...   \n",
       "1  ['3 Wardrobe', '4 Fan', '1 Exhaust Fan', '1 Ge...   \n",
       "\n",
       "                                            features  \\\n",
       "0  ['Feng Shui / Vaastu Compliant', 'Security / F...   \n",
       "1  ['Security / Fire Alarm', 'Maintenance Staff',...   \n",
       "\n",
       "                                              rating property_id  \n",
       "0  ['Environment4 out of 5', 'Safety4 out of 5', ...   C68850746  \n",
       "1  ['Environment4 out of 5', 'Safety4 out of 5', ...   H68850564  "
      ]
     },
     "execution_count": 7,
     "metadata": {},
     "output_type": "execute_result"
    }
   ],
   "source": [
    "data = pd.read_csv('flats.csv')\n",
    "data.head(2)"
   ]
  },
  {
   "cell_type": "code",
   "execution_count": 8,
   "metadata": {},
   "outputs": [
    {
     "data": {
      "text/html": [
       "<div>\n",
       "<style scoped>\n",
       "    .dataframe tbody tr th:only-of-type {\n",
       "        vertical-align: middle;\n",
       "    }\n",
       "\n",
       "    .dataframe tbody tr th {\n",
       "        vertical-align: top;\n",
       "    }\n",
       "\n",
       "    .dataframe thead th {\n",
       "        text-align: right;\n",
       "    }\n",
       "</style>\n",
       "<table border=\"1\" class=\"dataframe\">\n",
       "  <thead>\n",
       "    <tr style=\"text-align: right;\">\n",
       "      <th></th>\n",
       "      <th>property_name</th>\n",
       "      <th>society</th>\n",
       "      <th>price</th>\n",
       "      <th>area</th>\n",
       "      <th>areaWithType</th>\n",
       "      <th>bedRoom</th>\n",
       "      <th>bathroom</th>\n",
       "      <th>balcony</th>\n",
       "      <th>additionalRoom</th>\n",
       "      <th>address</th>\n",
       "      <th>floorNum</th>\n",
       "      <th>facing</th>\n",
       "      <th>agePossession</th>\n",
       "      <th>nearbyLocations</th>\n",
       "      <th>description</th>\n",
       "      <th>furnishDetails</th>\n",
       "      <th>features</th>\n",
       "      <th>rating</th>\n",
       "    </tr>\n",
       "  </thead>\n",
       "  <tbody>\n",
       "    <tr>\n",
       "      <th>0</th>\n",
       "      <td>2 BHK Flat in Krishna Colony</td>\n",
       "      <td>maa bhagwati residency</td>\n",
       "      <td>45 Lac</td>\n",
       "      <td>₹ 5,000/sq.ft.</td>\n",
       "      <td>Carpet area: 900 (83.61 sq.m.)</td>\n",
       "      <td>2 Bedrooms</td>\n",
       "      <td>2 Bathrooms</td>\n",
       "      <td>1 Balcony</td>\n",
       "      <td>NaN</td>\n",
       "      <td>Krishna Colony, Gurgaon, Haryana</td>\n",
       "      <td>4th   of 4 Floors</td>\n",
       "      <td>West</td>\n",
       "      <td>1 to 5 Year Old</td>\n",
       "      <td>['Chintapurni Mandir', 'State bank ATM', 'Pear...</td>\n",
       "      <td>So with lift.Maa bhagwati residency is one of ...</td>\n",
       "      <td>['3 Fan', '4 Light', '1 Wardrobe', 'No AC', 'N...</td>\n",
       "      <td>['Feng Shui / Vaastu Compliant', 'Security / F...</td>\n",
       "      <td>['Environment4 out of 5', 'Safety4 out of 5', ...</td>\n",
       "    </tr>\n",
       "    <tr>\n",
       "      <th>1</th>\n",
       "      <td>2 BHK Flat in Ashok Vihar</td>\n",
       "      <td>Apna Enclave</td>\n",
       "      <td>50 Lac</td>\n",
       "      <td>₹ 7,692/sq.ft.</td>\n",
       "      <td>Carpet area: 650 (60.39 sq.m.)</td>\n",
       "      <td>2 Bedrooms</td>\n",
       "      <td>2 Bathrooms</td>\n",
       "      <td>1 Balcony</td>\n",
       "      <td>NaN</td>\n",
       "      <td>46b, Ashok Vihar, Gurgaon, Haryana</td>\n",
       "      <td>1st   of 3 Floors</td>\n",
       "      <td>West</td>\n",
       "      <td>10+ Year Old</td>\n",
       "      <td>['Chintapurni Mandir', 'Sheetla Mata Mandir', ...</td>\n",
       "      <td>Property situated on main road, railway statio...</td>\n",
       "      <td>['3 Wardrobe', '4 Fan', '1 Exhaust Fan', '1 Ge...</td>\n",
       "      <td>['Security / Fire Alarm', 'Maintenance Staff',...</td>\n",
       "      <td>['Environment4 out of 5', 'Safety4 out of 5', ...</td>\n",
       "    </tr>\n",
       "  </tbody>\n",
       "</table>\n",
       "</div>"
      ],
      "text/plain": [
       "                  property_name                 society   price  \\\n",
       "0  2 BHK Flat in Krishna Colony  maa bhagwati residency  45 Lac   \n",
       "1     2 BHK Flat in Ashok Vihar            Apna Enclave  50 Lac   \n",
       "\n",
       "             area                    areaWithType     bedRoom     bathroom  \\\n",
       "0  ₹ 5,000/sq.ft.  Carpet area: 900 (83.61 sq.m.)  2 Bedrooms  2 Bathrooms   \n",
       "1  ₹ 7,692/sq.ft.  Carpet area: 650 (60.39 sq.m.)  2 Bedrooms  2 Bathrooms   \n",
       "\n",
       "     balcony additionalRoom                             address  \\\n",
       "0  1 Balcony            NaN    Krishna Colony, Gurgaon, Haryana   \n",
       "1  1 Balcony            NaN  46b, Ashok Vihar, Gurgaon, Haryana   \n",
       "\n",
       "            floorNum facing    agePossession  \\\n",
       "0  4th   of 4 Floors   West  1 to 5 Year Old   \n",
       "1  1st   of 3 Floors   West     10+ Year Old   \n",
       "\n",
       "                                     nearbyLocations  \\\n",
       "0  ['Chintapurni Mandir', 'State bank ATM', 'Pear...   \n",
       "1  ['Chintapurni Mandir', 'Sheetla Mata Mandir', ...   \n",
       "\n",
       "                                         description  \\\n",
       "0  So with lift.Maa bhagwati residency is one of ...   \n",
       "1  Property situated on main road, railway statio...   \n",
       "\n",
       "                                      furnishDetails  \\\n",
       "0  ['3 Fan', '4 Light', '1 Wardrobe', 'No AC', 'N...   \n",
       "1  ['3 Wardrobe', '4 Fan', '1 Exhaust Fan', '1 Ge...   \n",
       "\n",
       "                                            features  \\\n",
       "0  ['Feng Shui / Vaastu Compliant', 'Security / F...   \n",
       "1  ['Security / Fire Alarm', 'Maintenance Staff',...   \n",
       "\n",
       "                                              rating  \n",
       "0  ['Environment4 out of 5', 'Safety4 out of 5', ...  \n",
       "1  ['Environment4 out of 5', 'Safety4 out of 5', ...  "
      ]
     },
     "execution_count": 8,
     "metadata": {},
     "output_type": "execute_result"
    }
   ],
   "source": [
    "data.drop(['link','property_id'],axis=1, inplace=True)\n",
    "data.head(2)"
   ]
  },
  {
   "cell_type": "code",
   "execution_count": 9,
   "metadata": {},
   "outputs": [
    {
     "data": {
      "text/plain": [
       "(3017, 18)"
      ]
     },
     "execution_count": 9,
     "metadata": {},
     "output_type": "execute_result"
    }
   ],
   "source": [
    "data.shape"
   ]
  },
  {
   "cell_type": "code",
   "execution_count": 7,
   "metadata": {},
   "outputs": [
    {
     "name": "stdout",
     "output_type": "stream",
     "text": [
      "10 10 10\n"
     ]
    }
   ],
   "source": [
    "import numpy as np\n",
    "x1 = np.array([1,0,1,0,2,2,1,1,2,1])\n",
    "x2 = np.array([1,0,1,0,2,2,1,2,2,2])\n",
    "y = np.array([1,0,1,0,1,1,1,1,1,0])\n",
    "print(len(x1), len(x2), len(y))\n",
    "\n",
    "find the probability y=1 given x1 = 0 , x2 = 2"
   ]
  },
  {
   "cell_type": "code",
   "execution_count": 12,
   "metadata": {},
   "outputs": [
    {
     "name": "stdout",
     "output_type": "stream",
     "text": [
      "0.7 0.30000000000000004\n"
     ]
    }
   ],
   "source": [
    "p_y_1 = np.sum(y)/len(y)\n",
    "p_y_0 = 1 - p_y_1\n",
    "\n",
    "print(p_y_1,p_y_0)"
   ]
  },
  {
   "cell_type": "code",
   "execution_count": null,
   "metadata": {},
   "outputs": [],
   "source": []
  }
 ],
 "metadata": {
  "kernelspec": {
   "display_name": "base",
   "language": "python",
   "name": "python3"
  },
  "language_info": {
   "codemirror_mode": {
    "name": "ipython",
    "version": 3
   },
   "file_extension": ".py",
   "mimetype": "text/x-python",
   "name": "python",
   "nbconvert_exporter": "python",
   "pygments_lexer": "ipython3",
   "version": "3.11.7"
  }
 },
 "nbformat": 4,
 "nbformat_minor": 2
}
